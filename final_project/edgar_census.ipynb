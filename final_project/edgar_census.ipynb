{
 "cells": [
  {
   "cell_type": "markdown",
   "metadata": {},
   "source": [
    "---\n",
    "## Step one: load the required libraries"
   ]
  },
  {
   "cell_type": "code",
   "execution_count": 1,
   "metadata": {},
   "outputs": [
    {
     "name": "stderr",
     "output_type": "stream",
     "text": [
      "your 131072x1 screen size is bogus. expect trouble\n",
      "23/08/06 16:00:04 WARN Utils: Your hostname, LAPTOP resolves to a loopback address: 127.0.1.1; using 172.28.76.17 instead (on interface eth0)\n",
      "23/08/06 16:00:04 WARN Utils: Set SPARK_LOCAL_IP if you need to bind to another address\n",
      "Setting default log level to \"WARN\".\n",
      "To adjust logging level use sc.setLogLevel(newLevel). For SparkR, use setLogLevel(newLevel).\n",
      "23/08/06 16:00:05 WARN NativeCodeLoader: Unable to load native-hadoop library for your platform... using builtin-java classes where applicable\n"
     ]
    },
    {
     "data": {
      "text/plain": [
       "True"
      ]
     },
     "execution_count": 1,
     "metadata": {},
     "output_type": "execute_result"
    }
   ],
   "source": [
    "import numpy as np\n",
    "import nltk\n",
    "import matplotlib.pyplot as plt\n",
    "import seaborn as sns\n",
    "from pyspark.sql import functions as F\n",
    "from pyspark.sql.functions import when, col\n",
    "from pyspark.ml.feature import (\n",
    "    Bucketizer,\n",
    "    OneHotEncoder,\n",
    "    StringIndexer, \n",
    ")\n",
    "from pyspark.ml import Pipeline\n",
    "from pyspark.ml.classification import (\n",
    "    LogisticRegression,\n",
    "    RandomForestClassifier,\n",
    ")\n",
    "from pyspark.ml.evaluation import (\n",
    "    BinaryClassificationEvaluator,\n",
    "    MulticlassClassificationEvaluator,\n",
    "    RegressionEvaluator,\n",
    ")\n",
    "from pyspark.ml.feature import SQLTransformer\n",
    "from pyspark.ml.feature import (\n",
    "    StringIndexer,\n",
    "    VectorAssembler,\n",
    "    StandardScaler\n",
    ")\n",
    "from pyspark.ml.regression import RandomForestRegressor\n",
    "from pyspark.mllib.evaluation import (\n",
    "    BinaryClassificationMetrics,\n",
    "    MulticlassMetrics, \n",
    ")\n",
    "from pyspark.ml.classification import RandomForestClassifier, GBTClassifier\n",
    "from pyspark.mllib.linalg import DenseMatrix\n",
    "from pyspark.sql import SparkSession\n",
    "from pyspark.sql.functions import col\n",
    "\n",
    "# Create Spark session\n",
    "spark = SparkSession.builder\\\n",
    "    .appName(\"census_data\") \\\n",
    "    .getOrCreate()\n",
    "# Set the logging level to ERROR\n",
    "spark.sparkContext.setLogLevel(\"ERROR\")\n",
    "nltk.download('wordnet', quiet=True)"
   ]
  },
  {
   "cell_type": "markdown",
   "metadata": {},
   "source": [
    "## Step Two: load the data"
   ]
  },
  {
   "cell_type": "code",
   "execution_count": 2,
   "metadata": {},
   "outputs": [],
   "source": [
    "data = spark.read.csv(\n",
    "    \"adult.csv\", \n",
    "    escape='\"',\n",
    "    header=True, \n",
    "    inferSchema=True,\n",
    ")\n"
   ]
  },
  {
   "cell_type": "code",
   "execution_count": 3,
   "metadata": {},
   "outputs": [
    {
     "name": "stdout",
     "output_type": "stream",
     "text": [
      "+---+----------------+------+------------+---------------+------------------+-----------------+-------------+------------------+------+------------+------------+--------------+--------------+------+\n",
      "|age|       workclass|fnlwgt|   education|educational-num|    marital-status|       occupation| relationship|              race|gender|capital-gain|capital-loss|hours-per-week|native-country|income|\n",
      "+---+----------------+------+------------+---------------+------------------+-----------------+-------------+------------------+------+------------+------------+--------------+--------------+------+\n",
      "| 25|         Private|226802|        11th|              7|     Never-married|Machine-op-inspct|    Own-child|             Black|  Male|           0|           0|            40| United-States| <=50K|\n",
      "| 38|         Private| 89814|     HS-grad|              9|Married-civ-spouse|  Farming-fishing|      Husband|             White|  Male|           0|           0|            50| United-States| <=50K|\n",
      "| 28|       Local-gov|336951|  Assoc-acdm|             12|Married-civ-spouse|  Protective-serv|      Husband|             White|  Male|           0|           0|            40| United-States|  >50K|\n",
      "| 44|         Private|160323|Some-college|             10|Married-civ-spouse|Machine-op-inspct|      Husband|             Black|  Male|        7688|           0|            40| United-States|  >50K|\n",
      "| 18|               ?|103497|Some-college|             10|     Never-married|                ?|    Own-child|             White|Female|           0|           0|            30| United-States| <=50K|\n",
      "| 34|         Private|198693|        10th|              6|     Never-married|    Other-service|Not-in-family|             White|  Male|           0|           0|            30| United-States| <=50K|\n",
      "| 29|               ?|227026|     HS-grad|              9|     Never-married|                ?|    Unmarried|             Black|  Male|           0|           0|            40| United-States| <=50K|\n",
      "| 63|Self-emp-not-inc|104626| Prof-school|             15|Married-civ-spouse|   Prof-specialty|      Husband|             White|  Male|        3103|           0|            32| United-States|  >50K|\n",
      "| 24|         Private|369667|Some-college|             10|     Never-married|    Other-service|    Unmarried|             White|Female|           0|           0|            40| United-States| <=50K|\n",
      "| 55|         Private|104996|     7th-8th|              4|Married-civ-spouse|     Craft-repair|      Husband|             White|  Male|           0|           0|            10| United-States| <=50K|\n",
      "| 65|         Private|184454|     HS-grad|              9|Married-civ-spouse|Machine-op-inspct|      Husband|             White|  Male|        6418|           0|            40| United-States|  >50K|\n",
      "| 36|     Federal-gov|212465|   Bachelors|             13|Married-civ-spouse|     Adm-clerical|      Husband|             White|  Male|           0|           0|            40| United-States| <=50K|\n",
      "| 26|         Private| 82091|     HS-grad|              9|     Never-married|     Adm-clerical|Not-in-family|             White|Female|           0|           0|            39| United-States| <=50K|\n",
      "| 58|               ?|299831|     HS-grad|              9|Married-civ-spouse|                ?|      Husband|             White|  Male|           0|           0|            35| United-States| <=50K|\n",
      "| 48|         Private|279724|     HS-grad|              9|Married-civ-spouse|Machine-op-inspct|      Husband|             White|  Male|        3103|           0|            48| United-States|  >50K|\n",
      "| 43|         Private|346189|     Masters|             14|Married-civ-spouse|  Exec-managerial|      Husband|             White|  Male|           0|           0|            50| United-States|  >50K|\n",
      "| 20|       State-gov|444554|Some-college|             10|     Never-married|    Other-service|    Own-child|             White|  Male|           0|           0|            25| United-States| <=50K|\n",
      "| 43|         Private|128354|     HS-grad|              9|Married-civ-spouse|     Adm-clerical|         Wife|             White|Female|           0|           0|            30| United-States| <=50K|\n",
      "| 37|         Private| 60548|     HS-grad|              9|           Widowed|Machine-op-inspct|    Unmarried|             White|Female|           0|           0|            20| United-States| <=50K|\n",
      "| 40|         Private| 85019|   Doctorate|             16|Married-civ-spouse|   Prof-specialty|      Husband|Asian-Pac-Islander|  Male|           0|           0|            45|             ?|  >50K|\n",
      "+---+----------------+------+------------+---------------+------------------+-----------------+-------------+------------------+------+------------+------------+--------------+--------------+------+\n",
      "only showing top 20 rows\n",
      "\n"
     ]
    }
   ],
   "source": [
    "data.show()"
   ]
  },
  {
   "cell_type": "markdown",
   "metadata": {},
   "source": [
    "## Step Three + Four: Explore the data + Clean the data\n",
    "\n",
    "Doing some basic exploration of the data to start understanding the data and what it looks like."
   ]
  },
  {
   "cell_type": "code",
   "execution_count": 4,
   "metadata": {},
   "outputs": [],
   "source": [
    "data = data.drop(\"fnlwgt\")"
   ]
  },
  {
   "cell_type": "code",
   "execution_count": 5,
   "metadata": {},
   "outputs": [],
   "source": [
    "for col, dtype in data.dtypes:\n",
    "    data = data.withColumnRenamed(col, col.replace(\"-\", \"_\"))"
   ]
  },
  {
   "cell_type": "code",
   "execution_count": 6,
   "metadata": {},
   "outputs": [
    {
     "name": "stdout",
     "output_type": "stream",
     "text": [
      "int\n"
     ]
    }
   ],
   "source": [
    "numerical = []\n",
    "strings = []\n",
    "for col, dtype in data.dtypes:\n",
    "    if col == \"age\":\n",
    "        print(dtype)\n",
    "    if dtype in [\"string\"]:\n",
    "        strings.append(col)\n",
    "    else:\n",
    "        numerical.append(col)"
   ]
  },
  {
   "cell_type": "code",
   "execution_count": 7,
   "metadata": {},
   "outputs": [
    {
     "data": {
      "text/plain": [
       "['age', 'educational_num', 'capital_gain', 'capital_loss', 'hours_per_week']"
      ]
     },
     "execution_count": 7,
     "metadata": {},
     "output_type": "execute_result"
    }
   ],
   "source": [
    "numerical"
   ]
  },
  {
   "cell_type": "code",
   "execution_count": 8,
   "metadata": {},
   "outputs": [
    {
     "data": {
      "text/plain": [
       "['workclass',\n",
       " 'education',\n",
       " 'marital_status',\n",
       " 'occupation',\n",
       " 'relationship',\n",
       " 'race',\n",
       " 'gender',\n",
       " 'native_country',\n",
       " 'income']"
      ]
     },
     "execution_count": 8,
     "metadata": {},
     "output_type": "execute_result"
    }
   ],
   "source": [
    "strings"
   ]
  },
  {
   "cell_type": "code",
   "execution_count": 9,
   "metadata": {},
   "outputs": [
    {
     "name": "stdout",
     "output_type": "stream",
     "text": [
      "+---+----------------+------------+---------------+------------------+-----------------+-------------+------------------+------+------------+------------+--------------+--------------+------+\n",
      "|age|       workclass|   education|educational_num|    marital_status|       occupation| relationship|              race|gender|capital_gain|capital_loss|hours_per_week|native_country|income|\n",
      "+---+----------------+------------+---------------+------------------+-----------------+-------------+------------------+------+------------+------------+--------------+--------------+------+\n",
      "| 25|         Private|        11th|              7|     Never-married|Machine-op-inspct|    Own-child|             Black|  Male|           0|           0|            40| United-States| <=50K|\n",
      "| 38|         Private|     HS-grad|              9|Married-civ-spouse|  Farming-fishing|      Husband|             White|  Male|           0|           0|            50| United-States| <=50K|\n",
      "| 28|       Local-gov|  Assoc-acdm|             12|Married-civ-spouse|  Protective-serv|      Husband|             White|  Male|           0|           0|            40| United-States|  >50K|\n",
      "| 44|         Private|Some-college|             10|Married-civ-spouse|Machine-op-inspct|      Husband|             Black|  Male|        7688|           0|            40| United-States|  >50K|\n",
      "| 18|               ?|Some-college|             10|     Never-married|                ?|    Own-child|             White|Female|           0|           0|            30| United-States| <=50K|\n",
      "| 34|         Private|        10th|              6|     Never-married|    Other-service|Not-in-family|             White|  Male|           0|           0|            30| United-States| <=50K|\n",
      "| 29|               ?|     HS-grad|              9|     Never-married|                ?|    Unmarried|             Black|  Male|           0|           0|            40| United-States| <=50K|\n",
      "| 63|Self-emp-not-inc| Prof-school|             15|Married-civ-spouse|   Prof-specialty|      Husband|             White|  Male|        3103|           0|            32| United-States|  >50K|\n",
      "| 24|         Private|Some-college|             10|     Never-married|    Other-service|    Unmarried|             White|Female|           0|           0|            40| United-States| <=50K|\n",
      "| 55|         Private|     7th-8th|              4|Married-civ-spouse|     Craft-repair|      Husband|             White|  Male|           0|           0|            10| United-States| <=50K|\n",
      "| 65|         Private|     HS-grad|              9|Married-civ-spouse|Machine-op-inspct|      Husband|             White|  Male|        6418|           0|            40| United-States|  >50K|\n",
      "| 36|     Federal-gov|   Bachelors|             13|Married-civ-spouse|     Adm-clerical|      Husband|             White|  Male|           0|           0|            40| United-States| <=50K|\n",
      "| 26|         Private|     HS-grad|              9|     Never-married|     Adm-clerical|Not-in-family|             White|Female|           0|           0|            39| United-States| <=50K|\n",
      "| 58|               ?|     HS-grad|              9|Married-civ-spouse|                ?|      Husband|             White|  Male|           0|           0|            35| United-States| <=50K|\n",
      "| 48|         Private|     HS-grad|              9|Married-civ-spouse|Machine-op-inspct|      Husband|             White|  Male|        3103|           0|            48| United-States|  >50K|\n",
      "| 43|         Private|     Masters|             14|Married-civ-spouse|  Exec-managerial|      Husband|             White|  Male|           0|           0|            50| United-States|  >50K|\n",
      "| 20|       State-gov|Some-college|             10|     Never-married|    Other-service|    Own-child|             White|  Male|           0|           0|            25| United-States| <=50K|\n",
      "| 43|         Private|     HS-grad|              9|Married-civ-spouse|     Adm-clerical|         Wife|             White|Female|           0|           0|            30| United-States| <=50K|\n",
      "| 37|         Private|     HS-grad|              9|           Widowed|Machine-op-inspct|    Unmarried|             White|Female|           0|           0|            20| United-States| <=50K|\n",
      "| 40|         Private|   Doctorate|             16|Married-civ-spouse|   Prof-specialty|      Husband|Asian-Pac-Islander|  Male|           0|           0|            45|             ?|  >50K|\n",
      "+---+----------------+------------+---------------+------------------+-----------------+-------------+------------------+------+------------+------------+--------------+--------------+------+\n",
      "only showing top 20 rows\n",
      "\n"
     ]
    }
   ],
   "source": [
    "data.show()"
   ]
  },
  {
   "cell_type": "markdown",
   "metadata": {},
   "source": [
    "## Step Five: Feature Engineering\n",
    "\n",
    "Turn categorical variables into vectorized representations to be used for training."
   ]
  },
  {
   "cell_type": "code",
   "execution_count": 10,
   "metadata": {},
   "outputs": [],
   "source": [
    "# Martial Status\n",
    "binary = False\n",
    "target = \"marital_status\"\n",
    "\n",
    "# # Gender Classification\n",
    "# binary = True\n",
    "# target = \"gender\"\n",
    "\n",
    "\n",
    "target_index = f\"{target}_index\""
   ]
  },
  {
   "cell_type": "code",
   "execution_count": 11,
   "metadata": {},
   "outputs": [],
   "source": [
    "imputed_stages = []\n",
    "\n",
    "for col in strings:\n",
    "    min = data.filter(data[col] != '?').groupBy(col).count().orderBy('count', ascending=True).first()[0]\n",
    "\n",
    "    sqlTrans = SQLTransformer(\n",
    "        statement=f\"\"\"\n",
    "        SELECT *, \n",
    "        CASE WHEN {col} = '?' THEN True ELSE False END as {col}_is_missing,\n",
    "        CASE WHEN {col} = '?' THEN '{min}' ELSE {col} END as {col}_imputed\n",
    "        FROM __THIS__\n",
    "        \"\"\")\n",
    "    \n",
    "    imputed_stages.append(sqlTrans)"
   ]
  },
  {
   "cell_type": "code",
   "execution_count": 12,
   "metadata": {},
   "outputs": [],
   "source": [
    "string_indexers = [StringIndexer(inputCol=f\"{col}_imputed\", outputCol=f\"{col}_index\") for col in strings]"
   ]
  },
  {
   "cell_type": "code",
   "execution_count": 13,
   "metadata": {},
   "outputs": [],
   "source": [
    "one_hot_encoders = [OneHotEncoder(inputCol=f\"{col}_index\", outputCol=f\"{col}_vec\") for col in strings]"
   ]
  },
  {
   "cell_type": "code",
   "execution_count": 14,
   "metadata": {},
   "outputs": [],
   "source": [
    "# Not including the binary indicator that the column was filled\n",
    "# features = [f\"{col}_vec\" for col in strings if col != target] + [x for x in numerical if x != \"educational_num\"]\n",
    "\n",
    "features = [f\"{col}_vec\" for col in strings if col != target] + [f\"{col}_is_missing\" for col in strings if col != target] + [x for x in numerical if x != \"educational_num\"]\n"
   ]
  },
  {
   "cell_type": "code",
   "execution_count": 15,
   "metadata": {},
   "outputs": [
    {
     "data": {
      "text/plain": [
       "['workclass_vec',\n",
       " 'education_vec',\n",
       " 'occupation_vec',\n",
       " 'relationship_vec',\n",
       " 'race_vec',\n",
       " 'gender_vec',\n",
       " 'native_country_vec',\n",
       " 'income_vec',\n",
       " 'workclass_is_missing',\n",
       " 'education_is_missing',\n",
       " 'occupation_is_missing',\n",
       " 'relationship_is_missing',\n",
       " 'race_is_missing',\n",
       " 'gender_is_missing',\n",
       " 'native_country_is_missing',\n",
       " 'income_is_missing',\n",
       " 'age',\n",
       " 'capital_gain',\n",
       " 'capital_loss',\n",
       " 'hours_per_week']"
      ]
     },
     "execution_count": 15,
     "metadata": {},
     "output_type": "execute_result"
    }
   ],
   "source": [
    "features"
   ]
  },
  {
   "cell_type": "code",
   "execution_count": 16,
   "metadata": {},
   "outputs": [],
   "source": [
    "assembler = VectorAssembler(inputCols=features, outputCol=\"feature_vector\")"
   ]
  },
  {
   "cell_type": "code",
   "execution_count": 17,
   "metadata": {},
   "outputs": [],
   "source": [
    "scaler = StandardScaler(inputCol=\"feature_vector\", outputCol=\"scaled_features\",\n",
    "                        withStd=True, withMean=True)\n"
   ]
  },
  {
   "cell_type": "code",
   "execution_count": 18,
   "metadata": {},
   "outputs": [],
   "source": [
    "pipeline = Pipeline(stages=imputed_stages + string_indexers + one_hot_encoders + [assembler, scaler])"
   ]
  },
  {
   "cell_type": "code",
   "execution_count": 19,
   "metadata": {},
   "outputs": [],
   "source": [
    "data = pipeline.fit(data).transform(data)"
   ]
  },
  {
   "cell_type": "code",
   "execution_count": 20,
   "metadata": {},
   "outputs": [
    {
     "name": "stdout",
     "output_type": "stream",
     "text": [
      "+---+----------------+------------+---------------+------------------+-----------------+-------------+------------------+------+------------+------------+--------------+--------------+------+--------------------+-----------------+--------------------+-----------------+-------------------------+----------------------+---------------------+------------------+-----------------------+--------------------+---------------+------------------+-----------------+--------------+-------------------------+----------------------+-----------------+--------------+---------------+---------------+--------------------+----------------+------------------+----------+------------+--------------------+------------+-------------+---------------+------------------+---------------+----------------+-------------+-------------+------------------+-------------+--------------------+--------------------+\n",
      "|age|       workclass|   education|educational_num|    marital_status|       occupation| relationship|              race|gender|capital_gain|capital_loss|hours_per_week|native_country|income|workclass_is_missing|workclass_imputed|education_is_missing|education_imputed|marital_status_is_missing|marital_status_imputed|occupation_is_missing|occupation_imputed|relationship_is_missing|relationship_imputed|race_is_missing|      race_imputed|gender_is_missing|gender_imputed|native_country_is_missing|native_country_imputed|income_is_missing|income_imputed|workclass_index|education_index|marital_status_index|occupation_index|relationship_index|race_index|gender_index|native_country_index|income_index|workclass_vec|  education_vec|marital_status_vec| occupation_vec|relationship_vec|     race_vec|   gender_vec|native_country_vec|   income_vec|      feature_vector|     scaled_features|\n",
      "+---+----------------+------------+---------------+------------------+-----------------+-------------+------------------+------+------------+------------+--------------+--------------+------+--------------------+-----------------+--------------------+-----------------+-------------------------+----------------------+---------------------+------------------+-----------------------+--------------------+---------------+------------------+-----------------+--------------+-------------------------+----------------------+-----------------+--------------+---------------+---------------+--------------------+----------------+------------------+----------+------------+--------------------+------------+-------------+---------------+------------------+---------------+----------------+-------------+-------------+------------------+-------------+--------------------+--------------------+\n",
      "| 25|         Private|        11th|              7|     Never-married|Machine-op-inspct|    Own-child|             Black|  Male|           0|           0|            40| United-States| <=50K|               false|          Private|               false|             11th|                    false|         Never-married|                false| Machine-op-inspct|                  false|           Own-child|          false|             Black|            false|          Male|                    false|         United-States|            false|         <=50K|            0.0|            5.0|                 1.0|             6.0|               2.0|       1.0|         0.0|                 0.0|         0.0|(7,[0],[1.0])| (15,[5],[1.0])|     (6,[1],[1.0])| (13,[6],[1.0])|   (5,[2],[1.0])|(4,[1],[1.0])|(1,[0],[1.0])|    (40,[0],[1.0])|(1,[0],[1.0])|(98,[0,12,28,37,4...|[0.66370398872703...|\n",
      "| 38|         Private|     HS-grad|              9|Married-civ-spouse|  Farming-fishing|      Husband|             White|  Male|           0|           0|            50| United-States| <=50K|               false|          Private|               false|          HS-grad|                    false|    Married-civ-spouse|                false|   Farming-fishing|                  false|             Husband|          false|             White|            false|          Male|                    false|         United-States|            false|         <=50K|            0.0|            0.0|                 0.0|            10.0|               0.0|       0.0|         0.0|                 0.0|         0.0|(7,[0],[1.0])| (15,[0],[1.0])|     (6,[0],[1.0])|(13,[10],[1.0])|   (5,[0],[1.0])|(4,[0],[1.0])|(1,[0],[1.0])|    (40,[0],[1.0])|(1,[0],[1.0])|(98,[0,7,32,35,40...|[0.66370398872703...|\n",
      "| 28|       Local-gov|  Assoc-acdm|             12|Married-civ-spouse|  Protective-serv|      Husband|             White|  Male|           0|           0|            40| United-States|  >50K|               false|        Local-gov|               false|       Assoc-acdm|                    false|    Married-civ-spouse|                false|   Protective-serv|                  false|             Husband|          false|             White|            false|          Male|                    false|         United-States|            false|          >50K|            2.0|            6.0|                 0.0|            12.0|               0.0|       0.0|         0.0|                 0.0|         1.0|(7,[2],[1.0])| (15,[6],[1.0])|     (6,[0],[1.0])|(13,[12],[1.0])|   (5,[0],[1.0])|(4,[0],[1.0])|(1,[0],[1.0])|    (40,[0],[1.0])|    (1,[],[])|(98,[2,13,34,35,4...|[-1.5066649331667...|\n",
      "| 44|         Private|Some-college|             10|Married-civ-spouse|Machine-op-inspct|      Husband|             Black|  Male|        7688|           0|            40| United-States|  >50K|               false|          Private|               false|     Some-college|                    false|    Married-civ-spouse|                false| Machine-op-inspct|                  false|             Husband|          false|             Black|            false|          Male|                    false|         United-States|            false|          >50K|            0.0|            1.0|                 0.0|             6.0|               0.0|       1.0|         0.0|                 0.0|         1.0|(7,[0],[1.0])| (15,[1],[1.0])|     (6,[0],[1.0])| (13,[6],[1.0])|   (5,[0],[1.0])|(4,[1],[1.0])|(1,[0],[1.0])|    (40,[0],[1.0])|    (1,[],[])|(98,[0,8,28,35,41...|[0.66370398872703...|\n",
      "| 18|               ?|Some-college|             10|     Never-married|                ?|    Own-child|             White|Female|           0|           0|            30| United-States| <=50K|                true|     Never-worked|               false|     Some-college|                    false|         Never-married|                 true|      Armed-Forces|                  false|           Own-child|          false|             White|            false|        Female|                    false|         United-States|            false|         <=50K|            3.0|            1.0|                 1.0|             7.0|               2.0|       0.0|         1.0|                 0.0|         0.0|(7,[3],[1.0])| (15,[1],[1.0])|     (6,[1],[1.0])| (13,[7],[1.0])|   (5,[2],[1.0])|(4,[0],[1.0])|    (1,[],[])|    (40,[0],[1.0])|(1,[0],[1.0])|(98,[3,8,29,37,40...|[-1.5066649331667...|\n",
      "| 34|         Private|        10th|              6|     Never-married|    Other-service|Not-in-family|             White|  Male|           0|           0|            30| United-States| <=50K|               false|          Private|               false|             10th|                    false|         Never-married|                false|     Other-service|                  false|       Not-in-family|          false|             White|            false|          Male|                    false|         United-States|            false|         <=50K|            0.0|            7.0|                 1.0|             5.0|               1.0|       0.0|         0.0|                 0.0|         0.0|(7,[0],[1.0])| (15,[7],[1.0])|     (6,[1],[1.0])| (13,[5],[1.0])|   (5,[1],[1.0])|(4,[0],[1.0])|(1,[0],[1.0])|    (40,[0],[1.0])|(1,[0],[1.0])|(98,[0,14,27,36,4...|[0.66370398872703...|\n",
      "| 29|               ?|     HS-grad|              9|     Never-married|                ?|    Unmarried|             Black|  Male|           0|           0|            40| United-States| <=50K|                true|     Never-worked|               false|          HS-grad|                    false|         Never-married|                 true|      Armed-Forces|                  false|           Unmarried|          false|             Black|            false|          Male|                    false|         United-States|            false|         <=50K|            3.0|            0.0|                 1.0|             7.0|               3.0|       1.0|         0.0|                 0.0|         0.0|(7,[3],[1.0])| (15,[0],[1.0])|     (6,[1],[1.0])| (13,[7],[1.0])|   (5,[3],[1.0])|(4,[1],[1.0])|(1,[0],[1.0])|    (40,[0],[1.0])|(1,[0],[1.0])|(98,[3,7,29,38,41...|[-1.5066649331667...|\n",
      "| 63|Self-emp-not-inc| Prof-school|             15|Married-civ-spouse|   Prof-specialty|      Husband|             White|  Male|        3103|           0|            32| United-States|  >50K|               false| Self-emp-not-inc|               false|      Prof-school|                    false|    Married-civ-spouse|                false|    Prof-specialty|                  false|             Husband|          false|             White|            false|          Male|                    false|         United-States|            false|          >50K|            1.0|            9.0|                 0.0|             0.0|               0.0|       0.0|         0.0|                 0.0|         1.0|(7,[1],[1.0])| (15,[9],[1.0])|     (6,[0],[1.0])| (13,[0],[1.0])|   (5,[0],[1.0])|(4,[0],[1.0])|(1,[0],[1.0])|    (40,[0],[1.0])|    (1,[],[])|(98,[1,16,22,35,4...|[-1.5066649331667...|\n",
      "| 24|         Private|Some-college|             10|     Never-married|    Other-service|    Unmarried|             White|Female|           0|           0|            40| United-States| <=50K|               false|          Private|               false|     Some-college|                    false|         Never-married|                false|     Other-service|                  false|           Unmarried|          false|             White|            false|        Female|                    false|         United-States|            false|         <=50K|            0.0|            1.0|                 1.0|             5.0|               3.0|       0.0|         1.0|                 0.0|         0.0|(7,[0],[1.0])| (15,[1],[1.0])|     (6,[1],[1.0])| (13,[5],[1.0])|   (5,[3],[1.0])|(4,[0],[1.0])|    (1,[],[])|    (40,[0],[1.0])|(1,[0],[1.0])|(98,[0,8,27,38,40...|[0.66370398872703...|\n",
      "| 55|         Private|     7th-8th|              4|Married-civ-spouse|     Craft-repair|      Husband|             White|  Male|           0|           0|            10| United-States| <=50K|               false|          Private|               false|          7th-8th|                    false|    Married-civ-spouse|                false|      Craft-repair|                  false|             Husband|          false|             White|            false|          Male|                    false|         United-States|            false|         <=50K|            0.0|            8.0|                 0.0|             1.0|               0.0|       0.0|         0.0|                 0.0|         0.0|(7,[0],[1.0])| (15,[8],[1.0])|     (6,[0],[1.0])| (13,[1],[1.0])|   (5,[0],[1.0])|(4,[0],[1.0])|(1,[0],[1.0])|    (40,[0],[1.0])|(1,[0],[1.0])|(98,[0,15,23,35,4...|[0.66370398872703...|\n",
      "| 65|         Private|     HS-grad|              9|Married-civ-spouse|Machine-op-inspct|      Husband|             White|  Male|        6418|           0|            40| United-States|  >50K|               false|          Private|               false|          HS-grad|                    false|    Married-civ-spouse|                false| Machine-op-inspct|                  false|             Husband|          false|             White|            false|          Male|                    false|         United-States|            false|          >50K|            0.0|            0.0|                 0.0|             6.0|               0.0|       0.0|         0.0|                 0.0|         1.0|(7,[0],[1.0])| (15,[0],[1.0])|     (6,[0],[1.0])| (13,[6],[1.0])|   (5,[0],[1.0])|(4,[0],[1.0])|(1,[0],[1.0])|    (40,[0],[1.0])|    (1,[],[])|(98,[0,7,28,35,40...|[0.66370398872703...|\n",
      "| 36|     Federal-gov|   Bachelors|             13|Married-civ-spouse|     Adm-clerical|      Husband|             White|  Male|           0|           0|            40| United-States| <=50K|               false|      Federal-gov|               false|        Bachelors|                    false|    Married-civ-spouse|                false|      Adm-clerical|                  false|             Husband|          false|             White|            false|          Male|                    false|         United-States|            false|         <=50K|            6.0|            2.0|                 0.0|             3.0|               0.0|       0.0|         0.0|                 0.0|         0.0|(7,[6],[1.0])| (15,[2],[1.0])|     (6,[0],[1.0])| (13,[3],[1.0])|   (5,[0],[1.0])|(4,[0],[1.0])|(1,[0],[1.0])|    (40,[0],[1.0])|(1,[0],[1.0])|(98,[6,9,25,35,40...|[-1.5066649331667...|\n",
      "| 26|         Private|     HS-grad|              9|     Never-married|     Adm-clerical|Not-in-family|             White|Female|           0|           0|            39| United-States| <=50K|               false|          Private|               false|          HS-grad|                    false|         Never-married|                false|      Adm-clerical|                  false|       Not-in-family|          false|             White|            false|        Female|                    false|         United-States|            false|         <=50K|            0.0|            0.0|                 1.0|             3.0|               1.0|       0.0|         1.0|                 0.0|         0.0|(7,[0],[1.0])| (15,[0],[1.0])|     (6,[1],[1.0])| (13,[3],[1.0])|   (5,[1],[1.0])|(4,[0],[1.0])|    (1,[],[])|    (40,[0],[1.0])|(1,[0],[1.0])|(98,[0,7,25,36,40...|[0.66370398872703...|\n",
      "| 58|               ?|     HS-grad|              9|Married-civ-spouse|                ?|      Husband|             White|  Male|           0|           0|            35| United-States| <=50K|                true|     Never-worked|               false|          HS-grad|                    false|    Married-civ-spouse|                 true|      Armed-Forces|                  false|             Husband|          false|             White|            false|          Male|                    false|         United-States|            false|         <=50K|            3.0|            0.0|                 0.0|             7.0|               0.0|       0.0|         0.0|                 0.0|         0.0|(7,[3],[1.0])| (15,[0],[1.0])|     (6,[0],[1.0])| (13,[7],[1.0])|   (5,[0],[1.0])|(4,[0],[1.0])|(1,[0],[1.0])|    (40,[0],[1.0])|(1,[0],[1.0])|(98,[3,7,29,35,40...|[-1.5066649331667...|\n",
      "| 48|         Private|     HS-grad|              9|Married-civ-spouse|Machine-op-inspct|      Husband|             White|  Male|        3103|           0|            48| United-States|  >50K|               false|          Private|               false|          HS-grad|                    false|    Married-civ-spouse|                false| Machine-op-inspct|                  false|             Husband|          false|             White|            false|          Male|                    false|         United-States|            false|          >50K|            0.0|            0.0|                 0.0|             6.0|               0.0|       0.0|         0.0|                 0.0|         1.0|(7,[0],[1.0])| (15,[0],[1.0])|     (6,[0],[1.0])| (13,[6],[1.0])|   (5,[0],[1.0])|(4,[0],[1.0])|(1,[0],[1.0])|    (40,[0],[1.0])|    (1,[],[])|(98,[0,7,28,35,40...|[0.66370398872703...|\n",
      "| 43|         Private|     Masters|             14|Married-civ-spouse|  Exec-managerial|      Husband|             White|  Male|           0|           0|            50| United-States|  >50K|               false|          Private|               false|          Masters|                    false|    Married-civ-spouse|                false|   Exec-managerial|                  false|             Husband|          false|             White|            false|          Male|                    false|         United-States|            false|          >50K|            0.0|            3.0|                 0.0|             2.0|               0.0|       0.0|         0.0|                 0.0|         1.0|(7,[0],[1.0])| (15,[3],[1.0])|     (6,[0],[1.0])| (13,[2],[1.0])|   (5,[0],[1.0])|(4,[0],[1.0])|(1,[0],[1.0])|    (40,[0],[1.0])|    (1,[],[])|(98,[0,10,24,35,4...|[0.66370398872703...|\n",
      "| 20|       State-gov|Some-college|             10|     Never-married|    Other-service|    Own-child|             White|  Male|           0|           0|            25| United-States| <=50K|               false|        State-gov|               false|     Some-college|                    false|         Never-married|                false|     Other-service|                  false|           Own-child|          false|             White|            false|          Male|                    false|         United-States|            false|         <=50K|            4.0|            1.0|                 1.0|             5.0|               2.0|       0.0|         0.0|                 0.0|         0.0|(7,[4],[1.0])| (15,[1],[1.0])|     (6,[1],[1.0])| (13,[5],[1.0])|   (5,[2],[1.0])|(4,[0],[1.0])|(1,[0],[1.0])|    (40,[0],[1.0])|(1,[0],[1.0])|(98,[4,8,27,37,40...|[-1.5066649331667...|\n",
      "| 43|         Private|     HS-grad|              9|Married-civ-spouse|     Adm-clerical|         Wife|             White|Female|           0|           0|            30| United-States| <=50K|               false|          Private|               false|          HS-grad|                    false|    Married-civ-spouse|                false|      Adm-clerical|                  false|                Wife|          false|             White|            false|        Female|                    false|         United-States|            false|         <=50K|            0.0|            0.0|                 0.0|             3.0|               4.0|       0.0|         1.0|                 0.0|         0.0|(7,[0],[1.0])| (15,[0],[1.0])|     (6,[0],[1.0])| (13,[3],[1.0])|   (5,[4],[1.0])|(4,[0],[1.0])|    (1,[],[])|    (40,[0],[1.0])|(1,[0],[1.0])|(98,[0,7,25,39,40...|[0.66370398872703...|\n",
      "| 37|         Private|     HS-grad|              9|           Widowed|Machine-op-inspct|    Unmarried|             White|Female|           0|           0|            20| United-States| <=50K|               false|          Private|               false|          HS-grad|                    false|               Widowed|                false| Machine-op-inspct|                  false|           Unmarried|          false|             White|            false|        Female|                    false|         United-States|            false|         <=50K|            0.0|            0.0|                 4.0|             6.0|               3.0|       0.0|         1.0|                 0.0|         0.0|(7,[0],[1.0])| (15,[0],[1.0])|     (6,[4],[1.0])| (13,[6],[1.0])|   (5,[3],[1.0])|(4,[0],[1.0])|    (1,[],[])|    (40,[0],[1.0])|(1,[0],[1.0])|(98,[0,7,28,38,40...|[0.66370398872703...|\n",
      "| 40|         Private|   Doctorate|             16|Married-civ-spouse|   Prof-specialty|      Husband|Asian-Pac-Islander|  Male|           0|           0|            45|             ?|  >50K|               false|          Private|               false|        Doctorate|                    false|    Married-civ-spouse|                false|    Prof-specialty|                  false|             Husband|          false|Asian-Pac-Islander|            false|          Male|                     true|    Holand-Netherlands|            false|          >50K|            0.0|           12.0|                 0.0|             0.0|               0.0|       2.0|         0.0|                 2.0|         1.0|(7,[0],[1.0])|(15,[12],[1.0])|     (6,[0],[1.0])| (13,[0],[1.0])|   (5,[0],[1.0])|(4,[2],[1.0])|(1,[0],[1.0])|    (40,[2],[1.0])|    (1,[],[])|(98,[0,19,22,35,4...|[0.66370398872703...|\n",
      "+---+----------------+------------+---------------+------------------+-----------------+-------------+------------------+------+------------+------------+--------------+--------------+------+--------------------+-----------------+--------------------+-----------------+-------------------------+----------------------+---------------------+------------------+-----------------------+--------------------+---------------+------------------+-----------------+--------------+-------------------------+----------------------+-----------------+--------------+---------------+---------------+--------------------+----------------+------------------+----------+------------+--------------------+------------+-------------+---------------+------------------+---------------+----------------+-------------+-------------+------------------+-------------+--------------------+--------------------+\n",
      "only showing top 20 rows\n",
      "\n"
     ]
    }
   ],
   "source": [
    "data.show()"
   ]
  },
  {
   "cell_type": "code",
   "execution_count": 21,
   "metadata": {},
   "outputs": [],
   "source": [
    "fractions = data.select(target_index).distinct().withColumn(\"fraction\", F.lit(0.8)).rdd.collectAsMap()\n",
    "train_df = data.stat.sampleBy(target_index, fractions, seed=42)\n",
    "test_df = data.subtract(train_df)\n"
   ]
  },
  {
   "cell_type": "code",
   "execution_count": 22,
   "metadata": {},
   "outputs": [
    {
     "name": "stdout",
     "output_type": "stream",
     "text": [
      "+---+----------------+------------+---------------+------------------+-----------------+-------------+-----+------+------------+------------+--------------+--------------+------+--------------------+-----------------+--------------------+-----------------+-------------------------+----------------------+---------------------+------------------+-----------------------+--------------------+---------------+------------+-----------------+--------------+-------------------------+----------------------+-----------------+--------------+---------------+---------------+--------------------+----------------+------------------+----------+------------+--------------------+------------+-------------+--------------+------------------+---------------+----------------+-------------+-------------+------------------+-------------+--------------------+--------------------+\n",
      "|age|       workclass|   education|educational_num|    marital_status|       occupation| relationship| race|gender|capital_gain|capital_loss|hours_per_week|native_country|income|workclass_is_missing|workclass_imputed|education_is_missing|education_imputed|marital_status_is_missing|marital_status_imputed|occupation_is_missing|occupation_imputed|relationship_is_missing|relationship_imputed|race_is_missing|race_imputed|gender_is_missing|gender_imputed|native_country_is_missing|native_country_imputed|income_is_missing|income_imputed|workclass_index|education_index|marital_status_index|occupation_index|relationship_index|race_index|gender_index|native_country_index|income_index|workclass_vec| education_vec|marital_status_vec| occupation_vec|relationship_vec|     race_vec|   gender_vec|native_country_vec|   income_vec|      feature_vector|     scaled_features|\n",
      "+---+----------------+------------+---------------+------------------+-----------------+-------------+-----+------+------------+------------+--------------+--------------+------+--------------------+-----------------+--------------------+-----------------+-------------------------+----------------------+---------------------+------------------+-----------------------+--------------------+---------------+------------+-----------------+--------------+-------------------------+----------------------+-----------------+--------------+---------------+---------------+--------------------+----------------+------------------+----------+------------+--------------------+------------+-------------+--------------+------------------+---------------+----------------+-------------+-------------+------------------+-------------+--------------------+--------------------+\n",
      "| 25|         Private|        11th|              7|     Never-married|Machine-op-inspct|    Own-child|Black|  Male|           0|           0|            40| United-States| <=50K|               false|          Private|               false|             11th|                    false|         Never-married|                false| Machine-op-inspct|                  false|           Own-child|          false|       Black|            false|          Male|                    false|         United-States|            false|         <=50K|            0.0|            5.0|                 1.0|             6.0|               2.0|       1.0|         0.0|                 0.0|         0.0|(7,[0],[1.0])|(15,[5],[1.0])|     (6,[1],[1.0])| (13,[6],[1.0])|   (5,[2],[1.0])|(4,[1],[1.0])|(1,[0],[1.0])|    (40,[0],[1.0])|(1,[0],[1.0])|(98,[0,12,28,37,4...|[0.66370398872703...|\n",
      "| 38|         Private|     HS-grad|              9|Married-civ-spouse|  Farming-fishing|      Husband|White|  Male|           0|           0|            50| United-States| <=50K|               false|          Private|               false|          HS-grad|                    false|    Married-civ-spouse|                false|   Farming-fishing|                  false|             Husband|          false|       White|            false|          Male|                    false|         United-States|            false|         <=50K|            0.0|            0.0|                 0.0|            10.0|               0.0|       0.0|         0.0|                 0.0|         0.0|(7,[0],[1.0])|(15,[0],[1.0])|     (6,[0],[1.0])|(13,[10],[1.0])|   (5,[0],[1.0])|(4,[0],[1.0])|(1,[0],[1.0])|    (40,[0],[1.0])|(1,[0],[1.0])|(98,[0,7,32,35,40...|[0.66370398872703...|\n",
      "| 44|         Private|Some-college|             10|Married-civ-spouse|Machine-op-inspct|      Husband|Black|  Male|        7688|           0|            40| United-States|  >50K|               false|          Private|               false|     Some-college|                    false|    Married-civ-spouse|                false| Machine-op-inspct|                  false|             Husband|          false|       Black|            false|          Male|                    false|         United-States|            false|          >50K|            0.0|            1.0|                 0.0|             6.0|               0.0|       1.0|         0.0|                 0.0|         1.0|(7,[0],[1.0])|(15,[1],[1.0])|     (6,[0],[1.0])| (13,[6],[1.0])|   (5,[0],[1.0])|(4,[1],[1.0])|(1,[0],[1.0])|    (40,[0],[1.0])|    (1,[],[])|(98,[0,8,28,35,41...|[0.66370398872703...|\n",
      "| 18|               ?|Some-college|             10|     Never-married|                ?|    Own-child|White|Female|           0|           0|            30| United-States| <=50K|                true|     Never-worked|               false|     Some-college|                    false|         Never-married|                 true|      Armed-Forces|                  false|           Own-child|          false|       White|            false|        Female|                    false|         United-States|            false|         <=50K|            3.0|            1.0|                 1.0|             7.0|               2.0|       0.0|         1.0|                 0.0|         0.0|(7,[3],[1.0])|(15,[1],[1.0])|     (6,[1],[1.0])| (13,[7],[1.0])|   (5,[2],[1.0])|(4,[0],[1.0])|    (1,[],[])|    (40,[0],[1.0])|(1,[0],[1.0])|(98,[3,8,29,37,40...|[-1.5066649331667...|\n",
      "| 34|         Private|        10th|              6|     Never-married|    Other-service|Not-in-family|White|  Male|           0|           0|            30| United-States| <=50K|               false|          Private|               false|             10th|                    false|         Never-married|                false|     Other-service|                  false|       Not-in-family|          false|       White|            false|          Male|                    false|         United-States|            false|         <=50K|            0.0|            7.0|                 1.0|             5.0|               1.0|       0.0|         0.0|                 0.0|         0.0|(7,[0],[1.0])|(15,[7],[1.0])|     (6,[1],[1.0])| (13,[5],[1.0])|   (5,[1],[1.0])|(4,[0],[1.0])|(1,[0],[1.0])|    (40,[0],[1.0])|(1,[0],[1.0])|(98,[0,14,27,36,4...|[0.66370398872703...|\n",
      "| 63|Self-emp-not-inc| Prof-school|             15|Married-civ-spouse|   Prof-specialty|      Husband|White|  Male|        3103|           0|            32| United-States|  >50K|               false| Self-emp-not-inc|               false|      Prof-school|                    false|    Married-civ-spouse|                false|    Prof-specialty|                  false|             Husband|          false|       White|            false|          Male|                    false|         United-States|            false|          >50K|            1.0|            9.0|                 0.0|             0.0|               0.0|       0.0|         0.0|                 0.0|         1.0|(7,[1],[1.0])|(15,[9],[1.0])|     (6,[0],[1.0])| (13,[0],[1.0])|   (5,[0],[1.0])|(4,[0],[1.0])|(1,[0],[1.0])|    (40,[0],[1.0])|    (1,[],[])|(98,[1,16,22,35,4...|[-1.5066649331667...|\n",
      "| 55|         Private|     7th-8th|              4|Married-civ-spouse|     Craft-repair|      Husband|White|  Male|           0|           0|            10| United-States| <=50K|               false|          Private|               false|          7th-8th|                    false|    Married-civ-spouse|                false|      Craft-repair|                  false|             Husband|          false|       White|            false|          Male|                    false|         United-States|            false|         <=50K|            0.0|            8.0|                 0.0|             1.0|               0.0|       0.0|         0.0|                 0.0|         0.0|(7,[0],[1.0])|(15,[8],[1.0])|     (6,[0],[1.0])| (13,[1],[1.0])|   (5,[0],[1.0])|(4,[0],[1.0])|(1,[0],[1.0])|    (40,[0],[1.0])|(1,[0],[1.0])|(98,[0,15,23,35,4...|[0.66370398872703...|\n",
      "| 65|         Private|     HS-grad|              9|Married-civ-spouse|Machine-op-inspct|      Husband|White|  Male|        6418|           0|            40| United-States|  >50K|               false|          Private|               false|          HS-grad|                    false|    Married-civ-spouse|                false| Machine-op-inspct|                  false|             Husband|          false|       White|            false|          Male|                    false|         United-States|            false|          >50K|            0.0|            0.0|                 0.0|             6.0|               0.0|       0.0|         0.0|                 0.0|         1.0|(7,[0],[1.0])|(15,[0],[1.0])|     (6,[0],[1.0])| (13,[6],[1.0])|   (5,[0],[1.0])|(4,[0],[1.0])|(1,[0],[1.0])|    (40,[0],[1.0])|    (1,[],[])|(98,[0,7,28,35,40...|[0.66370398872703...|\n",
      "| 36|     Federal-gov|   Bachelors|             13|Married-civ-spouse|     Adm-clerical|      Husband|White|  Male|           0|           0|            40| United-States| <=50K|               false|      Federal-gov|               false|        Bachelors|                    false|    Married-civ-spouse|                false|      Adm-clerical|                  false|             Husband|          false|       White|            false|          Male|                    false|         United-States|            false|         <=50K|            6.0|            2.0|                 0.0|             3.0|               0.0|       0.0|         0.0|                 0.0|         0.0|(7,[6],[1.0])|(15,[2],[1.0])|     (6,[0],[1.0])| (13,[3],[1.0])|   (5,[0],[1.0])|(4,[0],[1.0])|(1,[0],[1.0])|    (40,[0],[1.0])|(1,[0],[1.0])|(98,[6,9,25,35,40...|[-1.5066649331667...|\n",
      "| 26|         Private|     HS-grad|              9|     Never-married|     Adm-clerical|Not-in-family|White|Female|           0|           0|            39| United-States| <=50K|               false|          Private|               false|          HS-grad|                    false|         Never-married|                false|      Adm-clerical|                  false|       Not-in-family|          false|       White|            false|        Female|                    false|         United-States|            false|         <=50K|            0.0|            0.0|                 1.0|             3.0|               1.0|       0.0|         1.0|                 0.0|         0.0|(7,[0],[1.0])|(15,[0],[1.0])|     (6,[1],[1.0])| (13,[3],[1.0])|   (5,[1],[1.0])|(4,[0],[1.0])|    (1,[],[])|    (40,[0],[1.0])|(1,[0],[1.0])|(98,[0,7,25,36,40...|[0.66370398872703...|\n",
      "| 48|         Private|     HS-grad|              9|Married-civ-spouse|Machine-op-inspct|      Husband|White|  Male|        3103|           0|            48| United-States|  >50K|               false|          Private|               false|          HS-grad|                    false|    Married-civ-spouse|                false| Machine-op-inspct|                  false|             Husband|          false|       White|            false|          Male|                    false|         United-States|            false|          >50K|            0.0|            0.0|                 0.0|             6.0|               0.0|       0.0|         0.0|                 0.0|         1.0|(7,[0],[1.0])|(15,[0],[1.0])|     (6,[0],[1.0])| (13,[6],[1.0])|   (5,[0],[1.0])|(4,[0],[1.0])|(1,[0],[1.0])|    (40,[0],[1.0])|    (1,[],[])|(98,[0,7,28,35,40...|[0.66370398872703...|\n",
      "| 43|         Private|     Masters|             14|Married-civ-spouse|  Exec-managerial|      Husband|White|  Male|           0|           0|            50| United-States|  >50K|               false|          Private|               false|          Masters|                    false|    Married-civ-spouse|                false|   Exec-managerial|                  false|             Husband|          false|       White|            false|          Male|                    false|         United-States|            false|          >50K|            0.0|            3.0|                 0.0|             2.0|               0.0|       0.0|         0.0|                 0.0|         1.0|(7,[0],[1.0])|(15,[3],[1.0])|     (6,[0],[1.0])| (13,[2],[1.0])|   (5,[0],[1.0])|(4,[0],[1.0])|(1,[0],[1.0])|    (40,[0],[1.0])|    (1,[],[])|(98,[0,10,24,35,4...|[0.66370398872703...|\n",
      "| 20|       State-gov|Some-college|             10|     Never-married|    Other-service|    Own-child|White|  Male|           0|           0|            25| United-States| <=50K|               false|        State-gov|               false|     Some-college|                    false|         Never-married|                false|     Other-service|                  false|           Own-child|          false|       White|            false|          Male|                    false|         United-States|            false|         <=50K|            4.0|            1.0|                 1.0|             5.0|               2.0|       0.0|         0.0|                 0.0|         0.0|(7,[4],[1.0])|(15,[1],[1.0])|     (6,[1],[1.0])| (13,[5],[1.0])|   (5,[2],[1.0])|(4,[0],[1.0])|(1,[0],[1.0])|    (40,[0],[1.0])|(1,[0],[1.0])|(98,[4,8,27,37,40...|[-1.5066649331667...|\n",
      "| 43|         Private|     HS-grad|              9|Married-civ-spouse|     Adm-clerical|         Wife|White|Female|           0|           0|            30| United-States| <=50K|               false|          Private|               false|          HS-grad|                    false|    Married-civ-spouse|                false|      Adm-clerical|                  false|                Wife|          false|       White|            false|        Female|                    false|         United-States|            false|         <=50K|            0.0|            0.0|                 0.0|             3.0|               4.0|       0.0|         1.0|                 0.0|         0.0|(7,[0],[1.0])|(15,[0],[1.0])|     (6,[0],[1.0])| (13,[3],[1.0])|   (5,[4],[1.0])|(4,[0],[1.0])|    (1,[],[])|    (40,[0],[1.0])|(1,[0],[1.0])|(98,[0,7,25,39,40...|[0.66370398872703...|\n",
      "| 37|         Private|     HS-grad|              9|           Widowed|Machine-op-inspct|    Unmarried|White|Female|           0|           0|            20| United-States| <=50K|               false|          Private|               false|          HS-grad|                    false|               Widowed|                false| Machine-op-inspct|                  false|           Unmarried|          false|       White|            false|        Female|                    false|         United-States|            false|         <=50K|            0.0|            0.0|                 4.0|             6.0|               3.0|       0.0|         1.0|                 0.0|         0.0|(7,[0],[1.0])|(15,[0],[1.0])|     (6,[4],[1.0])| (13,[6],[1.0])|   (5,[3],[1.0])|(4,[0],[1.0])|    (1,[],[])|    (40,[0],[1.0])|(1,[0],[1.0])|(98,[0,7,28,38,40...|[0.66370398872703...|\n",
      "| 34|         Private|   Bachelors|             13|Married-civ-spouse|     Tech-support|      Husband|White|  Male|           0|           0|            47| United-States|  >50K|               false|          Private|               false|        Bachelors|                    false|    Married-civ-spouse|                false|      Tech-support|                  false|             Husband|          false|       White|            false|          Male|                    false|         United-States|            false|          >50K|            0.0|            2.0|                 0.0|            11.0|               0.0|       0.0|         0.0|                 0.0|         1.0|(7,[0],[1.0])|(15,[2],[1.0])|     (6,[0],[1.0])|(13,[11],[1.0])|   (5,[0],[1.0])|(4,[0],[1.0])|(1,[0],[1.0])|    (40,[0],[1.0])|    (1,[],[])|(98,[0,9,33,35,40...|[0.66370398872703...|\n",
      "| 34|         Private|Some-college|             10|     Never-married|    Other-service|    Own-child|Black|Female|           0|           0|            35| United-States| <=50K|               false|          Private|               false|     Some-college|                    false|         Never-married|                false|     Other-service|                  false|           Own-child|          false|       Black|            false|        Female|                    false|         United-States|            false|         <=50K|            0.0|            1.0|                 1.0|             5.0|               2.0|       1.0|         1.0|                 0.0|         0.0|(7,[0],[1.0])|(15,[1],[1.0])|     (6,[1],[1.0])| (13,[5],[1.0])|   (5,[2],[1.0])|(4,[1],[1.0])|    (1,[],[])|    (40,[0],[1.0])|(1,[0],[1.0])|(98,[0,8,27,37,41...|[0.66370398872703...|\n",
      "| 72|               ?|     7th-8th|              4|          Divorced|                ?|Not-in-family|White|Female|           0|           0|             6| United-States| <=50K|                true|     Never-worked|               false|          7th-8th|                    false|              Divorced|                 true|      Armed-Forces|                  false|       Not-in-family|          false|       White|            false|        Female|                    false|         United-States|            false|         <=50K|            3.0|            8.0|                 2.0|             7.0|               1.0|       0.0|         1.0|                 0.0|         0.0|(7,[3],[1.0])|(15,[8],[1.0])|     (6,[2],[1.0])| (13,[7],[1.0])|   (5,[1],[1.0])|(4,[0],[1.0])|    (1,[],[])|    (40,[0],[1.0])|(1,[0],[1.0])|(98,[3,15,29,36,4...|[-1.5066649331667...|\n",
      "| 25|         Private|   Bachelors|             13|Married-civ-spouse|   Prof-specialty|      Husband|White|  Male|           0|           0|            40| United-States| <=50K|               false|          Private|               false|        Bachelors|                    false|    Married-civ-spouse|                false|    Prof-specialty|                  false|             Husband|          false|       White|            false|          Male|                    false|         United-States|            false|         <=50K|            0.0|            2.0|                 0.0|             0.0|               0.0|       0.0|         0.0|                 0.0|         0.0|(7,[0],[1.0])|(15,[2],[1.0])|     (6,[0],[1.0])| (13,[0],[1.0])|   (5,[0],[1.0])|(4,[0],[1.0])|(1,[0],[1.0])|    (40,[0],[1.0])|(1,[0],[1.0])|(98,[0,9,22,35,40...|[0.66370398872703...|\n",
      "| 45|Self-emp-not-inc|     HS-grad|              9|Married-civ-spouse|     Craft-repair|      Husband|White|  Male|        7298|           0|            90| United-States|  >50K|               false| Self-emp-not-inc|               false|          HS-grad|                    false|    Married-civ-spouse|                false|      Craft-repair|                  false|             Husband|          false|       White|            false|          Male|                    false|         United-States|            false|          >50K|            1.0|            0.0|                 0.0|             1.0|               0.0|       0.0|         0.0|                 0.0|         1.0|(7,[1],[1.0])|(15,[0],[1.0])|     (6,[0],[1.0])| (13,[1],[1.0])|   (5,[0],[1.0])|(4,[0],[1.0])|(1,[0],[1.0])|    (40,[0],[1.0])|    (1,[],[])|(98,[1,7,23,35,40...|[-1.5066649331667...|\n",
      "+---+----------------+------------+---------------+------------------+-----------------+-------------+-----+------+------------+------------+--------------+--------------+------+--------------------+-----------------+--------------------+-----------------+-------------------------+----------------------+---------------------+------------------+-----------------------+--------------------+---------------+------------+-----------------+--------------+-------------------------+----------------------+-----------------+--------------+---------------+---------------+--------------------+----------------+------------------+----------+------------+--------------------+------------+-------------+--------------+------------------+---------------+----------------+-------------+-------------+------------------+-------------+--------------------+--------------------+\n",
      "only showing top 20 rows\n",
      "\n"
     ]
    }
   ],
   "source": [
    "train_df.show()"
   ]
  },
  {
   "cell_type": "markdown",
   "metadata": {},
   "source": [
    "## Step Six: Train and Explore ML algorithms models"
   ]
  },
  {
   "cell_type": "code",
   "execution_count": 23,
   "metadata": {},
   "outputs": [],
   "source": [
    "if binary:\n",
    "    trainer = GBTClassifier(labelCol=target_index, featuresCol=\"scaled_features\", maxIter=10)\n",
    "else:\n",
    "    trainer = RandomForestClassifier(labelCol=target_index, featuresCol=\"scaled_features\")"
   ]
  },
  {
   "cell_type": "code",
   "execution_count": 24,
   "metadata": {},
   "outputs": [],
   "source": [
    "model = trainer.fit(train_df)\n",
    "predictions = model.transform(test_df)"
   ]
  },
  {
   "cell_type": "code",
   "execution_count": 25,
   "metadata": {},
   "outputs": [
    {
     "name": "stderr",
     "output_type": "stream",
     "text": [
      "[Stage 84:=========>                                              (3 + 14) / 17]\r"
     ]
    },
    {
     "name": "stdout",
     "output_type": "stream",
     "text": [
      "+---+------------+------------+---------------+------------------+---------------+--------------+-----+------+------------+------------+--------------+--------------+------+--------------------+-----------------+--------------------+-----------------+-------------------------+----------------------+---------------------+------------------+-----------------------+--------------------+---------------+------------+-----------------+--------------+-------------------------+----------------------+-----------------+--------------+---------------+---------------+--------------------+----------------+------------------+----------+------------+--------------------+------------+-------------+---------------+------------------+---------------+----------------+-------------+-------------+------------------+-------------+--------------------+--------------------+--------------------+--------------------+----------+\n",
      "|age|   workclass|   education|educational_num|    marital_status|     occupation|  relationship| race|gender|capital_gain|capital_loss|hours_per_week|native_country|income|workclass_is_missing|workclass_imputed|education_is_missing|education_imputed|marital_status_is_missing|marital_status_imputed|occupation_is_missing|occupation_imputed|relationship_is_missing|relationship_imputed|race_is_missing|race_imputed|gender_is_missing|gender_imputed|native_country_is_missing|native_country_imputed|income_is_missing|income_imputed|workclass_index|education_index|marital_status_index|occupation_index|relationship_index|race_index|gender_index|native_country_index|income_index|workclass_vec|  education_vec|marital_status_vec| occupation_vec|relationship_vec|     race_vec|   gender_vec|native_country_vec|   income_vec|      feature_vector|     scaled_features|       rawPrediction|         probability|prediction|\n",
      "+---+------------+------------+---------------+------------------+---------------+--------------+-----+------+------------+------------+--------------+--------------+------+--------------------+-----------------+--------------------+-----------------+-------------------------+----------------------+---------------------+------------------+-----------------------+--------------------+---------------+------------+-----------------+--------------+-------------------------+----------------------+-----------------+--------------+---------------+---------------+--------------------+----------------+------------------+----------+------------+--------------------+------------+-------------+---------------+------------------+---------------+----------------+-------------+-------------+------------------+-------------+--------------------+--------------------+--------------------+--------------------+----------+\n",
      "| 20|     Private|Some-college|             10|     Never-married|Priv-house-serv|     Own-child|White|Female|           0|           0|            20| United-States| <=50K|               false|          Private|               false|     Some-college|                    false|         Never-married|                false|   Priv-house-serv|                  false|           Own-child|          false|       White|            false|        Female|                    false|         United-States|            false|         <=50K|            0.0|            1.0|                 1.0|            13.0|               2.0|       0.0|         1.0|                 0.0|         0.0|(7,[0],[1.0])| (15,[1],[1.0])|     (6,[1],[1.0])|     (13,[],[])|   (5,[2],[1.0])|(4,[0],[1.0])|    (1,[],[])|    (40,[0],[1.0])|(1,[0],[1.0])|(98,[0,8,37,40,45...|[0.66370398872703...|[3.04846366742090...|[0.15242318337104...|       1.0|\n",
      "| 31|     Private|   Bachelors|             13|     Never-married| Prof-specialty| Not-in-family|White|  Male|           0|           0|            50| United-States| <=50K|               false|          Private|               false|        Bachelors|                    false|         Never-married|                false|    Prof-specialty|                  false|       Not-in-family|          false|       White|            false|          Male|                    false|         United-States|            false|         <=50K|            0.0|            2.0|                 1.0|             0.0|               1.0|       0.0|         0.0|                 0.0|         0.0|(7,[0],[1.0])| (15,[2],[1.0])|     (6,[1],[1.0])| (13,[0],[1.0])|   (5,[1],[1.0])|(4,[0],[1.0])|(1,[0],[1.0])|    (40,[0],[1.0])|(1,[0],[1.0])|(98,[0,9,22,36,40...|[0.66370398872703...|[3.42310633562174...|[0.17115531678108...|       1.0|\n",
      "| 31|     Private|Some-college|             10|     Never-married|   Adm-clerical| Not-in-family|White|Female|           0|           0|            52| United-States| <=50K|               false|          Private|               false|     Some-college|                    false|         Never-married|                false|      Adm-clerical|                  false|       Not-in-family|          false|       White|            false|        Female|                    false|         United-States|            false|         <=50K|            0.0|            1.0|                 1.0|             3.0|               1.0|       0.0|         1.0|                 0.0|         0.0|(7,[0],[1.0])| (15,[1],[1.0])|     (6,[1],[1.0])| (13,[3],[1.0])|   (5,[1],[1.0])|(4,[0],[1.0])|    (1,[],[])|    (40,[0],[1.0])|(1,[0],[1.0])|(98,[0,8,25,36,40...|[0.66370398872703...|[2.36789401690497...|[0.11839470084524...|       1.0|\n",
      "| 36|     Private|   Bachelors|             13|          Divorced|   Adm-clerical| Not-in-family|White|  Male|           0|           0|            55| United-States|  >50K|               false|          Private|               false|        Bachelors|                    false|              Divorced|                false|      Adm-clerical|                  false|       Not-in-family|          false|       White|            false|          Male|                    false|         United-States|            false|          >50K|            0.0|            2.0|                 2.0|             3.0|               1.0|       0.0|         0.0|                 0.0|         1.0|(7,[0],[1.0])| (15,[2],[1.0])|     (6,[2],[1.0])| (13,[3],[1.0])|   (5,[1],[1.0])|(4,[0],[1.0])|(1,[0],[1.0])|    (40,[0],[1.0])|    (1,[],[])|(98,[0,9,25,36,40...|[0.66370398872703...|[5.37319256904434...|[0.26865962845221...|       1.0|\n",
      "| 37|Self-emp-inc|   Bachelors|             13|     Never-married|  Other-service| Not-in-family|White|Female|           0|           0|            50| United-States|  >50K|               false|     Self-emp-inc|               false|        Bachelors|                    false|         Never-married|                false|     Other-service|                  false|       Not-in-family|          false|       White|            false|        Female|                    false|         United-States|            false|          >50K|            5.0|            2.0|                 1.0|             5.0|               1.0|       0.0|         1.0|                 0.0|         1.0|(7,[5],[1.0])| (15,[2],[1.0])|     (6,[1],[1.0])| (13,[5],[1.0])|   (5,[1],[1.0])|(4,[0],[1.0])|    (1,[],[])|    (40,[0],[1.0])|    (1,[],[])|(98,[5,9,27,36,40...|[-1.5066649331667...|[5.10795796142529...|[0.25539789807126...|       1.0|\n",
      "| 39|   Local-gov|Some-college|             10|Married-civ-spouse|Exec-managerial|       Husband|White|  Male|           0|           0|            40| United-States| <=50K|               false|        Local-gov|               false|     Some-college|                    false|    Married-civ-spouse|                false|   Exec-managerial|                  false|             Husband|          false|       White|            false|          Male|                    false|         United-States|            false|         <=50K|            2.0|            1.0|                 0.0|             2.0|               0.0|       0.0|         0.0|                 0.0|         0.0|(7,[2],[1.0])| (15,[1],[1.0])|     (6,[0],[1.0])| (13,[2],[1.0])|   (5,[0],[1.0])|(4,[0],[1.0])|(1,[0],[1.0])|    (40,[0],[1.0])|(1,[0],[1.0])|(98,[2,8,24,35,40...|[-1.5066649331667...|[16.6848220497567...|[0.83424110248783...|       0.0|\n",
      "| 49|   Local-gov|     HS-grad|              9|Married-civ-spouse|  Other-service|Other-relative|White|  Male|           0|           0|            40|         Italy| <=50K|               false|        Local-gov|               false|          HS-grad|                    false|    Married-civ-spouse|                false|     Other-service|                  false|      Other-relative|          false|       White|            false|          Male|                    false|                 Italy|            false|         <=50K|            2.0|            0.0|                 0.0|             5.0|               5.0|       0.0|         0.0|                14.0|         0.0|(7,[2],[1.0])| (15,[0],[1.0])|     (6,[0],[1.0])| (13,[5],[1.0])|       (5,[],[])|(4,[0],[1.0])|(1,[0],[1.0])|   (40,[14],[1.0])|(1,[0],[1.0])|(98,[2,7,27,40,44...|[-1.5066649331667...|[5.78033696055809...|[0.28901684802790...|       1.0|\n",
      "| 60|     Private|     HS-grad|              9|Married-civ-spouse|   Craft-repair|       Husband|White|  Male|           0|           0|            50| United-States| <=50K|               false|          Private|               false|          HS-grad|                    false|    Married-civ-spouse|                false|      Craft-repair|                  false|             Husband|          false|       White|            false|          Male|                    false|         United-States|            false|         <=50K|            0.0|            0.0|                 0.0|             1.0|               0.0|       0.0|         0.0|                 0.0|         0.0|(7,[0],[1.0])| (15,[0],[1.0])|     (6,[0],[1.0])| (13,[1],[1.0])|   (5,[0],[1.0])|(4,[0],[1.0])|(1,[0],[1.0])|    (40,[0],[1.0])|(1,[0],[1.0])|(98,[0,7,23,35,40...|[0.66370398872703...|[16.2487521614131...|[0.81243760807065...|       0.0|\n",
      "| 74|           ?|     1st-4th|              2|Married-civ-spouse|              ?|       Husband|Black|  Male|           0|           0|            40| United-States| <=50K|                true|     Never-worked|               false|          1st-4th|                    false|    Married-civ-spouse|                 true|      Armed-Forces|                  false|             Husband|          false|       Black|            false|          Male|                    false|         United-States|            false|         <=50K|            3.0|           14.0|                 0.0|             7.0|               0.0|       1.0|         0.0|                 0.0|         0.0|(7,[3],[1.0])|(15,[14],[1.0])|     (6,[0],[1.0])| (13,[7],[1.0])|   (5,[0],[1.0])|(4,[1],[1.0])|(1,[0],[1.0])|    (40,[0],[1.0])|(1,[0],[1.0])|(98,[3,21,29,35,4...|[-1.5066649331667...|[15.0044056158056...|[0.75022028079028...|       0.0|\n",
      "| 90|           ?|        10th|              6|          Divorced|              ?| Not-in-family|White|Female|           0|           0|             7| United-States| <=50K|                true|     Never-worked|               false|             10th|                    false|              Divorced|                 true|      Armed-Forces|                  false|       Not-in-family|          false|       White|            false|        Female|                    false|         United-States|            false|         <=50K|            3.0|            7.0|                 2.0|             7.0|               1.0|       0.0|         1.0|                 0.0|         0.0|(7,[3],[1.0])| (15,[7],[1.0])|     (6,[2],[1.0])| (13,[7],[1.0])|   (5,[1],[1.0])|(4,[0],[1.0])|    (1,[],[])|    (40,[0],[1.0])|(1,[0],[1.0])|(98,[3,14,29,36,4...|[-1.5066649331667...|[2.55821621691516...|[0.12791081084575...|       1.0|\n",
      "| 23|   Local-gov|   Bachelors|             13|     Never-married| Prof-specialty|     Own-child|White|  Male|           0|           0|            40| United-States| <=50K|               false|        Local-gov|               false|        Bachelors|                    false|         Never-married|                false|    Prof-specialty|                  false|           Own-child|          false|       White|            false|          Male|                    false|         United-States|            false|         <=50K|            2.0|            2.0|                 1.0|             0.0|               2.0|       0.0|         0.0|                 0.0|         0.0|(7,[2],[1.0])| (15,[2],[1.0])|     (6,[1],[1.0])| (13,[0],[1.0])|   (5,[2],[1.0])|(4,[0],[1.0])|(1,[0],[1.0])|    (40,[0],[1.0])|(1,[0],[1.0])|(98,[2,9,22,37,40...|[-1.5066649331667...|[3.27118919439728...|[0.16355945971986...|       1.0|\n",
      "| 44|     Private|     HS-grad|              9|     Never-married|Exec-managerial| Not-in-family|White|Female|           0|           0|            52| United-States| <=50K|               false|          Private|               false|          HS-grad|                    false|         Never-married|                false|   Exec-managerial|                  false|       Not-in-family|          false|       White|            false|        Female|                    false|         United-States|            false|         <=50K|            0.0|            0.0|                 1.0|             2.0|               1.0|       0.0|         1.0|                 0.0|         0.0|(7,[0],[1.0])| (15,[0],[1.0])|     (6,[1],[1.0])| (13,[2],[1.0])|   (5,[1],[1.0])|(4,[0],[1.0])|    (1,[],[])|    (40,[0],[1.0])|(1,[0],[1.0])|(98,[0,7,24,36,40...|[0.66370398872703...|[1.96186614901000...|[0.09809330745050...|       1.0|\n",
      "| 69|           ?|  Assoc-acdm|             12|          Divorced|              ?|     Unmarried|White|Female|           0|           0|             1| United-States| <=50K|                true|     Never-worked|               false|       Assoc-acdm|                    false|              Divorced|                 true|      Armed-Forces|                  false|           Unmarried|          false|       White|            false|        Female|                    false|         United-States|            false|         <=50K|            3.0|            6.0|                 2.0|             7.0|               3.0|       0.0|         1.0|                 0.0|         0.0|(7,[3],[1.0])| (15,[6],[1.0])|     (6,[2],[1.0])| (13,[7],[1.0])|   (5,[3],[1.0])|(4,[0],[1.0])|    (1,[],[])|    (40,[0],[1.0])|(1,[0],[1.0])|(98,[3,13,29,38,4...|[-1.5066649331667...|[1.99992431813420...|[0.09999621590671...|       1.0|\n",
      "| 28|     Private|   Bachelors|             13|     Never-married| Prof-specialty| Not-in-family|White|  Male|           0|           0|            55| United-States|  >50K|               false|          Private|               false|        Bachelors|                    false|         Never-married|                false|    Prof-specialty|                  false|       Not-in-family|          false|       White|            false|          Male|                    false|         United-States|            false|          >50K|            0.0|            2.0|                 1.0|             0.0|               1.0|       0.0|         0.0|                 0.0|         1.0|(7,[0],[1.0])| (15,[2],[1.0])|     (6,[1],[1.0])| (13,[0],[1.0])|   (5,[1],[1.0])|(4,[0],[1.0])|(1,[0],[1.0])|    (40,[0],[1.0])|    (1,[],[])|(98,[0,9,22,36,40...|[0.66370398872703...|[5.30846703589898...|[0.26542335179494...|       1.0|\n",
      "| 36|     Private|     HS-grad|              9|         Separated|   Adm-clerical| Not-in-family|White|  Male|           0|           0|            40|      Columbia| <=50K|               false|          Private|               false|          HS-grad|                    false|             Separated|                false|      Adm-clerical|                  false|       Not-in-family|          false|       White|            false|          Male|                    false|              Columbia|            false|         <=50K|            0.0|            0.0|                 3.0|             3.0|               1.0|       0.0|         0.0|                20.0|         0.0|(7,[0],[1.0])| (15,[0],[1.0])|     (6,[3],[1.0])| (13,[3],[1.0])|   (5,[1],[1.0])|(4,[0],[1.0])|(1,[0],[1.0])|   (40,[20],[1.0])|(1,[0],[1.0])|(98,[0,7,25,36,40...|[0.66370398872703...|[3.71881779137377...|[0.18594088956868...|       1.0|\n",
      "| 30|   State-gov|   Assoc-voc|             11|Married-civ-spouse|Protective-serv|       Husband|White|  Male|           0|           0|            40| United-States| <=50K|               false|        State-gov|               false|        Assoc-voc|                    false|    Married-civ-spouse|                false|   Protective-serv|                  false|             Husband|          false|       White|            false|          Male|                    false|         United-States|            false|         <=50K|            4.0|            4.0|                 0.0|            12.0|               0.0|       0.0|         0.0|                 0.0|         0.0|(7,[4],[1.0])| (15,[4],[1.0])|     (6,[0],[1.0])|(13,[12],[1.0])|   (5,[0],[1.0])|(4,[0],[1.0])|(1,[0],[1.0])|    (40,[0],[1.0])|(1,[0],[1.0])|(98,[4,11,34,35,4...|[-1.5066649331667...|[16.1296676227727...|[0.80648338113863...|       0.0|\n",
      "| 23|     Private|     HS-grad|              9|     Never-married|          Sales|     Own-child|White|  Male|           0|           0|            35| United-States| <=50K|               false|          Private|               false|          HS-grad|                    false|         Never-married|                false|             Sales|                  false|           Own-child|          false|       White|            false|          Male|                    false|         United-States|            false|         <=50K|            0.0|            0.0|                 1.0|             4.0|               2.0|       0.0|         0.0|                 0.0|         0.0|(7,[0],[1.0])| (15,[0],[1.0])|     (6,[1],[1.0])| (13,[4],[1.0])|   (5,[2],[1.0])|(4,[0],[1.0])|(1,[0],[1.0])|    (40,[0],[1.0])|(1,[0],[1.0])|(98,[0,7,26,37,40...|[0.66370398872703...|[3.20906596266801...|[0.16045329813340...|       1.0|\n",
      "| 29|     Private|     HS-grad|              9|     Never-married|          Sales| Not-in-family|White|Female|           0|           0|            40| United-States| <=50K|               false|          Private|               false|          HS-grad|                    false|         Never-married|                false|             Sales|                  false|       Not-in-family|          false|       White|            false|        Female|                    false|         United-States|            false|         <=50K|            0.0|            0.0|                 1.0|             4.0|               1.0|       0.0|         1.0|                 0.0|         0.0|(7,[0],[1.0])| (15,[0],[1.0])|     (6,[1],[1.0])| (13,[4],[1.0])|   (5,[1],[1.0])|(4,[0],[1.0])|    (1,[],[])|    (40,[0],[1.0])|(1,[0],[1.0])|(98,[0,7,26,36,40...|[0.66370398872703...|[2.64296533761298...|[0.13214826688064...|       1.0|\n",
      "| 33|     Private|   Bachelors|             13|         Separated|          Sales| Not-in-family|White|Female|           0|           0|            50| United-States|  >50K|               false|          Private|               false|        Bachelors|                    false|             Separated|                false|             Sales|                  false|       Not-in-family|          false|       White|            false|        Female|                    false|         United-States|            false|          >50K|            0.0|            2.0|                 3.0|             4.0|               1.0|       0.0|         1.0|                 0.0|         1.0|(7,[0],[1.0])| (15,[2],[1.0])|     (6,[3],[1.0])| (13,[4],[1.0])|   (5,[1],[1.0])|(4,[0],[1.0])|    (1,[],[])|    (40,[0],[1.0])|    (1,[],[])|(98,[0,9,26,36,40...|[0.66370398872703...|[4.16223276516998...|[0.20811163825849...|       1.0|\n",
      "| 64|     Private|Some-college|             10|           Widowed|          Sales| Not-in-family|White|  Male|        2354|           0|            35| United-States| <=50K|               false|          Private|               false|     Some-college|                    false|               Widowed|                false|             Sales|                  false|       Not-in-family|          false|       White|            false|          Male|                    false|         United-States|            false|         <=50K|            0.0|            1.0|                 4.0|             4.0|               1.0|       0.0|         0.0|                 0.0|         0.0|(7,[0],[1.0])| (15,[1],[1.0])|     (6,[4],[1.0])| (13,[4],[1.0])|   (5,[1],[1.0])|(4,[0],[1.0])|(1,[0],[1.0])|    (40,[0],[1.0])|(1,[0],[1.0])|(98,[0,8,26,36,40...|[0.66370398872703...|[3.55353698470517...|[0.17767684923525...|       1.0|\n",
      "+---+------------+------------+---------------+------------------+---------------+--------------+-----+------+------------+------------+--------------+--------------+------+--------------------+-----------------+--------------------+-----------------+-------------------------+----------------------+---------------------+------------------+-----------------------+--------------------+---------------+------------+-----------------+--------------+-------------------------+----------------------+-----------------+--------------+---------------+---------------+--------------------+----------------+------------------+----------+------------+--------------------+------------+-------------+---------------+------------------+---------------+----------------+-------------+-------------+------------------+-------------+--------------------+--------------------+--------------------+--------------------+----------+\n",
      "only showing top 20 rows\n",
      "\n"
     ]
    },
    {
     "name": "stderr",
     "output_type": "stream",
     "text": [
      "                                                                                \r"
     ]
    }
   ],
   "source": [
    "predictions.show()"
   ]
  },
  {
   "cell_type": "code",
   "execution_count": 26,
   "metadata": {},
   "outputs": [],
   "source": [
    "accuracy_evaluator = MulticlassClassificationEvaluator(labelCol=target_index, predictionCol=\"prediction\", metricName=\"accuracy\")\n",
    "precision_evaluator = MulticlassClassificationEvaluator(labelCol=target_index, predictionCol=\"prediction\", metricName=\"weightedPrecision\")\n",
    "recall_evaluator = MulticlassClassificationEvaluator(labelCol=target_index, predictionCol=\"prediction\", metricName=\"weightedRecall\")\n",
    "f1_evaluator = MulticlassClassificationEvaluator(labelCol=target_index, predictionCol=\"prediction\", metricName=\"f1\")"
   ]
  },
  {
   "cell_type": "code",
   "execution_count": 27,
   "metadata": {},
   "outputs": [
    {
     "name": "stderr",
     "output_type": "stream",
     "text": [
      "[Stage 120:============================>                            (1 + 1) / 2]\r"
     ]
    },
    {
     "name": "stdout",
     "output_type": "stream",
     "text": [
      "Accuracy:  0.7607174659712505\n",
      "Weighted Precision:  0.7100132393713059\n",
      "Weighted Recall:  0.7607174659712505\n",
      "F1 Score:  0.7010962244786074\n"
     ]
    },
    {
     "name": "stderr",
     "output_type": "stream",
     "text": [
      "                                                                                \r"
     ]
    }
   ],
   "source": [
    "accuracy = accuracy_evaluator.evaluate(predictions)\n",
    "precision = precision_evaluator.evaluate(predictions)\n",
    "recall = recall_evaluator.evaluate(predictions)\n",
    "f1_score = f1_evaluator.evaluate(predictions)\n",
    "\n",
    "# Print metrics\n",
    "print(\"Accuracy: \", accuracy)\n",
    "print(\"Weighted Precision: \", precision)\n",
    "print(\"Weighted Recall: \", recall)\n",
    "print(\"F1 Score: \", f1_score)\n"
   ]
  },
  {
   "cell_type": "markdown",
   "metadata": {},
   "source": [
    "## Step Seven: Visualize the results"
   ]
  },
  {
   "cell_type": "code",
   "execution_count": 28,
   "metadata": {},
   "outputs": [
    {
     "name": "stderr",
     "output_type": "stream",
     "text": [
      "/home/main/.local/share/virtualenvs/cosc526_final-hdqxpDEz/lib/python3.10/site-packages/pyspark/sql/context.py:157: FutureWarning: Deprecated in 3.0.0. Use SparkSession.builder.getOrCreate() instead.\n",
      "  warnings.warn(\n"
     ]
    },
    {
     "data": {
      "image/png": "[encoded data removed]",
      "text/plain": [
       "<Figure size 1000x700 with 2 Axes>"
      ]
     },
     "metadata": {},
     "output_type": "display_data"
    }
   ],
   "source": [
    "metrics = MulticlassMetrics(predictions.select('prediction', target_index).rdd)\n",
    "confusion_matrix = metrics.confusionMatrix().toArray()\n",
    "\n",
    "plt.figure(figsize=(10, 7))\n",
    "sns.heatmap(confusion_matrix, annot=True, fmt=\".0f\")\n",
    "plt.xlabel('Predicted')\n",
    "plt.ylabel('Actual')\n",
    "plt.title(\"Confusion Matrix\")\n",
    "plt.show()"
   ]
  },
  {
   "cell_type": "code",
   "execution_count": null,
   "metadata": {},
   "outputs": [],
   "source": []
  }
 ],
 "metadata": {
  "kernelspec": {
   "display_name": "Python 3 (ipykernel)",
   "language": "python",
   "name": "python3"
  },
  "language_info": {
   "codemirror_mode": {
    "name": "ipython",
    "version": 3
   },
   "file_extension": ".py",
   "mimetype": "text/x-python",
   "name": "python",
   "nbconvert_exporter": "python",
   "pygments_lexer": "ipython3",
   "version": "3.10.6"
  }
 },
 "nbformat": 4,
 "nbformat_minor": 2
}
