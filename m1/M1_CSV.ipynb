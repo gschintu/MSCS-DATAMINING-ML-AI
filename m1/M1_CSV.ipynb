{
 "cells": [
  {
   "cell_type": "markdown",
   "id": "cefc82e4",
   "metadata": {
    "id": "el9sjRdm9gjv"
   },
   "source": [
    "# **`Giuseppe Schintu - M.1 Tasks & Answers`**\n",
    "\n",
    "# **`M.1 Manipulate a CSV File`**\n"
   ]
  },
  {
   "cell_type": "markdown",
   "id": "X-de8q4f_q13",
   "metadata": {
    "id": "X-de8q4f_q13"
   },
   "source": [
    "## **`exercise.M.1`** - Python Warmup"
   ]
  },
  {
   "cell_type": "markdown",
   "id": "cW6PQ4KAFhfd",
   "metadata": {
    "id": "cW6PQ4KAFhfd"
   },
   "source": [
    "### **`Overview and Directions`**"
   ]
  },
  {
   "cell_type": "markdown",
   "id": "ZR2SKZ0V4l36",
   "metadata": {
    "id": "ZR2SKZ0V4l36"
   },
   "source": [
    "### **`Task.1`**  - comma-separated values (.csv)"
   ]
  },
  {
   "cell_type": "markdown",
   "id": "23c910b9",
   "metadata": {
    "id": "cs55wtGeEV7u"
   },
   "source": [
    "Reading and parsing [delimiter-separated values](https://en.wikipedia.org/wiki/Delimiter-separated_values) files like [comma-separated](https://en.wikipedia.org/wiki/Comma-separated_values) and [tab-separated values](https://en.wikipedia.org/wiki/Tab-separated_values) is a regular data science preprocessing activity. It is typically acceptable to request either file format for analysis activities.    \n",
    "- *.csv* files store tabular data like numbers and text in a plain text format. \n",
    "- Plain text may include text, white spaces, carriage returns, transliterals, and other artifacts.    \n",
    "- Each row, or data record, contains a value or nothing. A comma separates each.    \n",
    "\n",
    "**`Tasks`**  \n",
    "0. Read in the Nobel prize winners name and age data: [data.M.1.exercise.csv](https://github.com/cosc-526/home.page/blob/main/data.M.1.exercise.csv)  \n",
    "=> data is in class github. Read however you like!  \n",
    "1. Generate a single value for the total number of rows of data.\n",
    "2. Generate a single value for the total number of columns of data.  \n",
    "3. Calculate the laureates average age as a datatype float.  \n",
    "4. Solution structured as a user defined function (def) but doing so not required.   \n",
    "5. hint  \n",
    ".> use library `import requests` to read numerics from a url  \n",
    "=> mydata = requests.get(file_url)  \n",
    "==> if mydata.status_code == 200:  #200 = code for a successful request  \n",
    "====> do something with lines\n",
    "\n",
    "**`Useful links`**  \n",
    "- [Ch.16, Importing Data, Python.Crash.Course, Matthes](https://github.com/cosc-526/cosc.526.home.page/blob/main/textbook.Python.crash.course.matthes.pdf)  \n",
    "[open](https://docs.python.org/3.6/library/functions.html#open), \n",
    "[readlines](https://docs.python.org/3.6/library/codecs.html#codecs.StreamReader.readlines), [rstrip](https://docs.python.org/3.6/library/stdtypes.html#str.rstrip), [list comprehension](https://docs.python.org/3/tutorial/datastructures.html#list-comprehensions), [split](https://docs.python.org/3.6/library/stdtypes.html#str.split), [splice](https://docs.python.org/3.6/glossary.html#term-slice), [\"list.love\"](https://docs.python.org/3.6/tutorial/datastructures.html#more-on-lists), [len](https://docs.python.org/3.6/library/functions.html#len), [int](https://docs.python.org/3.6/library/functions.html#int), [format](https://docs.python.org/3.6/library/stdtypes.html#str.format)"
   ]
  },
  {
   "cell_type": "code",
   "execution_count": 9,
   "id": "Azp65ID2UV9X",
   "metadata": {
    "id": "Azp65ID2UV9X"
   },
   "outputs": [
    {
     "name": "stdout",
     "output_type": "stream",
     "text": [
      "Number of rows of data: 8\n",
      "Number of cols: 3\n",
      "Average Age: 70.875\n"
     ]
    }
   ],
   "source": [
    "import requests\n",
    "import csv\n",
    "\n",
    "def process_nobel_data():\n",
    "    # Fetch the CSV file from the GitHub link\n",
    "    file_url = \"https://raw.githubusercontent.com/cosc-526/home.page/main/data.M.1.exercise.csv\"\n",
    "    response = requests.get(file_url)\n",
    "    \n",
    "    if response.status_code == 200:\n",
    "        # Read the CSV data and calculate required values\n",
    "        data = response.text.splitlines()\n",
    "        csv_reader = csv.reader(data)\n",
    "        header = next(csv_reader)  # Skip the header row\n",
    "        \n",
    "        # Task 1: Generate a single value for the total number of rows of data\n",
    "        total_rows = sum(1 for _ in csv_reader)\n",
    "        \n",
    "        # Reset the reader back to the start\n",
    "        csv_reader = csv.reader(data)\n",
    "        next(csv_reader)  # Skip the header row again\n",
    "        \n",
    "        # Task 2: Generate a single value for the total number of columns of data\n",
    "        total_columns = len(header)\n",
    "        \n",
    "        # Task 3: Calculate the laureates average age as a datatype float\n",
    "        age_sum = 0\n",
    "        for row in csv_reader:\n",
    "            age = float(row[1])  # age is in the second column (index 1)\n",
    "            age_sum += age\n",
    "        average_age = age_sum / total_rows\n",
    "        \n",
    "        return total_rows, total_columns, average_age\n",
    "    \n",
    "    else:\n",
    "        print(\"Error: Failed to retrieve the CSV file.\")\n",
    "\n",
    "# Call the function and store the results\n",
    "rows, columns, avg_age = process_nobel_data()\n",
    "\n",
    "# Print the results\n",
    "print(\"Number of rows of data:\", rows)\n",
    "print(\"Number of cols:\", columns)\n",
    "print(\"Average Age:\", avg_age)\n"
   ]
  },
  {
   "cell_type": "markdown",
   "id": "fFtuKBBh4l4C",
   "metadata": {
    "id": "fFtuKBBh4l4C"
   },
   "source": [
    "**Task.1 Expected ouput**\n",
    "```\n",
    "Number of rows of data: 8\n",
    "Number of cols: 3\n",
    "Average Age: 70.875\n",
    "```"
   ]
  },
  {
   "cell_type": "markdown",
   "id": "LSr6LhyN4l4E",
   "metadata": {
    "id": "LSr6LhyN4l4E"
   },
   "source": [
    "### **`Task.3`** - Convert diacritics (ä, ö) to ASCII"
   ]
  },
  {
   "cell_type": "markdown",
   "id": "CdUDaILLI7Ro",
   "metadata": {
    "id": "CdUDaILLI7Ro"
   },
   "source": [
    "- Download [data.M.1.exercise.csv](https://github.com/cosc-526/home.page/blob/main/data.M.1.exercise.csv) and right click on the file to view in Notepad.   \n",
    "=> Observe the Unicode non-English letters in laureates' names like the two dots over the letter \"o\" in \"Schrödinger.\"\n",
    "- Learn about [Unicode](https://en.wikipedia.org/wiki/Unicode) character standards for representing different types and forms of text.  \n",
    "- Grok that Python 3 [natively supports](https://docs.python.org/3/howto/unicode.html) Unicode, but many tools don't.\n",
    "- Conversion of Unicode to [ASCII](https://en.wikipedia.org/wiki/ASCII) formatting is often necessary in data preprocessing.  \n",
    "\n",
    "**Tasks**\n",
    "0. Read this article on diacritics conversion (e.g., \"ü\" → \"ue\"); [transliteration](https://german.stackexchange.com/questions/4992/conversion-table-for-diacritics-e-g-%C3%BC-%E2%86%92-ue).  \n",
    "1. data = [data.M.1.exercise.csv](https://github.com/cosc-526/home.page/blob/main/data.M.1.exercise.csv)  \n",
    "=> provided example reads directly from github\n",
    "2. Analyze and run code block with a dictionary matching Unicode character \"keys\" to their ASCII transliteration \"value.\"\n",
    "=> as a refresher, a dictionary is defined as mydict = { key:value }\n",
    "3. For labeled code sections #3.1 to 3.9, explain succinctly what the code is accomplishing and whether you are or are not familiar with it.  \n",
    "4. Create your inventory mechanism to store this, and more, code blocks.  \n",
    "\n",
    "***More useful links***\n",
    "- [1: replace](https://docs.python.org/3.6/library/stdtypes.html#str.replace), [2: file object methods](https://docs.python.org/3/tutorial/inputoutput.html#methods-of-file-objects),  \n"
   ]
  },
  {
   "cell_type": "code",
   "execution_count": 10,
   "id": "XnJm4ImJDSgW",
   "metadata": {
    "colab": {
     "base_uri": "https://localhost:8080/"
    },
    "id": "XnJm4ImJDSgW",
    "outputId": "0e497da6-c3ee-44fc-98db-f4c5056a3ced"
   },
   "outputs": [
    {
     "name": "stdout",
     "output_type": "stream",
     "text": [
      "Richard Phillips Feynman\n",
      "Shin'ichiro Tomonaga\n",
      "Julian Schwinger\n",
      "Rudolf Ludwig Moessbauer\n",
      "Erwin Schroedinger\n",
      "Paul Dirac\n",
      "Maria Sklodowska-Curie\n",
      "Pierre Curie\n"
     ]
    }
   ],
   "source": [
    "import requests\n",
    "\n",
    "translit_dict = {\n",
    "    \"ä\" : \"ae\",\n",
    "    \"ö\" : \"oe\",\n",
    "    \"ü\" : \"ue\",\n",
    "    \"Ä\" : \"Ae\",\n",
    "    \"Ö\" : \"Oe\",\n",
    "    \"Ü\" : \"Ue\", \n",
    "    \"ł\" : \"l\",\n",
    "    \"ō\" : \"o\",\n",
    "}\n",
    "#3.0\n",
    "#read data from a URL\n",
    "def parse_delimited_file(file_url, delimiter):\n",
    "    response = requests.get(file_url)\n",
    "    if response.status_code == 200:\n",
    "        lines = response.text.split('\\n')\n",
    "    else:\n",
    "        print('Failed to fetch the file from GitHub.')\n",
    "        return\n",
    "    lines = [line.rstrip('\\n') for line in lines if line.strip()]  # Skip empty lines\n",
    "    return lines\n",
    "\n",
    "file_url = \"https://raw.githubusercontent.com/cosc-526/home.page/main/data.M.1.exercise.csv\"\n",
    "lines = parse_delimited_file(file_url, delimiter=\",\")\n",
    "\n",
    "#3.1\n",
    "#with open(\"data.exercise.M.1.csv\", 'r', encoding='utf8') as csvfile:\n",
    "#    lines = csvfile.readlines()\n",
    "#3.2\n",
    "# Strip off the newline from the end of each line\n",
    "lines = [line.rstrip() for line in lines]\n",
    "\n",
    "#3.3   \n",
    "# Split each line based on the delimiter (which, in this case, is the comma)\n",
    "split_lines = [line.split(\",\") for line in lines]\n",
    "\n",
    "#3.4\n",
    "# Separate the header from the data\n",
    "header = split_lines[0]\n",
    "data_lines = split_lines[1:]\n",
    "    \n",
    "#3.5    \n",
    "# Find \"name\" within the header\n",
    "name_index = header.index(\"name\")\n",
    "\n",
    "#3.6\n",
    "# Extract the names from the rows\n",
    "unicode_names = [line[name_index] for line in data_lines]\n",
    "\n",
    "#3.7\n",
    "# Iterate over the names\n",
    "translit_names = []\n",
    "for unicode_name in unicode_names:\n",
    "    # Perform the replacements in the translit_dict\n",
    "    # HINT: ref [1]\n",
    "    translit_name = unicode_name\n",
    "    for key, value in translit_dict.items():\n",
    "        translit_name = translit_name.replace(key, value)\n",
    "    translit_names.append(translit_name)\n",
    "\n",
    "#3.8\n",
    "# Write out the names to a file named \"data-ascii.txt\"\n",
    "# HINT: ref [2]\n",
    "with open(\"data.exercise.M.1.ascii.txt\", 'w') as outfile:\n",
    "    for name in translit_names:\n",
    "        outfile.write(name + \"\\n\")\n",
    "#3.9\n",
    "# Verify that the names were converted and written out correctly\n",
    "with open(\"data.exercise.M.1.ascii.txt\", 'r') as infile:\n",
    "    for line in infile:\n",
    "        print(line.rstrip())\n"
   ]
  },
  {
   "cell_type": "code",
   "execution_count": null,
   "id": "X6tBzbFR2f_v",
   "metadata": {
    "id": "X6tBzbFR2f_v"
   },
   "outputs": [],
   "source": [
    "#=>Enter answer/reflection   \n",
    "#3.1\n",
    "#3.2 populate lines object while stripping off the newline from the end of each line\n",
    "#3.3 Split each line based on the delimiter (which, in this case, is the comma)\n",
    "#3.4 Separate the header from the data\n",
    "#3.5 Find \"name\" within the header\n",
    "#3.6 Extract the names from the rows\n",
    "#3.7 Iterate over the names and replace character matches with translit_dict key/value.\n",
    "#3.8 Write out the names to a file named \"data-ascii.txt\"\n",
    "#3.9 Verify that the names were converted and written out correctly\n"
   ]
  },
  {
   "cell_type": "markdown",
   "id": "zmOzzRTl4l4P",
   "metadata": {
    "id": "zmOzzRTl4l4P"
   },
   "source": [
    "**`Expected output`**\n",
    "```\n",
    "Richard Phillips Feynman\n",
    "Shin'ichiro Tomonaga\n",
    "Julian Schwinger\n",
    "Rudolf Ludwig Moessbauer\n",
    "Erwin Schroedinger\n",
    "Paul Dirac\n",
    "Maria Sklodowska-Curie\n",
    "Pierre Curie\n",
    "```\n",
    "\n"
   ]
  }
 ],
 "metadata": {
  "colab": {
   "collapsed_sections": [
    "el9sjRdm9gjv",
    "7o91Ig5QKVif",
    "MqZm_iFTPI7f",
    "JfIew_dgmpCQ",
    "kRoOscDyqoCO",
    "wcrKuRsWXUW1",
    "913dpFR0Fp1E",
    "kjA00fVqPjEm"
   ],
   "provenance": []
  },
  "kernelspec": {
   "display_name": "Python 3 (ipykernel)",
   "language": "python",
   "name": "python3"
  },
  "language_info": {
   "codemirror_mode": {
    "name": "ipython",
    "version": 3
   },
   "file_extension": ".py",
   "mimetype": "text/x-python",
   "name": "python",
   "nbconvert_exporter": "python",
   "pygments_lexer": "ipython3",
   "version": "3.10.9"
  }
 },
 "nbformat": 4,
 "nbformat_minor": 5
}
