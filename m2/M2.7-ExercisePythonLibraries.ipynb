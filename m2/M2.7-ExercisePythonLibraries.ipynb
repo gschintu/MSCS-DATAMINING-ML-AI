{
 "cells": [
  {
   "attachments": {},
   "cell_type": "markdown",
   "id": "CU3PQXM0GCkO",
   "metadata": {
    "id": "CU3PQXM0GCkO",
    "tags": []
   },
   "source": [
    "## **`exercise.M.2` - Python Libraries**"
   ]
  },
  {
   "attachments": {},
   "cell_type": "markdown",
   "id": "ea7scL-NEmCR",
   "metadata": {
    "id": "ea7scL-NEmCR"
   },
   "source": [
    "### **`Overview and Directions`**"
   ]
  },
  {
   "attachments": {},
   "cell_type": "markdown",
   "id": "UuJMluyeEmCt",
   "metadata": {
    "id": "UuJMluyeEmCt"
   },
   "source": [
    "* Experience basic text mining `operations`.  \n",
    "=> Read Shakespearen `corpus` into Python `data objects.`\n",
    "* Practice Python `iterators, conditionals, and functions.`\n",
    "* Use `Pandas DataFrames` for desciptive statistics and counts.  \n",
    "* Use `MatplotLib` and `Seaborn` for visualization.\n",
    "* Perform tasks `without assistance from clever sources.`\n",
    "  \n",
    "#### **`Desired outcomes`**  \n",
    "- Interpret ondemand code and object `help()` like `help(os.listdir)`\n",
    "- Learn Python built-in object types https://docs.python.org/3/library/stdtypes.html\n",
    "- Transpose data `left to right`, `right to left`, `top to bottom`, `bottom to top`  \n",
    "- Use Python functions regularly: https://docs.python.org/3/library/functions.html\n",
    "\n",
    "#### **`Learning Moment`** - data nesting\n",
    "![Matryoshkas](https://upload.wikimedia.org/wikipedia/commons/thumb/4/40/Matryoshka_transparent.png/220px-Matryoshka_transparent.png \"dolls\") ![Matryoshkas](https://upload.wikimedia.org/wikipedia/commons/thumb/4/41/Floral_matryoshka_set_2_smallest_doll_nested.JPG/220px-Floral_matryoshka_set_2_smallest_doll_nested.JPG)\n",
    "- Data pack and unpack is similar to nested Russian [Matryoshka dolls](https://en.wikipedia.org/wiki/Matryoshka_doll) \n",
    "\n",
    "- Why essential? Data nesting to pack, unpack, and reference items facilitates  \n",
    "data transformations to suit analysis purpose w transformation and reporting.  \n",
    "=> amongst tuple, list, dictionary, string, sets, and DataFrames + more  \n",
    "- `Goal.1:` use words to explain how data is [nested](https://en.wikipedia.org/wiki/Nesting_(computing)) in Python built-in data objects  \n",
    "=> `[`..mother.doll..`(`..child.1.doll..`)` `{`..child.2.doll..`}`..close.child.1..`)`..close.mother`]`  \n",
    "== `Q` What is ? ==>  [ ( {...} ) ]  \n",
    "=> `Answer:` a `dictionary` is nested in a `tuple` that is nested in a `list`   \n",
    "\n",
    "- `Goal.2:` build proficiency with nesting mechanics, ie transformation  \n",
    "=> `How?` using iterators, conditionals, and functions    \n",
    "=> to rearrange and parse datum items to facilitate inquiry. \n",
    "\n",
    "#### **`Resources`**  \n",
    "- [`course.reference.library::`data.objects.iterators.functions.transformers](https://github.com/cosc-526/home.page/files/11682632/reference.library.data.containers.conditionals.iterators.functions.libraries.transformers.classes.pdf)\n",
    "- [nesting](https://en.wikipedia.org/wiki/Nesting_(computing)) - [data transformation](https://en.wikipedia.org/wiki/Data_transformation_(computing))   "
   ]
  },
  {
   "attachments": {},
   "cell_type": "markdown",
   "id": "h6DHf8eXEmCu",
   "metadata": {
    "id": "h6DHf8eXEmCu",
    "tags": []
   },
   "source": [
    "### **`Task.0`**  - Answer Python core data objects"
   ]
  },
  {
   "attachments": {},
   "cell_type": "markdown",
   "id": "ciBAppU0EmCu",
   "metadata": {
    "id": "ciBAppU0EmCu"
   },
   "source": [
    "=> Using resources provided, put answers with the questions marks (?) are   \n",
    "```\n",
    "object.name  | character.code |   constructor.function    \n",
    "-------------|----------------|-------------------------- \n",
    "mytuple  =   |          ?     |=> mytuple =   ?  (object)\n",
    "mylist   =   |          ?     |=> mylist  =   ?  (object)\n",
    "mydict   =   |          ?     |=> mydict  =   ?  (object)\n",
    "myset    =   |          ?     |=> myset   =   ?  (object)\n",
    "mystring =   |          ?     |=> mystring=   ?  (object) \n",
    "```"
   ]
  },
  {
   "attachments": {},
   "cell_type": "markdown",
   "id": "23a7b931-d317-4ec1-9e52-f0740d543a7f",
   "metadata": {
    "id": "grwEiYPQEmCu"
   },
   "source": [
    "# Enter your answer\n",
    "```\n",
    "object.name  | character.code  |   constructor.function                         |    outcome.example       \n",
    "-------------|---------------- |------------------------------------------------|-------------------------------- \n",
    "mytuple  =   | (, )            |=> mytuple = tuple(('string',(2+0j),[1,2,3]),)  | => ('string',(2+0j),[1,2,3])\n",
    "mylist   =   | []              |=> mylist  = list(['bambam', \"a+b=c\", [1,2,3]]) | => ['bambam', \"a+b=c\", [1,2,3]]\n",
    "mydict   =   | { key:value }   |=> mydict  = dict({'customer':['john','doe'] }) | => {'customer':['john','doe'] }\n",
    "myset    =   | { , }           |=> myset   = set(['b','o', 'o'])                | => ['b','o','o'] [out]{'b','o',}\n",
    "mystring =   | \" \"             |=> mystring= str(myset)                         | => str(myset <or mylist, etc>)\n",
    "\n",
    "```"
   ]
  },
  {
   "attachments": {},
   "cell_type": "markdown",
   "id": "zl_trypLEmCv",
   "metadata": {
    "id": "zl_trypLEmCv"
   },
   "source": [
    "#### **`Task.0.solution`**"
   ]
  },
  {
   "attachments": {},
   "cell_type": "markdown",
   "id": "YzBVERgnPKNM",
   "metadata": {
    "id": "YzBVERgnPKNM"
   },
   "source": [
    "=> Using resources provided, put answers with the questions marks (?) are   \n",
    "```\n",
    "object.name  | character.code |   constructor.function    \n",
    "-------------|----------------|-------------------------- \n",
    "mytuple  =   |          ?     |=> mytuple =   ?  (object)\n",
    "mylist   =   |          ?     |=> mylist  =   ?  (object)\n",
    "mydict   =   |          ?     |=> mydict  =   ?  (object)\n",
    "myset    =   |          ?     |=> myset   =   ?  (object)\n",
    "mystring =   |          ?     |=> mystring=   ?  (object) \n",
    "```"
   ]
  },
  {
   "attachments": {},
   "cell_type": "markdown",
   "id": "TRzsydJjKB7b",
   "metadata": {
    "id": "TRzsydJjKB7b"
   },
   "source": [
    "### **`Task.1`** - Read data into pd.DataFrame  "
   ]
  },
  {
   "attachments": {},
   "cell_type": "markdown",
   "id": "N3Q8b0gzKB8G",
   "metadata": {
    "id": "N3Q8b0gzKB8G"
   },
   "source": [
    "`Desired outcomes`\n",
    "- Understand URL data reads for csv and raw data\n",
    "- Read .xlsx, or .csv files into pandas DataFrames\n",
    "- Transform DataFrames into Python data objects like list and dictionary\n",
    "- Use iterators, conditionals, and functions to pack and unpack nested data\n",
    "\n",
    "**`Subtasks`**  \n",
    "1. Read data into pd.DataFrame   \n",
    "https://github.com/cosc-526/home.page/blob/main/data.M2.exercises.shakespeare.xlsx\n",
    "2. Display DataFrame's information and header information.  \n",
    "3. confirm 37 plays and 4 data fields: title, script, type, id\n",
    "\n",
    "**`Useful links`**  \n",
    "- https://pandas.pydata.org/docs/reference/ \n",
    "- https://pandas.pydata.org/docs/reference/api/pandas.read_excel.html  \n",
    "- Investigate Github data file distinction between regular and raw URL views.  "
   ]
  },
  {
   "attachments": {},
   "cell_type": "markdown",
   "id": "hzZbyFWqKB8H",
   "metadata": {
    "id": "hzZbyFWqKB8H"
   },
   "source": [
    "**`Task.1 Expected Ouput`** - use print() statements to duplicate!\n",
    "```\n",
    "#1 Read data into pd.DataFrame names=> df\n",
    "#2. Display DataFrame's information and header \n",
    "#3. confirm 37 plays and 4 data fields: title, script, type, id\n",
    "\n",
    "=>information\n",
    "              <class 'pandas.core.frame.DataFrame'>\n",
    "              RangeIndex: 37 entries, 0 to 36\n",
    "              Data columns (total 4 columns):\n",
    "              #   Column  Non-Null Count  Dtype \n",
    "              ---  ------  --------------  ----- \n",
    "              0   title   37 non-null     object\n",
    "              1   script  37 non-null     object\n",
    "              2   type    37 non-null     object\n",
    "              3   ID      37 non-null     int64 \n",
    "              dtypes: int64(1), object(3)\n",
    "              memory usage: 1.3+ KB\n",
    "              None\n",
    "                                    title  \\\n",
    "              0  Alls Well That Ends Well   \n",
    "              1            As You Like It   \n",
    "              2      The Comedy of Errors   \n",
    "              3                 Cymbeline   \n",
    "              4        Loves Labours Lost   \n",
    "=>header\n",
    "                                              script    type  ID  \n",
    "0  in delivering my son from me i bury a second h...  Comedy   0  \n",
    "1  as i remember adam it was upon this fashion be...  Comedy   1  \n",
    "2  proceed solinus to procure my fall and by the ...  Comedy   2  \n",
    "3  you do not meet a man but frowns our bloods no...  Comedy   3  \n",
    "4  let fame that all hunt after in their lives li...  Comedy   4  \n",
    "\n",
    " => yes, 37 entries\n",
    "```"
   ]
  },
  {
   "attachments": {},
   "cell_type": "markdown",
   "id": "P03F4bohKB8I",
   "metadata": {
    "id": "P03F4bohKB8I",
    "tags": []
   },
   "source": [
    "#### **`Task.1.solution`**"
   ]
  },
  {
   "cell_type": "code",
   "execution_count": 54,
   "id": "CV9wMotRKB8I",
   "metadata": {
    "colab": {
     "base_uri": "https://localhost:8080/",
     "height": 469
    },
    "id": "CV9wMotRKB8I",
    "outputId": "d023edde-7f77-49ee-c2da-a427215603ad"
   },
   "outputs": [
    {
     "name": "stdout",
     "output_type": "stream",
     "text": [
      "<class 'pandas.core.frame.DataFrame'>\n",
      "RangeIndex: 37 entries, 0 to 36\n",
      "Data columns (total 4 columns):\n",
      " #   Column  Non-Null Count  Dtype \n",
      "---  ------  --------------  ----- \n",
      " 0   title   37 non-null     object\n",
      " 1   script  37 non-null     object\n",
      " 2   type    37 non-null     object\n",
      " 3   ID      37 non-null     int64 \n",
      "dtypes: int64(1), object(3)\n",
      "memory usage: 1.3+ KB\n",
      "None\n",
      "\n",
      "\n",
      "                      title  \\\n",
      "0  Alls Well That Ends Well   \n",
      "1            As You Like It   \n",
      "2      The Comedy of Errors   \n",
      "3                 Cymbeline   \n",
      "4        Loves Labours Lost   \n",
      "\n",
      "                                              script    type  ID  \n",
      "0  in delivering my son from me i bury a second h...  Comedy   0  \n",
      "1  as i remember adam it was upon this fashion be...  Comedy   1  \n",
      "2  proceed solinus to procure my fall and by the ...  Comedy   2  \n",
      "3  you do not meet a man but frowns our bloods no...  Comedy   3  \n",
      "4  let fame that all hunt after in their lives li...  Comedy   4  \n",
      "\n",
      "=> Yes! There are 37 entries and 4 data fields match : ['title', 'script', 'type', 'ID']\n"
     ]
    }
   ],
   "source": [
    "import pandas as pd              #dataframe library\n",
    "import numpy as np               #numeric library\n",
    "import matplotlib.pyplot as plt  #visualization library\n",
    "import requests\n",
    "#import os                       #computer pointer\n",
    "#os.chdir(\"C:\\\\Users\\\\17574\\\\Desktop\\\\data\\\\\")     #from MSFT c:drive location\n",
    "#df0 = pd.read_csv(\"data_shakespeare_corpus.csv\")  #pd.read_csv method\n",
    "\n",
    "#1 Read data into pd.DataFrame \n",
    "url = \"https://github.com/cosc-526/home.page/raw/main/data.M2.exercises.shakespeare.xlsx\"\n",
    "myfile = requests.get(url)\n",
    "df = pd.DataFrame() #explicitly set a data object\n",
    "df = pd.read_excel(myfile.content)\n",
    "\n",
    "#2. Display DataFrame's information and header information\n",
    "print(df.info())\n",
    "print(\"\\n\")\n",
    "print(df.head())\n",
    "\n",
    "#3. confirm 37 plays and 4 data fields: title, script, type, id\n",
    "rows, cols = df.shape\n",
    "\n",
    "expected_columns = ['title', 'script', 'type', 'ID']\n",
    "\n",
    "if rows == 37 and all(col in df.columns for col in expected_columns):\n",
    "    print(\"\\n=> Yes! There are\", rows, \"entries and\",cols ,\"data fields match :\", expected_columns)\n",
    "else:\n",
    "    print(\"\\n=> No! Rows/Entries and/or header don't match expected values\")\n"
   ]
  },
  {
   "attachments": {},
   "cell_type": "markdown",
   "id": "9lOOfApImn7g",
   "metadata": {
    "id": "9lOOfApImn7g"
   },
   "source": [
    "### **`Task.2`**  - Data object manipulation  "
   ]
  },
  {
   "attachments": {},
   "cell_type": "markdown",
   "id": "lqT0YgAwmn77",
   "metadata": {
    "id": "lqT0YgAwmn77"
   },
   "source": [
    "`Desired outcomes`\n",
    "- Convert dataframes to dictionary and lists\n",
    "- Refresh on usefulness of list comprehension techniques\n",
    "- Unpack items into list objects  \n",
    "\n",
    "**`Subtasks`**  \n",
    "1. Send dataframe fields titles and scripts to a list\n",
    "2. Split title words to find the min, max, and total words of all titles \n",
    "\n",
    "**`Useful links`**  \n",
    "- https://pandas.pydata.org/docs/reference/ \n",
    "- Pandas dictionary functions https://pandas.pydata.org/docs/reference/frame.html\n",
    "- [zip] - https://docs.python.org/3/library/functions.html#zip\n",
    "- [type] - https://docs.python.org/3/library/functions.html#type"
   ]
  },
  {
   "cell_type": "code",
   "execution_count": 3,
   "id": "7rXBZY_N3pit",
   "metadata": {
    "id": "7rXBZY_N3pit"
   },
   "outputs": [
    {
     "name": "stdout",
     "output_type": "stream",
     "text": [
      "Help on class zip in module builtins:\n",
      "\n",
      "class zip(object)\n",
      " |  zip(*iterables, strict=False) --> Yield tuples until an input is exhausted.\n",
      " |  \n",
      " |     >>> list(zip('abcdefg', range(3), range(4)))\n",
      " |     [('a', 0, 0), ('b', 1, 1), ('c', 2, 2)]\n",
      " |  \n",
      " |  The zip object yields n-length tuples, where n is the number of iterables\n",
      " |  passed as positional arguments to zip().  The i-th element in every tuple\n",
      " |  comes from the i-th iterable argument to zip().  This continues until the\n",
      " |  shortest argument is exhausted.\n",
      " |  \n",
      " |  If strict is true and one of the arguments is exhausted before the others,\n",
      " |  raise a ValueError.\n",
      " |  \n",
      " |  Methods defined here:\n",
      " |  \n",
      " |  __getattribute__(self, name, /)\n",
      " |      Return getattr(self, name).\n",
      " |  \n",
      " |  __iter__(self, /)\n",
      " |      Implement iter(self).\n",
      " |  \n",
      " |  __next__(self, /)\n",
      " |      Implement next(self).\n",
      " |  \n",
      " |  __reduce__(...)\n",
      " |      Return state information for pickling.\n",
      " |  \n",
      " |  __setstate__(...)\n",
      " |      Set state information for unpickling.\n",
      " |  \n",
      " |  ----------------------------------------------------------------------\n",
      " |  Static methods defined here:\n",
      " |  \n",
      " |  __new__(*args, **kwargs) from builtins.type\n",
      " |      Create and return a new object.  See help(type) for accurate signature.\n",
      "\n"
     ]
    }
   ],
   "source": [
    "# Learning moment => google query less by learning Python help system\n",
    "help(zip)"
   ]
  },
  {
   "attachments": {},
   "cell_type": "markdown",
   "id": "RphSDQVFmn78",
   "metadata": {
    "id": "RphSDQVFmn78"
   },
   "source": [
    "**`Task.2 Expected Output`**\n",
    "```\n",
    "2.2 Output:\n",
    "1. parse dataframe to get titles only\n",
    "['Alls Well That Ends Well', 'As You Like It', 'The Comedy of Errors', 'Cymbeline', 'Loves Labours Lost', 'Measure for Measure', 'The Merry Wives of Windsor', 'The Merchant of Venice', 'A Midsummer Nights Dream', 'Much Ado About Nothing', 'Pericles Prince of Tyre', 'Taming of the Shrew', 'The Tempest', 'Troilus and Cressida', 'Twelfth Night', 'Two Gentlemen of Verona', 'Winters Tale', 'Henry IV part 1', 'Henry IV part 2', 'Henry V', 'Henry VI part 1', 'Henry VI part 2', 'Henry VI part 3', 'Henry VIII', 'King John', 'Richard II', 'Richard III', 'Antony and Cleopatra', 'Coriolanus', 'Hamlet', 'Julius Caesar', 'King Lear', 'Macbeth', 'Othello', 'Romeo and Juliet', 'Timon of Athens', 'Titus Andronicus']\n",
    "lenght of scripts 37 \n",
    "2.3 Output:\n",
    "2. total title words  \n",
    "min title lenght= 1  \n",
    "max title length= 5  \n",
    "total words= 107\n",
    "```"
   ]
  },
  {
   "attachments": {},
   "cell_type": "markdown",
   "id": "vcsAA005mn79",
   "metadata": {
    "id": "vcsAA005mn79"
   },
   "source": [
    "#### **`Task.2.solution`**"
   ]
  },
  {
   "cell_type": "code",
   "execution_count": 27,
   "id": "ehbIq3fNF7Ez",
   "metadata": {
    "colab": {
     "base_uri": "https://localhost:8080/"
    },
    "id": "ehbIq3fNF7Ez",
    "outputId": "557caf1e-6c67-4bab-b7b3-64efe60b72e7"
   },
   "outputs": [
    {
     "name": "stdout",
     "output_type": "stream",
     "text": [
      "2.2 Output: Titles only\n",
      "\n",
      "['Alls Well That Ends Well', 'As You Like It', 'The Comedy of Errors', 'Cymbeline', 'Loves Labours Lost', 'Measure for Measure', 'The Merry Wives of Windsor', 'The Merchant of Venice', 'A Midsummer Nights Dream', 'Much Ado About Nothing', 'Pericles Prince of Tyre', 'Taming of the Shrew', 'The Tempest', 'Troilus and Cressida', 'Twelfth Night', 'Two Gentlemen of Verona', 'Winters Tale', 'Henry IV part 1', 'Henry IV part 2', 'Henry V', 'Henry VI part 1', 'Henry VI part 2', 'Henry VI part 3', 'Henry VIII', 'King John', 'Richard II', 'Richard III', 'Antony and Cleopatra', 'Coriolanus', 'Hamlet', 'Julius Caesar', 'King Lear', 'Macbeth', 'Othello', 'Romeo and Juliet', 'Timon of Athens', 'Titus Andronicus'] \n",
      "\n",
      "2.3 Output: Title & Words statistics\n",
      "\n",
      "min title lenght= 1 \n",
      "max title length= 5 \n",
      "total words= 107\n"
     ]
    }
   ],
   "source": [
    "import pandas as pd              #dataframe library\n",
    "import numpy as np               #numeric library\n",
    "import requests\n",
    "\n",
    "#import os                       #computer pointer\n",
    "#os.chdir(\"C:\\\\Users\\\\17574\\\\Desktop\\\\data\\\\\")     #from MSFT c:drive location\n",
    "#df0 = pd.read_csv(\"data_shakespeare_corpus.csv\")  #pd.read_csv method\n",
    "\n",
    "#1 Read data into pd.DataFrame \n",
    "url = \"https://github.com/cosc-526/home.page/raw/main/data.M2.exercises.shakespeare.xlsx\"\n",
    "myfile = requests.get(url)\n",
    "df = pd.DataFrame() #explicitly set a data object\n",
    "df = pd.read_excel(myfile.content)\n",
    "\n",
    "\n",
    "# Convert DataFrame to a dictionary\n",
    "df_dict = df.to_dict()\n",
    "\n",
    "# Convert DataFrame columns to lists\n",
    "titles_list = df['title'].tolist()\n",
    "scripts_list = df['script'].tolist()\n",
    "\n",
    "fields_list = ['title', 'script']\n",
    "\n",
    "# Split titles and find min, max, and total words\n",
    "title_words = [word for title in titles_list for word in title.split()]\n",
    "min_words = min(len(title.split()) for title in titles_list)\n",
    "max_words = max(len(title.split()) for title in titles_list)\n",
    "total_words = sum(len(title.split()) for title in titles_list)\n",
    "\n",
    "print(\"2.2 Output: Titles only\\n\")\n",
    "print(titles_list, \"\\n\")\n",
    "\n",
    "print(\"2.3 Output: Title & Words statistics\\n\")\n",
    "print(\"min title lenght=\",min_words,\"\\nmax title length=\",max_words,\"\\ntotal words=\",total_words)"
   ]
  },
  {
   "attachments": {},
   "cell_type": "markdown",
   "id": "ck_ydpMsOQW8",
   "metadata": {
    "id": "ck_ydpMsOQW8"
   },
   "source": [
    "### **`Task.3`**  - Data Grouping and analysis"
   ]
  },
  {
   "attachments": {},
   "cell_type": "markdown",
   "id": "lhZX6fTAOQXW",
   "metadata": {
    "id": "lhZX6fTAOQXW"
   },
   "source": [
    "**`Subtasks`**  \n",
    "The dataframe has 4 fields includuing:  \n",
    "=> Index(['title', 'script', `type`, 'ID'], dtype='object')  \n",
    "=> Type designates shakespeare playtype of comedy, tragedy, and history.\n",
    "- correct! there's also poetry but not in this corpus.\n",
    "1. Count the total words in the corpus provided displaying  \n",
    "`comedy` - word count  \n",
    "`history` - word count  \n",
    "`tragedy` - word count  \n",
    "=> Please use any method and means of doing so  \n",
    "\n",
    "**`Useful links`**  \n",
    "-[joris van den bossche](https://github.com/jorisvandenbossche) is a curious person  \n",
    "- https://github.com/jorisvandenbossche/pandas-tutorial/blob/master/solved%20-%2004b%20-%20Advanced%20groupby%20operations.ipynb"
   ]
  },
  {
   "cell_type": "code",
   "execution_count": null,
   "id": "lwMtEXCLOQXW",
   "metadata": {
    "id": "lwMtEXCLOQXW"
   },
   "outputs": [],
   "source": []
  },
  {
   "attachments": {},
   "cell_type": "markdown",
   "id": "fDbCjWP6e7lY",
   "metadata": {
    "id": "fDbCjWP6e7lY"
   },
   "source": [
    "**`Task.3 Expected Output`**\n",
    "```\n",
    "via lambda method \n",
    " \n",
    " type\n",
    "Comedy     110343\n",
    "History     63049\n",
    "Tragedy     63854\n",
    "Name: script, dtype: int64 \n",
    "\n",
    "via row iteration method \n",
    " \n",
    " Comedy     110343\n",
    "History     63049\n",
    "Tragedy     63854\n",
    "dtype: int64\n",
    "```"
   ]
  },
  {
   "attachments": {},
   "cell_type": "markdown",
   "id": "6j9bbUJ6OQXX",
   "metadata": {
    "id": "6j9bbUJ6OQXX"
   },
   "source": [
    "#### **`Task.3.solution`**"
   ]
  },
  {
   "cell_type": "code",
   "execution_count": 36,
   "id": "eySMd3x8VJZJ",
   "metadata": {
    "colab": {
     "base_uri": "https://localhost:8080/"
    },
    "id": "eySMd3x8VJZJ",
    "outputId": "56eda453-b52a-4123-f0ef-4db7db3aaad8"
   },
   "outputs": [
    {
     "name": "stdout",
     "output_type": "stream",
     "text": [
      "Word count by play type: Lambda version\n",
      "Comedy: 110343\n",
      "History: 63049\n",
      "Tragedy: 63854\n",
      "\n",
      "Word count by play type: Filter with .loc() feature\n",
      "Comedy: 110343\n",
      "History: 63049\n",
      "Tragedy: 63854\n"
     ]
    }
   ],
   "source": [
    "#3. Create three variables and count total words by play type\n",
    "\n",
    "#option.A - use of database functions combined with lambda\n",
    "\n",
    "#option.B - iterate the rows in the dataframe\n",
    "\n",
    "import pandas as pd              #dataframe library\n",
    "import numpy as np               #numeric library\n",
    "import requests\n",
    "\n",
    "#import os                       #computer pointer\n",
    "#os.chdir(\"C:\\\\Users\\\\17574\\\\Desktop\\\\data\\\\\")     #from MSFT c:drive location\n",
    "#df0 = pd.read_csv(\"data_shakespeare_corpus.csv\")  #pd.read_csv method\n",
    "\n",
    "#1 Read data into pd.DataFrame \n",
    "url = \"https://github.com/cosc-526/home.page/raw/main/data.M2.exercises.shakespeare.xlsx\"\n",
    "myfile = requests.get(url)\n",
    "df = pd.DataFrame() #explicitly set a data object\n",
    "df = pd.read_excel(myfile.content)\n",
    "\n",
    "# Group by play type and calculate total words\n",
    "word_counts = df.groupby('type')['script'].apply(lambda x: x.str.split().apply(len).sum()).reset_index()\n",
    "\n",
    "# Display word counts\n",
    "print(\"Word count by play type: Lambda version\")\n",
    "for _, row in word_counts.iterrows():\n",
    "    play_type = row['type']\n",
    "    word_count = row['script']\n",
    "    print(f\"{play_type}: {word_count}\")\n",
    "\n",
    "\n",
    "# Count total words for each play type\n",
    "comedy_words = df.loc[df['type'] == 'Comedy', 'script'].str.split().apply(len).sum()\n",
    "history_words = df.loc[df['type'] == 'History', 'script'].str.split().apply(len).sum()\n",
    "tragedy_words = df.loc[df['type'] == 'Tragedy', 'script'].str.split().apply(len).sum()\n",
    "\n",
    "# Display word counts\n",
    "print(\"\\nWord count by play type: Filter with .loc() feature\")\n",
    "print(\"Comedy:\", comedy_words)\n",
    "print(\"History:\", history_words)\n",
    "print(\"Tragedy:\", tragedy_words)\n",
    "\n",
    "\n"
   ]
  },
  {
   "attachments": {},
   "cell_type": "markdown",
   "id": "UNMwvqLPOY_g",
   "metadata": {
    "id": "UNMwvqLPOY_g"
   },
   "source": [
    "### **`Task.4`**  - Predict Play Types"
   ]
  },
  {
   "attachments": {},
   "cell_type": "markdown",
   "id": "Ciet2kxiOY_s",
   "metadata": {
    "id": "Ciet2kxiOY_s"
   },
   "source": [
    "`Task Overview`  \n",
    "Working with large code blocks can be overwhelming, especially in data mining.  \n",
    "The programmers encourage your patience and creativity vs. intimidation!  \n",
    "Use the stages to organize thinking, prepare analysis, machine learning, and results analysis.  \n",
    "\n",
    "- Many new intuitive plots from Plotly are available to expedite your capabilities.  \n",
    "- Use practice and perseverance to increase your competency with code structures.\n",
    "- Try changing fonts, adjusting screen size, and working in other applications  \n",
    "=> Colab, Spyder, and PyCharm  \n",
    "- The data mining stages provided are debated, and other approaches are valid.  \n",
    "- Use them to organize your thinking and arrange your future coursework.\n",
    "\n",
    "`Stage 1: Data Preparation`\n",
    "- Extract raw or curated information into Python data objects.\n",
    "- Exclude a specified number of plays from training randomly.\n",
    "- Separate the features (script) and labels (type) from the dataset.\n",
    "\n",
    "`Stage 2: Feature Extraction`\n",
    "- Perform feature extraction.\n",
    "- For text mining, TF-IDF vectorization is a common practice.  \n",
    "\n",
    "`Stage 3: Machine Learning`\n",
    "- Week 3 starts skilling in which type of algorithm to select based on data features.\n",
    "- Train a Random Forest classifier to help predict its play type.\n",
    "- Print actual test data play types compared to their predicted play types.\n",
    "- Calculate the prediction accuracy of the excluded plays.\n",
    "\n",
    "`Stage 4: Model Evaluation`  \n",
    "- Assess the accuracy of the trained model using various evaluation techniques  \n",
    "=> cross-validation, confusion matrix, precision, recall, and F1 score.  \n",
    "\n",
    "`Stage 5: Visualization`\n",
    "- Apply PCA (Principal Component Analysis) to the script features.\n",
    "- Create a 3D scatter w Plotly Express to visualize the transformed features x play types.\n",
    "- Custom 'x marks the spot' markers indicate correct and incorrect predicted play types.  \n",
    "\n",
    "- As a refresher, you don't need prior experience with this code.\n",
    "- Learn how the code operates to build your data mining code language.\n",
    "\n",
    "**`Subtasks`**    \n",
    "0. Read course [reference.library.Mashup](https://github.com/cosc-526/home.page/blob/069c9488de24d712c642e0f014d37759fc99185d/reference.library.Mashup.data.mine.pdf) section  \n",
    "=> Section I. Data preprocessing and supervised, unsupervised algorithm purpose  \n",
    "1. Run code and enter 1-5 plays to exclude from training and use in testing.   \n",
    "=> outcome graph engineered for your learning experience w 1-5 test cases.  \n",
    "=> Any excluded item is a play the trained model attempts to classify accurately.  \n",
    "2. Analyze code and explain what each section is doing.   \n",
    "3. Analyze the outcome graph and explain what it provides.  \n",
    "4. Why were random forest algorithms assigned?  \n",
    "3. Specify areas where you would benefit from additional professor discussion.   "
   ]
  },
  {
   "cell_type": "code",
   "execution_count": 6,
   "id": "HI58oz_fEeST",
   "metadata": {
    "colab": {
     "base_uri": "https://localhost:8080/"
    },
    "id": "HI58oz_fEeST",
    "outputId": "32c5d4be-be3b-486b-943f-de8d36f4d936"
   },
   "outputs": [
    {
     "name": "stdout",
     "output_type": "stream",
     "text": [
      "Name: plotly\n",
      "Version: 5.15.0\n",
      "Summary: An open-source, interactive data visualization library for Python\n",
      "Home-page: https://plotly.com/python/\n",
      "Author: Chris P\n",
      "Author-email: chris@plot.ly\n",
      "License: MIT\n",
      "Location: /opt/conda/lib/python3.10/site-packages\n",
      "Requires: packaging, tenacity\n",
      "Required-by: \n"
     ]
    }
   ],
   "source": [
    "!pip show plotly   #visualization library used in course\n",
    "#Name: plotly\n",
    "#Version: 5.13.1\n",
    "#Home-page: https://plotly.com/python/\n",
    "\n",
    "#!pip install plotly  #as a refresher run on terminal if python ur machine"
   ]
  },
  {
   "cell_type": "code",
   "execution_count": 55,
   "id": "202a6e14-a55a-4c74-86b2-cdcd4031bd6f",
   "metadata": {
    "colab": {
     "base_uri": "https://localhost:8080/",
     "height": 1000
    },
    "id": "4Z-YlZ8Iu0wo",
    "outputId": "19b281ab-b3ca-4585-c352-905325c1ef41",
    "tags": []
   },
   "outputs": [
    {
     "name": "stdout",
     "output_type": "stream",
     "text": [
      "Excluded Plays (Test Data):\n",
      "Case: 1\n",
      "Title: Two Gentlemen of Verona\n",
      "Type: Comedy\n",
      "Predicted Type: Comedy\n",
      "\n",
      "Test Accuracy: 1.0\n"
     ]
    },
    {
     "data": {
      "application/vnd.plotly.v1+json": {
       "config": {
        "plotlyServerURL": "https://plot.ly"
       },
       "data": [
        {
         "hovertemplate": "Type=Comedy<br>PC1=%{x}<br>PC2=%{y}<br>PC3=%{z}<extra></extra>",
         "legendgroup": "Comedy",
         "marker": {
          "color": "#636efa",
          "symbol": "circle"
         },
         "mode": "markers",
         "name": "Comedy",
         "scene": "scene",
         "showlegend": true,
         "type": "scatter3d",
         "x": [
          0.14108424630931035,
          0.1625251358057972,
          0.11542912815804508,
          0.05132301538655497,
          0.009629216118622521,
          0.16290396129120693,
          0.3043014718818442,
          0.029656351559758043,
          0.04799295676642279,
          0.20243226520488353,
          -0.012672279467474928,
          0.17714844911885078,
          -0.009292773502983319,
          0.13416276740237743,
          0.08540806385862407,
          0.07493306026391959
         ],
         "y": [
          -0.03776403632276415,
          -0.142563765891113,
          -0.23831263279322687,
          0.0016303478824287077,
          0.04019362398425543,
          0.15064496445235126,
          0.1302567860760901,
          0.04165953064472092,
          -0.09548328680370252,
          -0.09888395894012596,
          -0.019045683729867865,
          -0.017636965730497584,
          -0.010327297522906337,
          0.0007942893555590051,
          -0.06875138637838761,
          -0.05354498224654803
         ],
         "z": [
          -0.07258206423336426,
          -0.01834993298391392,
          0.09930739593665643,
          -0.0081025721045181,
          -0.050263940659285675,
          -0.04102353347495121,
          -0.03352512755618585,
          -0.034628323341952746,
          -0.023024908804770768,
          -0.05114702467036385,
          -0.052826693840295015,
          -0.07137303428281007,
          -0.005147403744048813,
          -0.03347488054628345,
          -0.03398053380782126,
          -0.04354579250708252
         ]
        },
        {
         "hovertemplate": "Type=History<br>PC1=%{x}<br>PC2=%{y}<br>PC3=%{z}<extra></extra>",
         "legendgroup": "History",
         "marker": {
          "color": "#EF553B",
          "symbol": "circle"
         },
         "mode": "markers",
         "name": "History",
         "scene": "scene",
         "showlegend": true,
         "type": "scatter3d",
         "x": [
          -0.1220758166569244,
          -0.045231058543728164,
          -0.2750570124098948,
          -0.23455560490194013,
          -0.188804592070786,
          -0.258339769106102,
          -0.07134797135295921,
          -0.1592491585132462,
          -0.21484553394089714,
          -0.052871193906601256
         ],
         "y": [
          -0.022013914434504338,
          0.10475254940711373,
          0.2080056375706399,
          0.006563121993784275,
          -0.09847161121295182,
          -0.08343791818821401,
          0.11354960132465416,
          -0.043380521233125725,
          -0.08861176336440375,
          -0.05143298673034444
         ],
         "z": [
          0.021619378030503143,
          -0.008101576392704894,
          -0.032011257287868265,
          -0.04080520994909137,
          -0.009968864250359984,
          -0.043546922835834,
          -0.029445170328248418,
          -0.03957238577936823,
          -0.02317305582767324,
          -0.0670224822649859
         ]
        },
        {
         "hovertemplate": "Type=Tragedy<br>PC1=%{x}<br>PC2=%{y}<br>PC3=%{z}<extra></extra>",
         "legendgroup": "Tragedy",
         "marker": {
          "color": "#00cc96",
          "symbol": "circle"
         },
         "mode": "markers",
         "name": "Tragedy",
         "scene": "scene",
         "showlegend": true,
         "type": "scatter3d",
         "x": [
          -0.004979412505011069,
          0.10080290991413303,
          -0.06320437267999146,
          0.051523272790049736,
          0.02474553912902337,
          -0.1687463153251775,
          0.08253458019794566,
          0.066429758065217,
          -0.011378453454069617,
          -0.13231483088479898
         ],
         "y": [
          -0.0814938916396608,
          0.26869705967700236,
          0.09346293386452895,
          0.1497538309149872,
          0.03719034154034148,
          0.13302424696905393,
          0.0065051735639365385,
          -0.06677585048738444,
          0.009732181933935895,
          -0.17848376750565284
         ],
         "z": [
          0.45386016150277925,
          0.030184245565691693,
          -0.04494123330299953,
          0.30484924193787366,
          -0.022117477584187913,
          0.03492002097105108,
          -0.040521894237489295,
          -0.013343248321847918,
          0.04514406795627603,
          -0.00231796698052531
         ]
        },
        {
         "marker": {
          "color": "black",
          "line": {
           "color": "black",
           "width": 1
          },
          "size": 10
         },
         "mode": "markers",
         "name": "Predicted Type: Comedy",
         "type": "scatter3d",
         "x": [
          0.07493306026391959
         ],
         "y": [
          -0.05354498224654803
         ],
         "z": [
          -0.04354579250708252
         ]
        }
       ],
       "layout": {
        "legend": {
         "title": {
          "text": "Type"
         },
         "tracegroupgap": 0
        },
        "margin": {
         "t": 60
        },
        "scene": {
         "domain": {
          "x": [
           0,
           1
          ],
          "y": [
           0,
           1
          ]
         },
         "xaxis": {
          "title": {
           "text": "Principal Component 1"
          }
         },
         "yaxis": {
          "title": {
           "text": "Principal Component 2"
          }
         },
         "zaxis": {
          "title": {
           "text": "Principal Component 3"
          }
         }
        },
        "showlegend": true,
        "template": {
         "data": {
          "bar": [
           {
            "error_x": {
             "color": "#2a3f5f"
            },
            "error_y": {
             "color": "#2a3f5f"
            },
            "marker": {
             "line": {
              "color": "#E5ECF6",
              "width": 0.5
             },
             "pattern": {
              "fillmode": "overlay",
              "size": 10,
              "solidity": 0.2
             }
            },
            "type": "bar"
           }
          ],
          "barpolar": [
           {
            "marker": {
             "line": {
              "color": "#E5ECF6",
              "width": 0.5
             },
             "pattern": {
              "fillmode": "overlay",
              "size": 10,
              "solidity": 0.2
             }
            },
            "type": "barpolar"
           }
          ],
          "carpet": [
           {
            "aaxis": {
             "endlinecolor": "#2a3f5f",
             "gridcolor": "white",
             "linecolor": "white",
             "minorgridcolor": "white",
             "startlinecolor": "#2a3f5f"
            },
            "baxis": {
             "endlinecolor": "#2a3f5f",
             "gridcolor": "white",
             "linecolor": "white",
             "minorgridcolor": "white",
             "startlinecolor": "#2a3f5f"
            },
            "type": "carpet"
           }
          ],
          "choropleth": [
           {
            "colorbar": {
             "outlinewidth": 0,
             "ticks": ""
            },
            "type": "choropleth"
           }
          ],
          "contour": [
           {
            "colorbar": {
             "outlinewidth": 0,
             "ticks": ""
            },
            "colorscale": [
             [
              0,
              "#0d0887"
             ],
             [
              0.1111111111111111,
              "#46039f"
             ],
             [
              0.2222222222222222,
              "#7201a8"
             ],
             [
              0.3333333333333333,
              "#9c179e"
             ],
             [
              0.4444444444444444,
              "#bd3786"
             ],
             [
              0.5555555555555556,
              "#d8576b"
             ],
             [
              0.6666666666666666,
              "#ed7953"
             ],
             [
              0.7777777777777778,
              "#fb9f3a"
             ],
             [
              0.8888888888888888,
              "#fdca26"
             ],
             [
              1,
              "#f0f921"
             ]
            ],
            "type": "contour"
           }
          ],
          "contourcarpet": [
           {
            "colorbar": {
             "outlinewidth": 0,
             "ticks": ""
            },
            "type": "contourcarpet"
           }
          ],
          "heatmap": [
           {
            "colorbar": {
             "outlinewidth": 0,
             "ticks": ""
            },
            "colorscale": [
             [
              0,
              "#0d0887"
             ],
             [
              0.1111111111111111,
              "#46039f"
             ],
             [
              0.2222222222222222,
              "#7201a8"
             ],
             [
              0.3333333333333333,
              "#9c179e"
             ],
             [
              0.4444444444444444,
              "#bd3786"
             ],
             [
              0.5555555555555556,
              "#d8576b"
             ],
             [
              0.6666666666666666,
              "#ed7953"
             ],
             [
              0.7777777777777778,
              "#fb9f3a"
             ],
             [
              0.8888888888888888,
              "#fdca26"
             ],
             [
              1,
              "#f0f921"
             ]
            ],
            "type": "heatmap"
           }
          ],
          "heatmapgl": [
           {
            "colorbar": {
             "outlinewidth": 0,
             "ticks": ""
            },
            "colorscale": [
             [
              0,
              "#0d0887"
             ],
             [
              0.1111111111111111,
              "#46039f"
             ],
             [
              0.2222222222222222,
              "#7201a8"
             ],
             [
              0.3333333333333333,
              "#9c179e"
             ],
             [
              0.4444444444444444,
              "#bd3786"
             ],
             [
              0.5555555555555556,
              "#d8576b"
             ],
             [
              0.6666666666666666,
              "#ed7953"
             ],
             [
              0.7777777777777778,
              "#fb9f3a"
             ],
             [
              0.8888888888888888,
              "#fdca26"
             ],
             [
              1,
              "#f0f921"
             ]
            ],
            "type": "heatmapgl"
           }
          ],
          "histogram": [
           {
            "marker": {
             "pattern": {
              "fillmode": "overlay",
              "size": 10,
              "solidity": 0.2
             }
            },
            "type": "histogram"
           }
          ],
          "histogram2d": [
           {
            "colorbar": {
             "outlinewidth": 0,
             "ticks": ""
            },
            "colorscale": [
             [
              0,
              "#0d0887"
             ],
             [
              0.1111111111111111,
              "#46039f"
             ],
             [
              0.2222222222222222,
              "#7201a8"
             ],
             [
              0.3333333333333333,
              "#9c179e"
             ],
             [
              0.4444444444444444,
              "#bd3786"
             ],
             [
              0.5555555555555556,
              "#d8576b"
             ],
             [
              0.6666666666666666,
              "#ed7953"
             ],
             [
              0.7777777777777778,
              "#fb9f3a"
             ],
             [
              0.8888888888888888,
              "#fdca26"
             ],
             [
              1,
              "#f0f921"
             ]
            ],
            "type": "histogram2d"
           }
          ],
          "histogram2dcontour": [
           {
            "colorbar": {
             "outlinewidth": 0,
             "ticks": ""
            },
            "colorscale": [
             [
              0,
              "#0d0887"
             ],
             [
              0.1111111111111111,
              "#46039f"
             ],
             [
              0.2222222222222222,
              "#7201a8"
             ],
             [
              0.3333333333333333,
              "#9c179e"
             ],
             [
              0.4444444444444444,
              "#bd3786"
             ],
             [
              0.5555555555555556,
              "#d8576b"
             ],
             [
              0.6666666666666666,
              "#ed7953"
             ],
             [
              0.7777777777777778,
              "#fb9f3a"
             ],
             [
              0.8888888888888888,
              "#fdca26"
             ],
             [
              1,
              "#f0f921"
             ]
            ],
            "type": "histogram2dcontour"
           }
          ],
          "mesh3d": [
           {
            "colorbar": {
             "outlinewidth": 0,
             "ticks": ""
            },
            "type": "mesh3d"
           }
          ],
          "parcoords": [
           {
            "line": {
             "colorbar": {
              "outlinewidth": 0,
              "ticks": ""
             }
            },
            "type": "parcoords"
           }
          ],
          "pie": [
           {
            "automargin": true,
            "type": "pie"
           }
          ],
          "scatter": [
           {
            "fillpattern": {
             "fillmode": "overlay",
             "size": 10,
             "solidity": 0.2
            },
            "type": "scatter"
           }
          ],
          "scatter3d": [
           {
            "line": {
             "colorbar": {
              "outlinewidth": 0,
              "ticks": ""
             }
            },
            "marker": {
             "colorbar": {
              "outlinewidth": 0,
              "ticks": ""
             }
            },
            "type": "scatter3d"
           }
          ],
          "scattercarpet": [
           {
            "marker": {
             "colorbar": {
              "outlinewidth": 0,
              "ticks": ""
             }
            },
            "type": "scattercarpet"
           }
          ],
          "scattergeo": [
           {
            "marker": {
             "colorbar": {
              "outlinewidth": 0,
              "ticks": ""
             }
            },
            "type": "scattergeo"
           }
          ],
          "scattergl": [
           {
            "marker": {
             "colorbar": {
              "outlinewidth": 0,
              "ticks": ""
             }
            },
            "type": "scattergl"
           }
          ],
          "scattermapbox": [
           {
            "marker": {
             "colorbar": {
              "outlinewidth": 0,
              "ticks": ""
             }
            },
            "type": "scattermapbox"
           }
          ],
          "scatterpolar": [
           {
            "marker": {
             "colorbar": {
              "outlinewidth": 0,
              "ticks": ""
             }
            },
            "type": "scatterpolar"
           }
          ],
          "scatterpolargl": [
           {
            "marker": {
             "colorbar": {
              "outlinewidth": 0,
              "ticks": ""
             }
            },
            "type": "scatterpolargl"
           }
          ],
          "scatterternary": [
           {
            "marker": {
             "colorbar": {
              "outlinewidth": 0,
              "ticks": ""
             }
            },
            "type": "scatterternary"
           }
          ],
          "surface": [
           {
            "colorbar": {
             "outlinewidth": 0,
             "ticks": ""
            },
            "colorscale": [
             [
              0,
              "#0d0887"
             ],
             [
              0.1111111111111111,
              "#46039f"
             ],
             [
              0.2222222222222222,
              "#7201a8"
             ],
             [
              0.3333333333333333,
              "#9c179e"
             ],
             [
              0.4444444444444444,
              "#bd3786"
             ],
             [
              0.5555555555555556,
              "#d8576b"
             ],
             [
              0.6666666666666666,
              "#ed7953"
             ],
             [
              0.7777777777777778,
              "#fb9f3a"
             ],
             [
              0.8888888888888888,
              "#fdca26"
             ],
             [
              1,
              "#f0f921"
             ]
            ],
            "type": "surface"
           }
          ],
          "table": [
           {
            "cells": {
             "fill": {
              "color": "#EBF0F8"
             },
             "line": {
              "color": "white"
             }
            },
            "header": {
             "fill": {
              "color": "#C8D4E3"
             },
             "line": {
              "color": "white"
             }
            },
            "type": "table"
           }
          ]
         },
         "layout": {
          "annotationdefaults": {
           "arrowcolor": "#2a3f5f",
           "arrowhead": 0,
           "arrowwidth": 1
          },
          "autotypenumbers": "strict",
          "coloraxis": {
           "colorbar": {
            "outlinewidth": 0,
            "ticks": ""
           }
          },
          "colorscale": {
           "diverging": [
            [
             0,
             "#8e0152"
            ],
            [
             0.1,
             "#c51b7d"
            ],
            [
             0.2,
             "#de77ae"
            ],
            [
             0.3,
             "#f1b6da"
            ],
            [
             0.4,
             "#fde0ef"
            ],
            [
             0.5,
             "#f7f7f7"
            ],
            [
             0.6,
             "#e6f5d0"
            ],
            [
             0.7,
             "#b8e186"
            ],
            [
             0.8,
             "#7fbc41"
            ],
            [
             0.9,
             "#4d9221"
            ],
            [
             1,
             "#276419"
            ]
           ],
           "sequential": [
            [
             0,
             "#0d0887"
            ],
            [
             0.1111111111111111,
             "#46039f"
            ],
            [
             0.2222222222222222,
             "#7201a8"
            ],
            [
             0.3333333333333333,
             "#9c179e"
            ],
            [
             0.4444444444444444,
             "#bd3786"
            ],
            [
             0.5555555555555556,
             "#d8576b"
            ],
            [
             0.6666666666666666,
             "#ed7953"
            ],
            [
             0.7777777777777778,
             "#fb9f3a"
            ],
            [
             0.8888888888888888,
             "#fdca26"
            ],
            [
             1,
             "#f0f921"
            ]
           ],
           "sequentialminus": [
            [
             0,
             "#0d0887"
            ],
            [
             0.1111111111111111,
             "#46039f"
            ],
            [
             0.2222222222222222,
             "#7201a8"
            ],
            [
             0.3333333333333333,
             "#9c179e"
            ],
            [
             0.4444444444444444,
             "#bd3786"
            ],
            [
             0.5555555555555556,
             "#d8576b"
            ],
            [
             0.6666666666666666,
             "#ed7953"
            ],
            [
             0.7777777777777778,
             "#fb9f3a"
            ],
            [
             0.8888888888888888,
             "#fdca26"
            ],
            [
             1,
             "#f0f921"
            ]
           ]
          },
          "colorway": [
           "#636efa",
           "#EF553B",
           "#00cc96",
           "#ab63fa",
           "#FFA15A",
           "#19d3f3",
           "#FF6692",
           "#B6E880",
           "#FF97FF",
           "#FECB52"
          ],
          "font": {
           "color": "#2a3f5f"
          },
          "geo": {
           "bgcolor": "white",
           "lakecolor": "white",
           "landcolor": "#E5ECF6",
           "showlakes": true,
           "showland": true,
           "subunitcolor": "white"
          },
          "hoverlabel": {
           "align": "left"
          },
          "hovermode": "closest",
          "mapbox": {
           "style": "light"
          },
          "paper_bgcolor": "white",
          "plot_bgcolor": "#E5ECF6",
          "polar": {
           "angularaxis": {
            "gridcolor": "white",
            "linecolor": "white",
            "ticks": ""
           },
           "bgcolor": "#E5ECF6",
           "radialaxis": {
            "gridcolor": "white",
            "linecolor": "white",
            "ticks": ""
           }
          },
          "scene": {
           "xaxis": {
            "backgroundcolor": "#E5ECF6",
            "gridcolor": "white",
            "gridwidth": 2,
            "linecolor": "white",
            "showbackground": true,
            "ticks": "",
            "zerolinecolor": "white"
           },
           "yaxis": {
            "backgroundcolor": "#E5ECF6",
            "gridcolor": "white",
            "gridwidth": 2,
            "linecolor": "white",
            "showbackground": true,
            "ticks": "",
            "zerolinecolor": "white"
           },
           "zaxis": {
            "backgroundcolor": "#E5ECF6",
            "gridcolor": "white",
            "gridwidth": 2,
            "linecolor": "white",
            "showbackground": true,
            "ticks": "",
            "zerolinecolor": "white"
           }
          },
          "shapedefaults": {
           "line": {
            "color": "#2a3f5f"
           }
          },
          "ternary": {
           "aaxis": {
            "gridcolor": "white",
            "linecolor": "white",
            "ticks": ""
           },
           "baxis": {
            "gridcolor": "white",
            "linecolor": "white",
            "ticks": ""
           },
           "bgcolor": "#E5ECF6",
           "caxis": {
            "gridcolor": "white",
            "linecolor": "white",
            "ticks": ""
           }
          },
          "title": {
           "x": 0.05
          },
          "xaxis": {
           "automargin": true,
           "gridcolor": "white",
           "linecolor": "white",
           "ticks": "",
           "title": {
            "standoff": 15
           },
           "zerolinecolor": "white",
           "zerolinewidth": 2
          },
          "yaxis": {
           "automargin": true,
           "gridcolor": "white",
           "linecolor": "white",
           "ticks": "",
           "title": {
            "standoff": 15
           },
           "zerolinecolor": "white",
           "zerolinewidth": 2
          }
         }
        },
        "title": {
         "text": "3D Principal Component Analysis"
        }
       }
      },
      "text/html": [
       "<div>                            <div id=\"082f9e5a-eec1-4fd4-b704-ff74e6eb2f45\" class=\"plotly-graph-div\" style=\"height:525px; width:100%;\"></div>            <script type=\"text/javascript\">                require([\"plotly\"], function(Plotly) {                    window.PLOTLYENV=window.PLOTLYENV || {};                                    if (document.getElementById(\"082f9e5a-eec1-4fd4-b704-ff74e6eb2f45\")) {                    Plotly.newPlot(                        \"082f9e5a-eec1-4fd4-b704-ff74e6eb2f45\",                        [{\"hovertemplate\":\"Type=Comedy<br>PC1=%{x}<br>PC2=%{y}<br>PC3=%{z}<extra></extra>\",\"legendgroup\":\"Comedy\",\"marker\":{\"color\":\"#636efa\",\"symbol\":\"circle\"},\"mode\":\"markers\",\"name\":\"Comedy\",\"scene\":\"scene\",\"showlegend\":true,\"x\":[0.14108424630931035,0.1625251358057972,0.11542912815804508,0.05132301538655497,0.009629216118622521,0.16290396129120693,0.3043014718818442,0.029656351559758043,0.04799295676642279,0.20243226520488353,-0.012672279467474928,0.17714844911885078,-0.009292773502983319,0.13416276740237743,0.08540806385862407,0.07493306026391959],\"y\":[-0.03776403632276415,-0.142563765891113,-0.23831263279322687,0.0016303478824287077,0.04019362398425543,0.15064496445235126,0.1302567860760901,0.04165953064472092,-0.09548328680370252,-0.09888395894012596,-0.019045683729867865,-0.017636965730497584,-0.010327297522906337,0.0007942893555590051,-0.06875138637838761,-0.05354498224654803],\"z\":[-0.07258206423336426,-0.01834993298391392,0.09930739593665643,-0.0081025721045181,-0.050263940659285675,-0.04102353347495121,-0.03352512755618585,-0.034628323341952746,-0.023024908804770768,-0.05114702467036385,-0.052826693840295015,-0.07137303428281007,-0.005147403744048813,-0.03347488054628345,-0.03398053380782126,-0.04354579250708252],\"type\":\"scatter3d\"},{\"hovertemplate\":\"Type=History<br>PC1=%{x}<br>PC2=%{y}<br>PC3=%{z}<extra></extra>\",\"legendgroup\":\"History\",\"marker\":{\"color\":\"#EF553B\",\"symbol\":\"circle\"},\"mode\":\"markers\",\"name\":\"History\",\"scene\":\"scene\",\"showlegend\":true,\"x\":[-0.1220758166569244,-0.045231058543728164,-0.2750570124098948,-0.23455560490194013,-0.188804592070786,-0.258339769106102,-0.07134797135295921,-0.1592491585132462,-0.21484553394089714,-0.052871193906601256],\"y\":[-0.022013914434504338,0.10475254940711373,0.2080056375706399,0.006563121993784275,-0.09847161121295182,-0.08343791818821401,0.11354960132465416,-0.043380521233125725,-0.08861176336440375,-0.05143298673034444],\"z\":[0.021619378030503143,-0.008101576392704894,-0.032011257287868265,-0.04080520994909137,-0.009968864250359984,-0.043546922835834,-0.029445170328248418,-0.03957238577936823,-0.02317305582767324,-0.0670224822649859],\"type\":\"scatter3d\"},{\"hovertemplate\":\"Type=Tragedy<br>PC1=%{x}<br>PC2=%{y}<br>PC3=%{z}<extra></extra>\",\"legendgroup\":\"Tragedy\",\"marker\":{\"color\":\"#00cc96\",\"symbol\":\"circle\"},\"mode\":\"markers\",\"name\":\"Tragedy\",\"scene\":\"scene\",\"showlegend\":true,\"x\":[-0.004979412505011069,0.10080290991413303,-0.06320437267999146,0.051523272790049736,0.02474553912902337,-0.1687463153251775,0.08253458019794566,0.066429758065217,-0.011378453454069617,-0.13231483088479898],\"y\":[-0.0814938916396608,0.26869705967700236,0.09346293386452895,0.1497538309149872,0.03719034154034148,0.13302424696905393,0.0065051735639365385,-0.06677585048738444,0.009732181933935895,-0.17848376750565284],\"z\":[0.45386016150277925,0.030184245565691693,-0.04494123330299953,0.30484924193787366,-0.022117477584187913,0.03492002097105108,-0.040521894237489295,-0.013343248321847918,0.04514406795627603,-0.00231796698052531],\"type\":\"scatter3d\"},{\"marker\":{\"color\":\"black\",\"line\":{\"color\":\"black\",\"width\":1},\"size\":10},\"mode\":\"markers\",\"name\":\"Predicted Type: Comedy\",\"x\":[0.07493306026391959],\"y\":[-0.05354498224654803],\"z\":[-0.04354579250708252],\"type\":\"scatter3d\"}],                        {\"template\":{\"data\":{\"histogram2dcontour\":[{\"type\":\"histogram2dcontour\",\"colorbar\":{\"outlinewidth\":0,\"ticks\":\"\"},\"colorscale\":[[0.0,\"#0d0887\"],[0.1111111111111111,\"#46039f\"],[0.2222222222222222,\"#7201a8\"],[0.3333333333333333,\"#9c179e\"],[0.4444444444444444,\"#bd3786\"],[0.5555555555555556,\"#d8576b\"],[0.6666666666666666,\"#ed7953\"],[0.7777777777777778,\"#fb9f3a\"],[0.8888888888888888,\"#fdca26\"],[1.0,\"#f0f921\"]]}],\"choropleth\":[{\"type\":\"choropleth\",\"colorbar\":{\"outlinewidth\":0,\"ticks\":\"\"}}],\"histogram2d\":[{\"type\":\"histogram2d\",\"colorbar\":{\"outlinewidth\":0,\"ticks\":\"\"},\"colorscale\":[[0.0,\"#0d0887\"],[0.1111111111111111,\"#46039f\"],[0.2222222222222222,\"#7201a8\"],[0.3333333333333333,\"#9c179e\"],[0.4444444444444444,\"#bd3786\"],[0.5555555555555556,\"#d8576b\"],[0.6666666666666666,\"#ed7953\"],[0.7777777777777778,\"#fb9f3a\"],[0.8888888888888888,\"#fdca26\"],[1.0,\"#f0f921\"]]}],\"heatmap\":[{\"type\":\"heatmap\",\"colorbar\":{\"outlinewidth\":0,\"ticks\":\"\"},\"colorscale\":[[0.0,\"#0d0887\"],[0.1111111111111111,\"#46039f\"],[0.2222222222222222,\"#7201a8\"],[0.3333333333333333,\"#9c179e\"],[0.4444444444444444,\"#bd3786\"],[0.5555555555555556,\"#d8576b\"],[0.6666666666666666,\"#ed7953\"],[0.7777777777777778,\"#fb9f3a\"],[0.8888888888888888,\"#fdca26\"],[1.0,\"#f0f921\"]]}],\"heatmapgl\":[{\"type\":\"heatmapgl\",\"colorbar\":{\"outlinewidth\":0,\"ticks\":\"\"},\"colorscale\":[[0.0,\"#0d0887\"],[0.1111111111111111,\"#46039f\"],[0.2222222222222222,\"#7201a8\"],[0.3333333333333333,\"#9c179e\"],[0.4444444444444444,\"#bd3786\"],[0.5555555555555556,\"#d8576b\"],[0.6666666666666666,\"#ed7953\"],[0.7777777777777778,\"#fb9f3a\"],[0.8888888888888888,\"#fdca26\"],[1.0,\"#f0f921\"]]}],\"contourcarpet\":[{\"type\":\"contourcarpet\",\"colorbar\":{\"outlinewidth\":0,\"ticks\":\"\"}}],\"contour\":[{\"type\":\"contour\",\"colorbar\":{\"outlinewidth\":0,\"ticks\":\"\"},\"colorscale\":[[0.0,\"#0d0887\"],[0.1111111111111111,\"#46039f\"],[0.2222222222222222,\"#7201a8\"],[0.3333333333333333,\"#9c179e\"],[0.4444444444444444,\"#bd3786\"],[0.5555555555555556,\"#d8576b\"],[0.6666666666666666,\"#ed7953\"],[0.7777777777777778,\"#fb9f3a\"],[0.8888888888888888,\"#fdca26\"],[1.0,\"#f0f921\"]]}],\"surface\":[{\"type\":\"surface\",\"colorbar\":{\"outlinewidth\":0,\"ticks\":\"\"},\"colorscale\":[[0.0,\"#0d0887\"],[0.1111111111111111,\"#46039f\"],[0.2222222222222222,\"#7201a8\"],[0.3333333333333333,\"#9c179e\"],[0.4444444444444444,\"#bd3786\"],[0.5555555555555556,\"#d8576b\"],[0.6666666666666666,\"#ed7953\"],[0.7777777777777778,\"#fb9f3a\"],[0.8888888888888888,\"#fdca26\"],[1.0,\"#f0f921\"]]}],\"mesh3d\":[{\"type\":\"mesh3d\",\"colorbar\":{\"outlinewidth\":0,\"ticks\":\"\"}}],\"scatter\":[{\"fillpattern\":{\"fillmode\":\"overlay\",\"size\":10,\"solidity\":0.2},\"type\":\"scatter\"}],\"parcoords\":[{\"type\":\"parcoords\",\"line\":{\"colorbar\":{\"outlinewidth\":0,\"ticks\":\"\"}}}],\"scatterpolargl\":[{\"type\":\"scatterpolargl\",\"marker\":{\"colorbar\":{\"outlinewidth\":0,\"ticks\":\"\"}}}],\"bar\":[{\"error_x\":{\"color\":\"#2a3f5f\"},\"error_y\":{\"color\":\"#2a3f5f\"},\"marker\":{\"line\":{\"color\":\"#E5ECF6\",\"width\":0.5},\"pattern\":{\"fillmode\":\"overlay\",\"size\":10,\"solidity\":0.2}},\"type\":\"bar\"}],\"scattergeo\":[{\"type\":\"scattergeo\",\"marker\":{\"colorbar\":{\"outlinewidth\":0,\"ticks\":\"\"}}}],\"scatterpolar\":[{\"type\":\"scatterpolar\",\"marker\":{\"colorbar\":{\"outlinewidth\":0,\"ticks\":\"\"}}}],\"histogram\":[{\"marker\":{\"pattern\":{\"fillmode\":\"overlay\",\"size\":10,\"solidity\":0.2}},\"type\":\"histogram\"}],\"scattergl\":[{\"type\":\"scattergl\",\"marker\":{\"colorbar\":{\"outlinewidth\":0,\"ticks\":\"\"}}}],\"scatter3d\":[{\"type\":\"scatter3d\",\"line\":{\"colorbar\":{\"outlinewidth\":0,\"ticks\":\"\"}},\"marker\":{\"colorbar\":{\"outlinewidth\":0,\"ticks\":\"\"}}}],\"scattermapbox\":[{\"type\":\"scattermapbox\",\"marker\":{\"colorbar\":{\"outlinewidth\":0,\"ticks\":\"\"}}}],\"scatterternary\":[{\"type\":\"scatterternary\",\"marker\":{\"colorbar\":{\"outlinewidth\":0,\"ticks\":\"\"}}}],\"scattercarpet\":[{\"type\":\"scattercarpet\",\"marker\":{\"colorbar\":{\"outlinewidth\":0,\"ticks\":\"\"}}}],\"carpet\":[{\"aaxis\":{\"endlinecolor\":\"#2a3f5f\",\"gridcolor\":\"white\",\"linecolor\":\"white\",\"minorgridcolor\":\"white\",\"startlinecolor\":\"#2a3f5f\"},\"baxis\":{\"endlinecolor\":\"#2a3f5f\",\"gridcolor\":\"white\",\"linecolor\":\"white\",\"minorgridcolor\":\"white\",\"startlinecolor\":\"#2a3f5f\"},\"type\":\"carpet\"}],\"table\":[{\"cells\":{\"fill\":{\"color\":\"#EBF0F8\"},\"line\":{\"color\":\"white\"}},\"header\":{\"fill\":{\"color\":\"#C8D4E3\"},\"line\":{\"color\":\"white\"}},\"type\":\"table\"}],\"barpolar\":[{\"marker\":{\"line\":{\"color\":\"#E5ECF6\",\"width\":0.5},\"pattern\":{\"fillmode\":\"overlay\",\"size\":10,\"solidity\":0.2}},\"type\":\"barpolar\"}],\"pie\":[{\"automargin\":true,\"type\":\"pie\"}]},\"layout\":{\"autotypenumbers\":\"strict\",\"colorway\":[\"#636efa\",\"#EF553B\",\"#00cc96\",\"#ab63fa\",\"#FFA15A\",\"#19d3f3\",\"#FF6692\",\"#B6E880\",\"#FF97FF\",\"#FECB52\"],\"font\":{\"color\":\"#2a3f5f\"},\"hovermode\":\"closest\",\"hoverlabel\":{\"align\":\"left\"},\"paper_bgcolor\":\"white\",\"plot_bgcolor\":\"#E5ECF6\",\"polar\":{\"bgcolor\":\"#E5ECF6\",\"angularaxis\":{\"gridcolor\":\"white\",\"linecolor\":\"white\",\"ticks\":\"\"},\"radialaxis\":{\"gridcolor\":\"white\",\"linecolor\":\"white\",\"ticks\":\"\"}},\"ternary\":{\"bgcolor\":\"#E5ECF6\",\"aaxis\":{\"gridcolor\":\"white\",\"linecolor\":\"white\",\"ticks\":\"\"},\"baxis\":{\"gridcolor\":\"white\",\"linecolor\":\"white\",\"ticks\":\"\"},\"caxis\":{\"gridcolor\":\"white\",\"linecolor\":\"white\",\"ticks\":\"\"}},\"coloraxis\":{\"colorbar\":{\"outlinewidth\":0,\"ticks\":\"\"}},\"colorscale\":{\"sequential\":[[0.0,\"#0d0887\"],[0.1111111111111111,\"#46039f\"],[0.2222222222222222,\"#7201a8\"],[0.3333333333333333,\"#9c179e\"],[0.4444444444444444,\"#bd3786\"],[0.5555555555555556,\"#d8576b\"],[0.6666666666666666,\"#ed7953\"],[0.7777777777777778,\"#fb9f3a\"],[0.8888888888888888,\"#fdca26\"],[1.0,\"#f0f921\"]],\"sequentialminus\":[[0.0,\"#0d0887\"],[0.1111111111111111,\"#46039f\"],[0.2222222222222222,\"#7201a8\"],[0.3333333333333333,\"#9c179e\"],[0.4444444444444444,\"#bd3786\"],[0.5555555555555556,\"#d8576b\"],[0.6666666666666666,\"#ed7953\"],[0.7777777777777778,\"#fb9f3a\"],[0.8888888888888888,\"#fdca26\"],[1.0,\"#f0f921\"]],\"diverging\":[[0,\"#8e0152\"],[0.1,\"#c51b7d\"],[0.2,\"#de77ae\"],[0.3,\"#f1b6da\"],[0.4,\"#fde0ef\"],[0.5,\"#f7f7f7\"],[0.6,\"#e6f5d0\"],[0.7,\"#b8e186\"],[0.8,\"#7fbc41\"],[0.9,\"#4d9221\"],[1,\"#276419\"]]},\"xaxis\":{\"gridcolor\":\"white\",\"linecolor\":\"white\",\"ticks\":\"\",\"title\":{\"standoff\":15},\"zerolinecolor\":\"white\",\"automargin\":true,\"zerolinewidth\":2},\"yaxis\":{\"gridcolor\":\"white\",\"linecolor\":\"white\",\"ticks\":\"\",\"title\":{\"standoff\":15},\"zerolinecolor\":\"white\",\"automargin\":true,\"zerolinewidth\":2},\"scene\":{\"xaxis\":{\"backgroundcolor\":\"#E5ECF6\",\"gridcolor\":\"white\",\"linecolor\":\"white\",\"showbackground\":true,\"ticks\":\"\",\"zerolinecolor\":\"white\",\"gridwidth\":2},\"yaxis\":{\"backgroundcolor\":\"#E5ECF6\",\"gridcolor\":\"white\",\"linecolor\":\"white\",\"showbackground\":true,\"ticks\":\"\",\"zerolinecolor\":\"white\",\"gridwidth\":2},\"zaxis\":{\"backgroundcolor\":\"#E5ECF6\",\"gridcolor\":\"white\",\"linecolor\":\"white\",\"showbackground\":true,\"ticks\":\"\",\"zerolinecolor\":\"white\",\"gridwidth\":2}},\"shapedefaults\":{\"line\":{\"color\":\"#2a3f5f\"}},\"annotationdefaults\":{\"arrowcolor\":\"#2a3f5f\",\"arrowhead\":0,\"arrowwidth\":1},\"geo\":{\"bgcolor\":\"white\",\"landcolor\":\"#E5ECF6\",\"subunitcolor\":\"white\",\"showland\":true,\"showlakes\":true,\"lakecolor\":\"white\"},\"title\":{\"x\":0.05},\"mapbox\":{\"style\":\"light\"}}},\"scene\":{\"domain\":{\"x\":[0.0,1.0],\"y\":[0.0,1.0]},\"xaxis\":{\"title\":{\"text\":\"Principal Component 1\"}},\"yaxis\":{\"title\":{\"text\":\"Principal Component 2\"}},\"zaxis\":{\"title\":{\"text\":\"Principal Component 3\"}}},\"legend\":{\"title\":{\"text\":\"Type\"},\"tracegroupgap\":0},\"margin\":{\"t\":60},\"title\":{\"text\":\"3D Principal Component Analysis\"},\"showlegend\":true},                        {\"responsive\": true}                    ).then(function(){\n",
       "                            \n",
       "var gd = document.getElementById('082f9e5a-eec1-4fd4-b704-ff74e6eb2f45');\n",
       "var x = new MutationObserver(function (mutations, observer) {{\n",
       "        var display = window.getComputedStyle(gd).display;\n",
       "        if (!display || display === 'none') {{\n",
       "            console.log([gd, 'removed!']);\n",
       "            Plotly.purge(gd);\n",
       "            observer.disconnect();\n",
       "        }}\n",
       "}});\n",
       "\n",
       "// Listen for the removal of the full notebook cells\n",
       "var notebookContainer = gd.closest('#notebook-container');\n",
       "if (notebookContainer) {{\n",
       "    x.observe(notebookContainer, {childList: true});\n",
       "}}\n",
       "\n",
       "// Listen for the clearing of the current output cell\n",
       "var outputEl = gd.closest('.output');\n",
       "if (outputEl) {{\n",
       "    x.observe(outputEl, {childList: true});\n",
       "}}\n",
       "\n",
       "                        })                };                });            </script>        </div>"
      ]
     },
     "metadata": {},
     "output_type": "display_data"
    }
   ],
   "source": [
    "import random\n",
    "from sklearn.feature_extraction.text import TfidfVectorizer\n",
    "from sklearn.ensemble import RandomForestClassifier\n",
    "from sklearn.metrics import accuracy_score\n",
    "import plotly.express as px\n",
    "import pandas as pd\n",
    "from sklearn.decomposition import PCA\n",
    "import plotly.graph_objects as go\n",
    "\n",
    "\n",
    "\n",
    "# User inputs 1-5 plays for algorithm to guess play type\n",
    "#=>example randomizes play selection for learning\n",
    "num_plays_exclude = int(input(\"Enter 1-5 plays to predict play type: \"))\n",
    "\n",
    "# Randomly select test play quantity\n",
    "excluded_indices = random.sample(range(len(df)), num_plays_exclude)\n",
    "\n",
    "# Prepare the dataset where features='script' and labels=<play>'type'\n",
    "script = df['script']\n",
    "play_type = df['type']\n",
    "\n",
    "# Remove excluded test dataset plays from dataset\n",
    "script = script.drop(excluded_indices)\n",
    "play_type = play_type.drop(excluded_indices)\n",
    "\n",
    "\n",
    "'''==> Stage 2: Feature Extraction ==> Stage 2: Feature Extraction =>Stage 2'''\n",
    "\n",
    "# Perform feature extraction on the script data\n",
    "vectorizer = TfidfVectorizer()\n",
    "script_features = vectorizer.fit_transform(script)\n",
    "\n",
    "\n",
    "'''==> Stage 3: Machine Learning ==> Stage 3: Machine Learning ==> Stage 3:'''\n",
    "\n",
    "# Train a Random Forest classifier using the dataset\n",
    "rf = RandomForestClassifier()\n",
    "rf.fit(script_features, play_type)\n",
    "\n",
    "# Print the details of the excluded plays and their predicted play types\n",
    "print(\"Excluded Plays (Test Data):\")\n",
    "excluded_plays = []  # Store excluded play details\n",
    "for case_num, index in enumerate(excluded_indices, 1):\n",
    "    play = df.iloc[index]\n",
    "    title = play['title']\n",
    "    play_type_actual = play['type']\n",
    "\n",
    "    # Predict the play type of the excluded play\n",
    "    test_features = vectorizer.transform([play['script']])\n",
    "    predicted_play_type = rf.predict(test_features)[0]\n",
    "\n",
    "    # Print the case number, play details, and the predicted play type\n",
    "    print(\"Case:\", case_num)\n",
    "    print(\"Title:\", title)\n",
    "    print(\"Type:\", play_type_actual)\n",
    "    print(\"Predicted Type:\", predicted_play_type)\n",
    "    print()\n",
    "\n",
    "    excluded_plays.append({\n",
    "        'Index': index,\n",
    "        'Title': title,\n",
    "        'Type': play_type_actual,\n",
    "        'Predicted Type': predicted_play_type\n",
    "    })\n",
    "\n",
    "# Get the actual play type of the excluded plays\n",
    "actual_play_type = df.iloc[excluded_indices]['type']\n",
    "\n",
    "# Predict the play type of the excluded plays\n",
    "test_features = vectorizer.transform(df.iloc[excluded_indices]['script'])\n",
    "predicted_play_type = rf.predict(test_features)\n",
    "\n",
    "\n",
    "'''==> Stage 4: Model Evaluation ==> Stage 4: Model Evaluation Stage 4:'''\n",
    "\n",
    "# Calculate and print the accuracy on the excluded plays\n",
    "test_accuracy = accuracy_score(actual_play_type, predicted_play_type)\n",
    "print(\"Test Accuracy:\", test_accuracy)\n",
    "\n",
    "# Create a DataFrame with the play type and predicted play type\n",
    "results_df = pd.DataFrame({'Type': actual_play_type, \\\n",
    "                           'Predicted Type': predicted_play_type})\n",
    "\n",
    "\n",
    "'''==> Stage 5: Visualization ==> Stage 5: Visualization ==> Stage 5: '''\n",
    "\n",
    "# Apply PCA to the script features\n",
    "pca = PCA(n_components=3)\n",
    "script_features_pca = pca.fit_transform(script_features.toarray())\n",
    "\n",
    "# Create a DataFrame with the PCA-transformed features and play type\n",
    "pca_df = pd.DataFrame(script_features_pca, columns=['PC1', 'PC2', 'PC3'])\n",
    "pca_df['Type'] = play_type.tolist()\n",
    "\n",
    "# Create a scatter plot using Plotly Express\n",
    "fig = px.scatter_3d(pca_df, x='PC1', y='PC2', z='PC3', color='Type')\n",
    "\n",
    "# Add layout\n",
    "fig.update_layout(\n",
    "    title=\"3D Principal Component Analysis\",\n",
    "    scene=dict(\n",
    "        xaxis=dict(title=\"Principal Component 1\"),\n",
    "        yaxis=dict(title=\"Principal Component 2\"),\n",
    "        zaxis=dict(title=\"Principal Component 3\")\n",
    "    ),\n",
    "    showlegend=True\n",
    ")\n",
    "\n",
    "# Update the marker style for the predicted data points\n",
    "for play in excluded_plays:\n",
    "    predicted_type = play['Predicted Type']\n",
    "    marker_color = 'black'\n",
    "    if predicted_type == 'comedy':\n",
    "        marker_color = 'black'\n",
    "    elif predicted_type == 'tragedy':\n",
    "        marker_color = 'blue'\n",
    "    elif predicted_type == 'history':\n",
    "        marker_color = 'purple'\n",
    "    index = play['Index']\n",
    "    if index < len(pca_df):\n",
    "        fig.add_trace(\n",
    "            go.Scatter3d(\n",
    "                x=[pca_df.iloc[index]['PC1']],\n",
    "                y=[pca_df.iloc[index]['PC2']],\n",
    "                z=[pca_df.iloc[index]['PC3']],\n",
    "                mode='markers',\n",
    "                marker=dict(\n",
    "                    size=10,\n",
    "                    #symbol='x',\n",
    "                    color=marker_color,\n",
    "                    line=dict(color='black', width=1)\n",
    "                ),\n",
    "                name=f\"Predicted Type: {predicted_type}\"\n",
    "            )\n",
    "        )\n",
    "    else:\n",
    "        print(f\"Invalid index: {index}\")\n",
    "\n",
    "# Display the plot\n",
    "fig.show()# Note: this should show an interactive 3d Graphic\n"
   ]
  },
  {
   "attachments": {},
   "cell_type": "markdown",
   "id": "VeFga179LHay",
   "metadata": {
    "id": "VeFga179LHay"
   },
   "source": [
    "#Enter Answers 1 and 2\n",
    "\n",
    "1. Run code and enter 1-5 plays to exclude from training and use in testing.   \n",
    "#=> outcome graph engineered for your learning experience w 1-5 test cases.  \n",
    "#=> Any excluded item is a play the trained model attempts to classify accurately. \n",
    "'''no answer'''\n",
    "\n",
    "2. Analyze code and explain what each section is doing.  \n",
    "    1. Stage 1: Data Preparation\n",
    "        >The code assigns the 'script' column as the features (X) and the 'type' column as the labels (y).\n",
    "    2. Stage 2: Feature Extraction\n",
    "        >The code performs feature extraction on the 'script' data using the TF-IDF vectorizer. This step transforms the text data into numerical features\n",
    "    3. Stage 3: Machine Learning\n",
    "        >The code trains a Random Forest classifier using the feature-extracted dataset (script_features) and the # corresponding play types (play_type)\n",
    "    4. Stage 4: Model Evaluation\n",
    "        >The code calculates and prints the accuracy of the trained model on the excluded plays\n",
    "    5. Stage 5: Visualization\n",
    "        >The code applies Principal Component Analysis (PCA) to the feature-extracted dataset and creates a 3D scatter plot using Plotly Express. The plot visualizes the dataset in three dimensions using the principal components obtained from PCA."
   ]
  },
  {
   "attachments": {},
   "cell_type": "markdown",
   "id": "9MJ7_wZLSN4I",
   "metadata": {
    "id": "9MJ7_wZLSN4I"
   },
   "source": [
    "#Enter Answers 3 of 5\n",
    "\n",
    "3. Analyze the outcome graph and explain what it provides.\n",
    "\n",
    ">The outcome graph is a 3D scatter plot created using PCA-transformed features of the play scripts. \n",
    "Each data point in the plot represents a play, and its position in the 3D space is determined by the \n",
    "three principal components (PC1, PC2, PC3) obtained from PCA. The color of each data point represents the play type.\n",
    "\n",
    "4. Why were random forest algorithms assigned?\n",
    ">Random Forest algorithms were assigned in this code because they are well-suited for classification tasks,\n",
    "such as predicting the play type based on the script features. Random Forest is an ensemble learning method that combines multiple decision trees to make predictions. It is robust, handles high-dimensional data well, \n",
    "and can capture complex relationships between features and target variables.\n",
    "\n",
    "5. Specify areas where you would benefit from additional professor discussion.\n",
    "    1. Understanding the TF-IDF vectorization process and its role in feature extraction.\n",
    "    2. Exploring the trade-offs and considerations when selecting classification algorithms.\n",
    "    3. Interpreting the accuracy score and evaluating the model's performance.\n",
    "    4. Analyzing the PCA-transformed features and interpreting the results of the visualization.\n",
    "    5. Discussing the limitations and potential improvements of the implemented approach\n",
    "\n"
   ]
  },
  {
   "attachments": {},
   "cell_type": "markdown",
   "id": "eSUbURonJgRy",
   "metadata": {
    "id": "eSUbURonJgRy"
   },
   "source": [
    "**`Task.4 expected outcome`**\n",
    "- illustrates 2 random plays excluded from training data\n",
    "- both were correctly predicted as comedy plays \n",
    "- while there is some overlap with tragedy plays, the predicted black dots  \n",
    "are clearly clustered in the hyperplane area of similar comedy plays  \n",
    "```\n",
    "Enter the number of plays to exclude from training: 2\n",
    "Excluded Plays (Test Data):\n",
    "Case: 1\n",
    "Title: Cymbeline\n",
    "Type: Comedy\n",
    "Predicted Type: Comedy\n",
    "Case: 2\n",
    "Title: Measure for Measure\n",
    "Type: Comedy\n",
    "Predicted Type: Comedy\n",
    "Test Accuracy: 1.0\n",
    "```\n",
    "![dfd](https://raw.githubusercontent.com/cosc-526/home.page/main/g.M.2.3d.pca.JPG)"
   ]
  }
 ],
 "metadata": {
  "colab": {
   "collapsed_sections": [
    "MqZm_iFTPI7f",
    "JfIew_dgmpCQ",
    "kRoOscDyqoCO",
    "jBOVMJ0zck9a",
    "9ccb8782",
    "913dpFR0Fp1E",
    "dzXyv7kGZlBP",
    "5G3szw10bNTr",
    "QB_KhbotUukr",
    "kjA00fVqPjEm",
    "B4iMYu456dQq"
   ],
   "provenance": []
  },
  "kernelspec": {
   "display_name": "Python 3 (ipykernel)",
   "language": "python",
   "name": "python3"
  },
  "language_info": {
   "codemirror_mode": {
    "name": "ipython",
    "version": 3
   },
   "file_extension": ".py",
   "mimetype": "text/x-python",
   "name": "python",
   "nbconvert_exporter": "python",
   "pygments_lexer": "ipython3",
   "version": "3.10.9"
  }
 },
 "nbformat": 4,
 "nbformat_minor": 5
}
