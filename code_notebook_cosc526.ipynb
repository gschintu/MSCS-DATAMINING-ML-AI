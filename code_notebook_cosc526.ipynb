{
 "cells": [
  {
   "cell_type": "markdown",
   "id": "el9sjRdm9gjv",
   "metadata": {
    "id": "el9sjRdm9gjv"
   },
   "source": [
    "# **`M.0.Overview.and.Library.installation.instructions`**"
   ]
  },
  {
   "cell_type": "markdown",
   "id": "3RMqlKER-Hv1",
   "metadata": {
    "id": "3RMqlKER-Hv1"
   },
   "source": [
    "## **`I. how.To use course codebook`**  \n",
    "1. Notebook works in both Jupyter Notebooks & Colab.  \n",
    "2. Google built [colab](https://colab.research.google.com/) on top of Notebooks to add more features.  \n",
    "3. Cosc.526 was configured in Colab with expand/collapse sectioning.  \n",
    "4. There are 9 parent sections for each course module.  \n",
    "5. Modules contain either exercise and assignment or both.  \n",
    "6. **ALL** additional links and resources are to quality resources and tools.  \n",
    "=> Consider bookmarking them for future analysis activities!  \n",
    "7. You're `coding.` Consider flipping a monitor on your desk vertically.\n",
    "8. A minimum of two monitors is recommended.   \n",
    "9. Try opening 2 workbooks at the same time on different monitors!\n",
    "10. **p.s.** colab offers screen companions like sparks and corgis.\n",
    "\n",
    "## **`II. What qualifies as a task's answer?`**  \n",
    "- `Answer:` answers are outcomes generated from code that executes.\n",
    "- when you generate a .pdf, simply dont delete answer beneath ur code run.\n",
    "- ***What if your task's code isn't running?***  \n",
    "- Add one textbox beneath the code block titled ***Enter solution here***  \n",
    "- Add title: \"Professor: explanation of my current state.\"\n",
    "- Succinctly explain work done (for grading points).  \n",
    "\n",
    "## **`III. Umbrella instructions`**  \n",
    "1. ### **`How do I solve homework exercises and assignment tasks?`**  \n",
    "`Answer:` \n",
    "a. by writing code.  \n",
    "b. by modifying the code provided.  \n",
    "c. by answering specified questions concisely.  \n",
    "d. as necessary, reference any resource that helped accomplish work.\n",
    "\n",
    "2. ### **`What are the submission requirements?`**  \n",
    "d. `Answer:` upload a **.pdf** copy after renaming it to...    \n",
    "e. => weeks 1,2: last.first.exercise.and.assignment.M.#.pdf  \n",
    "f. => weeks 3-9: last.first.assignment.M.#.pdf  \n",
    "\n",
    "3. ### **`How do I generate a .pdf to submit work?`**\n",
    "g. `Answer:` Jupyter Notebook has File\\Save As\\ adobe.pdf  \n",
    "h. **What do you do if .pdf generation fails?**  \n",
    "i. 3.3.1: when in doubt, always submit a **.ipynb** file!  \n",
    "j. 3.3.2: inform professor requesting permission to submit **.ipynb**   \n",
    "k. 3.3.3: research and engineer the fix; Youtube and [Jupyter.forum](https://discourse.jupyter.org/).\n",
    "\n",
    "4. ### **`What are the Expected Outcome sections?`**  \n",
    "l. `Answer:` It's a solution to a provided task to help guide your efforts.   \n",
    "m. They're located directly beneath codeblock=> **Enter solution here**  \n",
    "n. They're only provided some of the time.    \n",
    "\n",
    "5. ### **`How many code blocks should my output answer be?`**    \n",
    "o. `Answer` as few as possible, which means ideally \"1\"  \n",
    "=> Plan and organize outcomes. Brevity is key!  \n",
    "=> `Points will be detracted` for unorganized and unprofessional codeblocks.  \n",
    "\n",
    "## **`IV. cosc.526 Python required libraries`**  \n",
    "1. Use `Library engineering` to help get you running now.  \n",
    "2. Confirm library code executes completely in `V. Library Resources  \n",
    "3. If issue: research and solve it right away! [Jupyter.forum](https://discourse.jupyter.org/)  \n",
    "4. Errors occur for many reasons and can be challenging to fix.    \n",
    "=> Consult Python source library documents for assistance and [pypi.org](https://pypi.org/)   \n",
    "=> Use the Discourse channel, on Canvas, for peer support.\n",
    "\n",
    "1. Library engineering assistance is next to help get you running now.  \n",
    "2. Confirm library code executes completly in `V. Library Resources`  \n",
    "3. If issue: `research and solve right away!` \n",
    "=> [Jupyter.forum](https://discourse.jupyter.org/)  \n",
    "4. Errors occur for many reasons and might be challenging to resolve.      \n",
    "=> Consult Python source library documents for assistance and [pypi.org](https://pypi.org/)   \n",
    "=> use Discourse channel, on canvas, for peer support."
   ]
  },
  {
   "cell_type": "markdown",
   "id": "R34rZNc2oE7T",
   "metadata": {
    "id": "R34rZNc2oE7T"
   },
   "source": [
    "# **`V. Library Resources`**     \n",
    "1. Python coding companion => [Python reference.library.Cosc.526.pdf](https://github.com/cosc-526/cosc.526.home.page/blob/main/reference.library.COSC.526.pdf) <=`print.ME`\n",
    "3. Use [Python Docs;](https://docs.python.org/3/) **`they're simply the best.`** [TinaTurner](https://www.youtube.com/watch?v=GC5E8ie2pdM) we love you."
   ]
  },
  {
   "cell_type": "markdown",
   "id": "5yljl9o-_JkC",
   "metadata": {
    "id": "5yljl9o-_JkC"
   },
   "source": [
    "## `Library installation errors are numerous!`\n",
    "- #### research and fix right away with quality key word searchers including\n",
    "- #### `git`, `docs`, `colab`, `error`, & `paste actual error into search bar`  \n",
    "=> recommendation.1: avoid \"news\" and \"signup\" websites  \n",
    "=> recommendation.2: google provides optimized data science search outcomes   "
   ]
  },
  {
   "cell_type": "markdown",
   "id": "yuSoFuh-rWoj",
   "metadata": {
    "id": "yuSoFuh-rWoj"
   },
   "source": [
    "Libraries include  \n",
    "- **`numpy as np`**  badass scientific for multi-dimensional arrays and math functions.  \n",
    "- **`matplotlib.pyplot as plt`** for plotting and visualization.\n",
    "- **`pandas as pd`**  spreadsheet like data manipulation and analysis.\n",
    "- **`pyspark`** API for Apache Spark for processing large-scale datasets in parallel.\n",
    "- **`os`** talk to your op system and nav directories, files, and sys commands.\n",
    "- **`java`** web language; required to run pyspark library  \n",
    "- **`keras`** neural networks API on top TensorFlow for deep learning w images and NLP.  \n",
    "- `plotly` advanced graphing; PySpark exercises may require v.5.14.10"
   ]
  },
  {
   "cell_type": "markdown",
   "id": "6OcCyQtLo9XL",
   "metadata": {
    "id": "6OcCyQtLo9XL"
   },
   "source": [
    "## `Non-Pyspark library installation assistance`"
   ]
  },
  {
   "cell_type": "code",
   "execution_count": null,
   "id": "1wR997SH3w_d",
   "metadata": {
    "id": "1wR997SH3w_d"
   },
   "outputs": [],
   "source": [
    "#=> why provided? \n",
    "#=> you so you can focus on reading all LMS links and resources\n",
    "\n",
    "# Are libraries installed?\n",
    "# terminal:  pip show  <library.name> \n",
    "# terminal:  pip show scikit-learn\n",
    "# colab:     !pip show scikit-learn\n",
    "\n",
    "# how.To Install library\n",
    "# Recommend installations via Terminal\n",
    "# on.jupyter:  !pip install  <library.name> [method not recommeded!]\n",
    "# on.terminal:  pip install scikit-learn\n",
    "# => package manager => https://pypi.org\n",
    "\n",
    "#=> Quality resource examples\n",
    "#https://scikit-learn.org/stable/install.html\n",
    "#https://spark.apache.org/docs/latest/api/python/getting_started/install.html\n",
    "#https://dvgodoy.github.io/handyspark/includeme.html#:~:text=HandySpark%20is%20a%20package%20designed,returning%20pandas%20objects%20straight%20away.\n",
    "\n",
    "#=> how.To update all installed libraries ?\n",
    "#thanks! rbergeron@snhu.edu\n",
    "#python3 -m pip list --outdated --format=json | jq -r '.[] | \"\\(.name)==\\(.latest_version)\"' | xargs -n1 pip3 install -U\n",
    "\n",
    "#misc\n",
    "# python -m pip freeze          # what are all installed packages in virtualenv"
   ]
  },
  {
   "cell_type": "markdown",
   "id": "zAJflnzQYvF4",
   "metadata": {
    "id": "zAJflnzQYvF4"
   },
   "source": [
    "``` \n",
    "New to data mining? install all!\n",
    "-------------------------------------------------------\n",
    "[open terminal, aka command prompt, aka anaconda prompt\n",
    "-------------------------------------------------------\n",
    "C:\\Users\\your_name> pip install numpy  \n",
    "C:\\Users\\your_name> pip install pandas  \n",
    "C:\\Users\\your_name> pip install matplotlib  \n",
    "C:\\Users\\your_name> pip install requests  \n",
    "C:\\Users\\your_name> pip install csv  \n",
    "C:\\Users\\your_name> pip install scikit-learn  \n",
    "C:\\Users\\your_name> pip isntall tensorflow  \n",
    "C:\\Users\\your_name> pip install keras  \n",
    "C:\\Users\\your_name> pip install pyspark  \n",
    "C:\\Users\\your_name> pip install open.ai   \n",
    "```"
   ]
  },
  {
   "cell_type": "markdown",
   "id": "bG7KZ6pUZwZE",
   "metadata": {
    "id": "bG7KZ6pUZwZE"
   },
   "source": [
    "### Test import for course required libraries\n"
   ]
  },
  {
   "cell_type": "code",
   "execution_count": null,
   "id": "VBeXo-I2X-j_",
   "metadata": {
    "colab": {
     "base_uri": "https://localhost:8080/"
    },
    "id": "VBeXo-I2X-j_",
    "outputId": "2dd84241-ee7d-416b-b5e8-fa893107ab8c"
   },
   "outputs": [
    {
     "name": "stdout",
     "output_type": "stream",
     "text": [
      "library.wheels.up\n"
     ]
    }
   ],
   "source": [
    "import pandas as pd\n",
    "import numpy as np\n",
    "import os\n",
    "import requests\n",
    "import csv\n",
    "\n",
    "#unsupervised algorithms  \n",
    "import sklearn\n",
    "from sklearn.cluster import KMeans, AgglomerativeClustering, DBSCAN\n",
    "from sklearn.preprocessing import StandardScaler #kind of important\n",
    "from sklearn.ensemble import IsolationForest\n",
    "from sklearn.neighbors import LocalOutlierFactor\n",
    "from sklearn.decomposition import PCA\n",
    "from sklearn.preprocessing import StandardScaler\n",
    "from sklearn.decomposition import TruncatedSVD\n",
    "from sklearn.manifold import TSNE\n",
    "\n",
    "#supervised algorithms\n",
    "from sklearn.linear_model import Perceptron\n",
    "from sklearn.preprocessing import LabelEncoder\n",
    "from sklearn.linear_model import LinearRegression\n",
    "from sklearn.model_selection import train_test_split\n",
    "from sklearn.metrics import mean_squared_error\n",
    "from sklearn.linear_model import LogisticRegression\n",
    "from sklearn.naive_bayes import GaussianNB\n",
    "from sklearn.neighbors import KNeighborsClassifier\n",
    "from sklearn.tree import DecisionTreeClassifier\n",
    "from sklearn.ensemble import RandomForestClassifier\n",
    "from sklearn.preprocessing import LabelEncoder\n",
    "from sklearn.svm import SVC\n",
    "\n",
    "#additional algorithm libraries \n",
    "import keras\n",
    "from keras.models import Sequential\n",
    "from keras.layers import Dense\n",
    "from keras.layers import Conv2D, MaxPooling2D, Flatten, Dense\n",
    "\n",
    "#Outcome measurement\n",
    "#train/test data split; confusion matrix; accuracy\n",
    "from sklearn.model_selection import train_test_split\n",
    "from sklearn.metrics import accuracy_score\n",
    "\n",
    "#visualization libraries\n",
    "import matplotlib.pyplot as plt\n",
    "import plotly                #SVM hyperplane graphing\n",
    "import plotly.express as px  #SVM hyperplane graphing\n",
    "\n",
    "print(\"library.wheels.up\")"
   ]
  },
  {
   "cell_type": "markdown",
   "id": "7ZFwo-53495W",
   "metadata": {
    "id": "7ZFwo-53495W"
   },
   "source": [
    "## **`Library.Weeks.4.5.6 - PySpark Installation`**"
   ]
  },
  {
   "cell_type": "markdown",
   "id": "7o91Ig5QKVif",
   "metadata": {
    "id": "7o91Ig5QKVif"
   },
   "source": [
    "#### Jupyter Notebooks `requires java` to run `PySpark`"
   ]
  },
  {
   "cell_type": "code",
   "execution_count": null,
   "id": "dz0lPt0nIw4H",
   "metadata": {
    "colab": {
     "base_uri": "https://localhost:8080/"
    },
    "id": "dz0lPt0nIw4H",
    "outputId": "c83ab33f-0b25-4169-acd4-dbb9f19ab0e9"
   },
   "outputs": [
    {
     "name": "stdout",
     "output_type": "stream",
     "text": [
      "Looking in indexes: https://pypi.org/simple, https://us-python.pkg.dev/colab-wheels/public/simple/\n",
      "Collecting pyspark\n",
      "  Downloading pyspark-3.4.0.tar.gz (310.8 MB)\n",
      "\u001b[2K     \u001b[90m━━━━━━━━━━━━━━━━━━━━━━━━━━━━━━━━━━━━━━━\u001b[0m \u001b[32m310.8/310.8 MB\u001b[0m \u001b[31m3.5 MB/s\u001b[0m eta \u001b[36m0:00:00\u001b[0m\n",
      "\u001b[?25h  Preparing metadata (setup.py) ... \u001b[?25l\u001b[?25hdone\n",
      "Requirement already satisfied: py4j==0.10.9.7 in /usr/local/lib/python3.10/dist-packages (from pyspark) (0.10.9.7)\n",
      "Building wheels for collected packages: pyspark\n",
      "  Building wheel for pyspark (setup.py) ... \u001b[?25l\u001b[?25hdone\n",
      "  Created wheel for pyspark: filename=pyspark-3.4.0-py2.py3-none-any.whl size=311317130 sha256=b63634a3b5b39e8b999479fc1a0d1249313208cb8d1837af3ea8d1d72cde2253\n",
      "  Stored in directory: /root/.cache/pip/wheels/7b/1b/4b/3363a1d04368e7ff0d408e57ff57966fcdf00583774e761327\n",
      "Successfully built pyspark\n",
      "Installing collected packages: pyspark\n",
      "Successfully installed pyspark-3.4.0\n"
     ]
    }
   ],
   "source": [
    "#confirm libraries\n",
    "!pip show pyspark    #remove !, if running on terminal\n",
    "!java -version\n",
    "#!pip install pyspark"
   ]
  },
  {
   "cell_type": "markdown",
   "id": "EfHrwRxpMY6I",
   "metadata": {
    "id": "EfHrwRxpMY6I"
   },
   "source": [
    " `Thank you! for preparing` for weeks.4.5.6 with PySpark ahead of time.  \n",
    "1. Download Java Development Kit version 8 or 11 by operating systems  \n",
    "=> `java.home` https://www.oracle.com/java/technologies/downloads/#jepp  \n",
    "=> [java.instructions](https://www.java.com/en/download/manual.jsp) and [java.windows.10.instructions](https://www.java.com/en/download/help/windows_manual_download.html)\n",
    "2. Most setup code and documentation follows:  \n",
    "=> `spark.docs` https://spark.apache.org/docs/latest/api/python/getting_started/install.html\n",
    "3. Colab builds include java"
   ]
  },
  {
   "cell_type": "code",
   "execution_count": null,
   "id": "FlFH2L0PXe-q",
   "metadata": {
    "id": "FlFH2L0PXe-q"
   },
   "outputs": [],
   "source": [
    "#=> install PySpark\n",
    "# https://spark.apache.org/docs/latest/api/python/getting_started/install.html#installation\n",
    "\n",
    "!pip install pyspark"
   ]
  },
  {
   "cell_type": "code",
   "execution_count": null,
   "id": "q4qW1snx9H7U",
   "metadata": {
    "colab": {
     "base_uri": "https://localhost:8080/"
    },
    "id": "q4qW1snx9H7U",
    "outputId": "d4802541-220a-4c08-8bca-d512ff3c4df9"
   },
   "outputs": [
    {
     "name": "stdout",
     "output_type": "stream",
     "text": [
      "spark.library.wheels.up\n"
     ]
    }
   ],
   "source": [
    "#=> Option A\n",
    "import tensorflow as tf\n",
    "from pyspark.sql import SparkSession\n",
    "spark = SparkSession.builder.master(\"local\").getOrCreate() #create spark session\n",
    "#\"local\" argument passed to master; run spark in local mode on Colab runtime.\n",
    "\n",
    "from pyspark.sql import SparkSession #note: if run notebooks, need Java\n",
    "import pyspark.sql.functions as F\n",
    "import matplotlib.pyplot as plt\n",
    "from pyspark.sql.types import *\n",
    "from pyspark.ml.classification import LogisticRegression\n",
    "from pyspark.ml.classification import LogisticRegressionTrainingSummary\n",
    "from pyspark.ml.classification import LogisticRegressionModel, LogisticRegressionSummary\n",
    "from pyspark.ml.feature import VectorAssembler, StringIndexer, VectorIndexer\n",
    "from pyspark.ml.feature import PCA\n",
    "from pyspark.ml.linalg import Vectors\n",
    "from pyspark.ml.classification import NaiveBayes  #Perceptron, \n",
    "from pyspark.ml.classification import DecisionTreeClassifier, LinearSVC\n",
    "from pyspark.ml.classification import RandomForestClassifier, GBTClassifier\n",
    "from pyspark.ml.classification import MultilayerPerceptronClassifier\n",
    "from pyspark.ml.clustering import KMeans\n",
    "from pyspark.ml.regression import LinearRegression\n",
    "from pyspark.ml.evaluation import RegressionEvaluator, BinaryClassificationEvaluator\n",
    "from pyspark.ml.evaluation import MulticlassClassificationEvaluator\n",
    "print(\"spark.library.wheels.up\")\n",
    "\n",
    "#=> when done with spark goto end of assignment & close spark; run \n",
    "#spark.stop()  <optional:  run sc.stop()>"
   ]
  },
  {
   "cell_type": "markdown",
   "id": "KWMpLbplJkc8",
   "metadata": {
    "id": "KWMpLbplJkc8"
   },
   "source": [
    "#### `PySpark Optional - Jupyter Notebook discrete option settings`   "
   ]
  },
  {
   "cell_type": "markdown",
   "id": "-9o5WKR1N32v",
   "metadata": {
    "id": "-9o5WKR1N32v"
   },
   "source": [
    "1. import handyspark: additional functionalities on top of PySpark like (?)  \n",
    "2. import findspark: locates the Spark install sets environment variables.  \n",
    "3. findspark.init(): ibid  \n",
    "4. from pyspark import SparkContext, SparkConf  \n",
    "=> pyspark classes create a SparkContext object; Colab does automatically  \n",
    "`note:` Jupyter Notebook requires `Java;` Colab prebuilt with\n",
    "```\n",
    "#=> Option B: Notebook discrete performance settings\n",
    "import handyspark, findspark\n",
    "findspark.init()\n",
    "from pyspark import SparkContext, SparkConf\n",
    "sc = SparkContext(master=\"local[4]\")        # .o.n.l.y. run ONCE\n",
    ">>> sc => example how to create a SparkContext with a local master and 4 cores. \n",
    "```"
   ]
  },
  {
   "cell_type": "markdown",
   "id": "MqZm_iFTPI7f",
   "metadata": {
    "id": "MqZm_iFTPI7f"
   },
   "source": [
    "## **`API data pull setup - optional`**"
   ]
  },
  {
   "cell_type": "markdown",
   "id": "u9o0vTXWQPgz",
   "metadata": {
    "id": "u9o0vTXWQPgz"
   },
   "source": [
    "`Why use REST-APIs` to grab information?  \n",
    "`Answer:` seamless integration  \n",
    "=> Sources typically trusted and confirmed by provider.  \n",
    "=> Illustrates sophistication to employers.  \n",
    "==> Refer to source doc sites for setup details, like [kaggle.api](https://www.kaggle.com/docs/api?utm_me=)"
   ]
  },
  {
   "cell_type": "code",
   "execution_count": null,
   "id": "jdE1h8feLamY",
   "metadata": {
    "colab": {
     "base_uri": "https://localhost:8080/"
    },
    "id": "jdE1h8feLamY",
    "outputId": "73773cd4-bfc4-4278-c716-14f41750e888"
   },
   "outputs": [
    {
     "name": "stdout",
     "output_type": "stream",
     "text": [
      "cp: cannot stat '/content/drive/MyDrive/Colab': No such file or directory\n",
      "cp: cannot stat 'Notebooks/kaggle.json': No such file or directory\n",
      "Warning: Your Kaggle API key is readable by other users on this system! To fix this, you can run 'chmod 600 /root/.kaggle/kaggle.json'\n",
      "Warning: Your Kaggle API key is readable by other users on this system! To fix this, you can run 'chmod 600 /root/.kaggle/kaggle.json'\n",
      "==> api key connect success <==\n",
      "Downloading covid19-variants.zip to /content\n",
      "  0% 0.00/432k [00:00<?, ?B/s]\n",
      "100% 432k/432k [00:00<00:00, 112MB/s]\n",
      "==> data import success <==\n"
     ]
    }
   ],
   "source": [
    "#=>Kaggle data API part I of II\n",
    "\"\"\" if you don't have your kaggle.json in Files\\root\\kaggle folder\n",
    "    you need to find this folder. see picture below. Only way this works!\"\"\"\n",
    "!cp /content/drive/MyDrive/Colab Notebooks/kaggle.json ~/.kaggle/\n",
    "import kaggle\n",
    "kaggle.api.authenticate()             #authenticae your key\n",
    "!chmod 600 /root/.kaggle/kaggle.json  #hide your key\n",
    "print(\"==> api key connect success <==\")\n",
    "!kaggle datasets download -d gpreda/covid19-variants  #read the dataset\n",
    "print(\"==> data import success <==\")\n",
    "\n",
    "#test is all packages installed\n",
    "#!pip install kaggle,  #!mkdir ~/.kaggle)\n",
    "#!pip freeze | grep kaggle"
   ]
  },
  {
   "cell_type": "markdown",
   "id": "pARXl3WbUHP3",
   "metadata": {
    "id": "pARXl3WbUHP3"
   },
   "source": [
    "![g.kaggle.json.location.JPG](data:image/jpeg;base64,/9j/4AAQSkZJRgABAQEBIAEgAAD/4RDaRXhpZgAATU0AKgAAAAgABAE7AAIAAAAFAAAISodpAAQAAAABAAAIUJydAAEAAAAKAAAQyOocAAcAAAgMAAAAPgAAAAAc6gAAAAgAAAAAAAAAAAAAAAAAAAAAAAAAAAAAAAAAAAAAAAAAAAAAAAAAAAAAAAAAAAAAAAAAAAAAAAAAAAAAAAAAAAAAAAAAAAAAAAAAAAAAAAAAAAAAAAAAAAAAAAAAAAAAAAAAAAAAAAAAAAAAAAAAAAAAAAAAAAAAAAAAAAAAAAAAAAAAAAAAAAAAAAAAAAAAAAAAAAAAAAAAAAAAAAAAAAAAAAAAAAAAAAAAAAAAAAAAAAAAAAAAAAAAAAAAAAAAAAAAAAAAAAAAAAAAAAAAAAAAAAAAAAAAAAAAAAAAAAAAAAAAAAAAAAAAAAAAAAAAAAAAAAAAAAAAAAAAAAAAAAAAAAAAAAAAAAAAAAAAAAAAAAAAAAAAAAAAAAAAAAAAAAAAAAAAAAAAAAAAAAAAAAAAAAAAAAAAAAAAAAAAAAAAAAAAAAAAAAAAAAAAAAAAAAAAAAAAAAAAAAAAAAAAAAAAAAAAAAAAAAAAAAAAAAAAAAAAAAAAAAAAAAAAAAAAAAAAAAAAAAAAAAAAAAAAAAAAAAAAAAAAAAAAAAAAAAAAAAAAAAAAAAAAAAAAAAAAAAAAAAAAAAAAAAAAAAAAAAAAAAAAAAAAAAAAAAAAAAAAAAAAAAAAAAAAAAAAAAAAAAAAAAAAAAAAAAAAAAAAAAAAAAAAAAAAAAAAAAAAAAAAAAAAAAAAAAAAAAAAAAAAAAAAAAAAAAAAAAAAAAAAAAAAAAAAAAAAAAAAAAAAAAAAAAAAAAAAAAAAAAAAAAAAAAAAAAAAAAAAAAAAAAAAAAAAAAAAAAAAAAAAAAAAAAAAAAAAAAAAAAAAAAAAAAAAAAAAAAAAAAAAAAAAAAAAAAAAAAAAAAAAAAAAAAAAAAAAAAAAAAAAAAAAAAAAAAAAAAAAAAAAAAAAAAAAAAAAAAAAAAAAAAAAAAAAAAAAAAAAAAAAAAAAAAAAAAAAAAAAAAAAAAAAAAAAAAAAAAAAAAAAAAAAAAAAAAAAAAAAAAAAAAAAAAAAAAAAAAAAAAAAAAAAAAAAAAAAAAAAAAAAAAAAAAAAAAAAAAAAAAAAAAAAAAAAAAAAAAAAAAAAAAAAAAAAAAAAAAAAAAAAAAAAAAAAAAAAAAAAAAAAAAAAAAAAAAAAAAAAAAAAAAAAAAAAAAAAAAAAAAAAAAAAAAAAAAAAAAAAAAAAAAAAAAAAAAAAAAAAAAAAAAAAAAAAAAAAAAAAAAAAAAAAAAAAAAAAAAAAAAAAAAAAAAAAAAAAAAAAAAAAAAAAAAAAAAAAAAAAAAAAAAAAAAAAAAAAAAAAAAAAAAAAAAAAAAAAAAAAAAAAAAAAAAAAAAAAAAAAAAAAAAAAAAAAAAAAAAAAAAAAAAAAAAAAAAAAAAAAAAAAAAAAAAAAAAAAAAAAAAAAAAAAAAAAAAAAAAAAAAAAAAAAAAAAAAAAAAAAAAAAAAAAAAAAAAAAAAAAAAAAAAAAAAAAAAAAAAAAAAAAAAAAAAAAAAAAAAAAAAAAAAAAAAAAAAAAAAAAAAAAAAAAAAAAAAAAAAAAAAAAAAAAAAAAAAAAAAAAAAAAAAAAAAAAAAAAAAAAAAAAAAAAAAAAAAAAAAAAAAAAAAAAAAAAAAAAAAAAAAAAAAAAAAAAAAAAAAAAAAAAAAAAAAAAAAAAAAAAAAAAAAAAAAAAAAAAAAAAAAAAAAAAAAAAAAAAAAAAAAAAAAAAAAAAAAAAAAAAAAAAAAAAAAAAAAAAAAAAAAAAAAAAAAAAAAAAAAAAAAAAAAAAAAAAAAAAAAAAAAAAAAAAAAAAAAAAAAAAAAAAAAAAAAAAAAAAAAAAAAAAAAAAAAAAAAAAAAAAAAAAAAAAAAAAAAAAAAAAAAAAAAAAAAAAAAAAAAAAAAAAAAAAAAAAAAAAAAAAAAAAAAAAAAAAAAAAAAAAAAAAAAAAAAAAAAAAAAAAAAAAAAAAAAAAAAAAAAAAAAAAAAAAAAAAAAAAAAAAAAAAAAAAAAAAAAAAAAAAAAAAAAAAAAAAAAAAAAAAAAAAAAAAAAAAAAAAAAAAAAAAAAAAAAAAAAAAAAAAAAAAAAAAAAAAAAAAAAAAAAAAAAAAAAAAAAAAAAAAAAAAAAAAAAAAAAAAAAAAAAAAAAAAAAAAAAAAAAAAAAAAAAAAAAAAAAAAAAAAAAAAAAAAAAAAAAAAAAAAAAAAAAAAAAAAAAAAAAAAAAAAAAAAAAAAAAAAAAAAAAAAAAAAAAAAAAAAAAAAAAAAAAAAAAAAAAAAAAAAAAAAAAAAAAAAAAAAAAAAAAAAAAAAAAAAAAAAAAAAAAAAAAAAAAAAAAAAAAAAAAAAAAAAAAAAAAAAAAAAAAAAAAAAAAAAAAAAAAAAAAAAAAAAAAAAAAAAAAAAAAAAAAAAAAAAAAAAAAAAAAAAAAAAAAAAAAAAAAAAAAAAAAAAAAAAAAAAAAAAAAAAAAAAAAAAAAAAAAAAAAAAAAAAAAAAAAAAAAAAAAAAAAAAAAAAAAAAAAAAAAAAAAAAAAAAAAAAAAAAAAAAAAAAAAAAAAAAAAAAAAAAAAAAAAAAAAAAAAAAAAAAAAAAAAAAAAAAAAAAAAAAAAAAAAAAAAAAAAAAAAAAAAAAAAAAAAAAAAAAAAAAAAAAAAAAAAAAAAAAAAAAAAAAAAAAAAAAAAAAAAAAAAAAAAAAAAAAAAAAAAAAAAAAAAAAAAAAAAAAAAAAAAAAAAAAAAAAAAAAAAAAAAAAAAAAAAAAAAAAAEJCIEUAAAAFkAMAAgAAABQAABCekAQAAgAAABQAABCykpEAAgAAAAM3OQAAkpIAAgAAAAM3OQAA6hwABwAACAwAAAiSAAAAABzqAAAACAAAAAAAAAAAAAAAAAAAAAAAAAAAAAAAAAAAAAAAAAAAAAAAAAAAAAAAAAAAAAAAAAAAAAAAAAAAAAAAAAAAAAAAAAAAAAAAAAAAAAAAAAAAAAAAAAAAAAAAAAAAAAAAAAAAAAAAAAAAAAAAAAAAAAAAAAAAAAAAAAAAAAAAAAAAAAAAAAAAAAAAAAAAAAAAAAAAAAAAAAAAAAAAAAAAAAAAAAAAAAAAAAAAAAAAAAAAAAAAAAAAAAAAAAAAAAAAAAAAAAAAAAAAAAAAAAAAAAAAAAAAAAAAAAAAAAAAAAAAAAAAAAAAAAAAAAAAAAAAAAAAAAAAAAAAAAAAAAAAAAAAAAAAAAAAAAAAAAAAAAAAAAAAAAAAAAAAAAAAAAAAAAAAAAAAAAAAAAAAAAAAAAAAAAAAAAAAAAAAAAAAAAAAAAAAAAAAAAAAAAAAAAAAAAAAAAAAAAAAAAAAAAAAAAAAAAAAAAAAAAAAAAAAAAAAAAAAAAAAAAAAAAAAAAAAAAAAAAAAAAAAAAAAAAAAAAAAAAAAAAAAAAAAAAAAAAAAAAAAAAAAAAAAAAAAAAAAAAAAAAAAAAAAAAAAAAAAAAAAAAAAAAAAAAAAAAAAAAAAAAAAAAAAAAAAAAAAAAAAAAAAAAAAAAAAAAAAAAAAAAAAAAAAAAAAAAAAAAAAAAAAAAAAAAAAAAAAAAAAAAAAAAAAAAAAAAAAAAAAAAAAAAAAAAAAAAAAAAAAAAAAAAAAAAAAAAAAAAAAAAAAAAAAAAAAAAAAAAAAAAAAAAAAAAAAAAAAAAAAAAAAAAAAAAAAAAAAAAAAAAAAAAAAAAAAAAAAAAAAAAAAAAAAAAAAAAAAAAAAAAAAAAAAAAAAAAAAAAAAAAAAAAAAAAAAAAAAAAAAAAAAAAAAAAAAAAAAAAAAAAAAAAAAAAAAAAAAAAAAAAAAAAAAAAAAAAAAAAAAAAAAAAAAAAAAAAAAAAAAAAAAAAAAAAAAAAAAAAAAAAAAAAAAAAAAAAAAAAAAAAAAAAAAAAAAAAAAAAAAAAAAAAAAAAAAAAAAAAAAAAAAAAAAAAAAAAAAAAAAAAAAAAAAAAAAAAAAAAAAAAAAAAAAAAAAAAAAAAAAAAAAAAAAAAAAAAAAAAAAAAAAAAAAAAAAAAAAAAAAAAAAAAAAAAAAAAAAAAAAAAAAAAAAAAAAAAAAAAAAAAAAAAAAAAAAAAAAAAAAAAAAAAAAAAAAAAAAAAAAAAAAAAAAAAAAAAAAAAAAAAAAAAAAAAAAAAAAAAAAAAAAAAAAAAAAAAAAAAAAAAAAAAAAAAAAAAAAAAAAAAAAAAAAAAAAAAAAAAAAAAAAAAAAAAAAAAAAAAAAAAAAAAAAAAAAAAAAAAAAAAAAAAAAAAAAAAAAAAAAAAAAAAAAAAAAAAAAAAAAAAAAAAAAAAAAAAAAAAAAAAAAAAAAAAAAAAAAAAAAAAAAAAAAAAAAAAAAAAAAAAAAAAAAAAAAAAAAAAAAAAAAAAAAAAAAAAAAAAAAAAAAAAAAAAAAAAAAAAAAAAAAAAAAAAAAAAAAAAAAAAAAAAAAAAAAAAAAAAAAAAAAAAAAAAAAAAAAAAAAAAAAAAAAAAAAAAAAAAAAAAAAAAAAAAAAAAAAAAAAAAAAAAAAAAAAAAAAAAAAAAAAAAAAAAAAAAAAAAAAAAAAAAAAAAAAAAAAAAAAAAAAAAAAAAAAAAAAAAAAAAAAAAAAAAAAAAAAAAAAAAAAAAAAAAAAAAAAAAAAAAAAAAAAAAAAAAAAAAAAAAAAAAAAAAAAAAAAAAAAAAAAAAAAAAAAAAAAAAAAAAAAAAAAAAAAAAAAAAAAAAAAAAAAAAAAAAAAAAAAAAAAAAAAAAAAAAAAAAAAAAAAAAAAAAAAAAAAAAAAAAAAAAAAAAAAAAAAAAAAAAAAAAAAAAAAAAAAAAAAAAAAAAAAAAAAAAAAAAAAAAAAAAAAAAAAAAAAAAAAAAAAAAAAAAAAAAAAAAAAAAAAAAAAAAAAAAAAAAAAAAAAAAAAAAAAAAAAAAAAAAAAAAAAAAAAAAAAAAAAAAAAAAAAAAAAAAAAAAAAAAAAAAAAAAAAAAAAAAAAAAAAAAAAAAAAAAAAAAAAAAAAAAAAAAAAAAAAAAAAAAAAAAAAAAAAAAAAAAAAAAAAAAAAAAAAAAAAAAAAAAAAAAAAAAAAAAAAAAAAAAAAAAAAAAAAAAAAAAAAAAAAAAAAAAAAAAAAAAAAAAAAAAAAAAAAAAAAAAAAAAAAAAAAAAAAAAAAAAAAAAAAAAAAAAAAAAAAAAAAAAAAAAAAAAAAAAAAAAAAAAAAAAAAAAAAAAAAAAAAAAAAAAAAAAAAAAAAAAAAAAAAAAAAAAAAAAAAAAAAAAAAAAAAAAAAAAAAAAAAAAAAAAAAAAAAAAAAAAAAAAAAAAAAAAAAAAAAAAAAAAAAAAAAAAAAAAAAAAAAAAAAAAAAAAAAAAAAAAAAAAAAAAAAAAAAAAAAAAAAAAAAAAAAAAAAAAAAAAAAAAAAAAAAAAAAAAAAAAAAAAAAAAAAAAAAAAAAAAAAAAAAAAAAAAAAAAAAAAAAAAAAAAAAAAAAAAAAAAAAAAAAAAAAAAAAAAAAAAAAAAAAAAAAAAAAAAAAAAAAAAAAAAAAAAAAAAAAAAAAAAAAAAAAAAAAAAAAAAAAAAAAAAAAAAAAAAAAAAAAAAAAAAAAAAAAAAAAAAAAAAAAAAAAAAAAAAAAAAAAMjAyMzowNToyNyAxODoyMzowNgAyMDIzOjA1OjI3IDE4OjIzOjA2AAAAQgBCACAARQAAAP/hCxdodHRwOi8vbnMuYWRvYmUuY29tL3hhcC8xLjAvADw/eHBhY2tldCBiZWdpbj0n77u/JyBpZD0nVzVNME1wQ2VoaUh6cmVTek5UY3prYzlkJz8+DQo8eDp4bXBtZXRhIHhtbG5zOng9ImFkb2JlOm5zOm1ldGEvIj48cmRmOlJERiB4bWxuczpyZGY9Imh0dHA6Ly93d3cudzMub3JnLzE5OTkvMDIvMjItcmRmLXN5bnRheC1ucyMiPjxyZGY6RGVzY3JpcHRpb24gcmRmOmFib3V0PSJ1dWlkOmZhZjViZGQ1LWJhM2QtMTFkYS1hZDMxLWQzM2Q3NTE4MmYxYiIgeG1sbnM6ZGM9Imh0dHA6Ly9wdXJsLm9yZy9kYy9lbGVtZW50cy8xLjEvIi8+PHJkZjpEZXNjcmlwdGlvbiByZGY6YWJvdXQ9InV1aWQ6ZmFmNWJkZDUtYmEzZC0xMWRhLWFkMzEtZDMzZDc1MTgyZjFiIiB4bWxuczp4bXA9Imh0dHA6Ly9ucy5hZG9iZS5jb20veGFwLzEuMC8iPjx4bXA6Q3JlYXRlRGF0ZT4yMDIzLTA1LTI3VDE4OjIzOjA2Ljc4NjwveG1wOkNyZWF0ZURhdGU+PC9yZGY6RGVzY3JpcHRpb24+PHJkZjpEZXNjcmlwdGlvbiByZGY6YWJvdXQ9InV1aWQ6ZmFmNWJkZDUtYmEzZC0xMWRhLWFkMzEtZDMzZDc1MTgyZjFiIiB4bWxuczpkYz0iaHR0cDovL3B1cmwub3JnL2RjL2VsZW1lbnRzLzEuMS8iPjxkYzpjcmVhdG9yPjxyZGY6U2VxIHhtbG5zOnJkZj0iaHR0cDovL3d3dy53My5vcmcvMTk5OS8wMi8yMi1yZGYtc3ludGF4LW5zIyI+PHJkZjpsaT5CQiBFPC9yZGY6bGk+PC9yZGY6U2VxPg0KCQkJPC9kYzpjcmVhdG9yPjwvcmRmOkRlc2NyaXB0aW9uPjwvcmRmOlJERj48L3g6eG1wbWV0YT4NCiAgICAgICAgICAgICAgICAgICAgICAgICAgICAgICAgICAgICAgICAgICAgICAgICAgICAgICAgICAgICAgICAgICAgICAgICAgICAgICAgICAgICAgICAgICAgICAgICAgICAKICAgICAgICAgICAgICAgICAgICAgICAgICAgICAgICAgICAgICAgICAgICAgICAgICAgICAgICAgICAgICAgICAgICAgICAgICAgICAgICAgICAgICAgICAgICAgICAgICAgIAogICAgICAgICAgICAgICAgICAgICAgICAgICAgICAgICAgICAgICAgICAgICAgICAgICAgICAgICAgICAgICAgICAgICAgICAgICAgICAgICAgICAgICAgICAgICAgICAgICAgCiAgICAgICAgICAgICAgICAgICAgICAgICAgICAgICAgICAgICAgICAgICAgICAgICAgICAgICAgICAgICAgICAgICAgICAgICAgICAgICAgICAgICAgICAgICAgICAgICAgICAKICAgICAgICAgICAgICAgICAgICAgICAgICAgICAgICAgICAgICAgICAgICAgICAgICAgICAgICAgICAgICAgICAgICAgICAgICAgICAgICAgICAgICAgICAgICAgICAgICAgIAogICAgICAgICAgICAgICAgICAgICAgICAgICAgICAgICAgICAgICAgICAgICAgICAgICAgICAgICAgICAgICAgICAgICAgICAgICAgICAgICAgICAgICAgICAgICAgICAgICAgCiAgICAgICAgICAgICAgICAgICAgICAgICAgICAgICAgICAgICAgICAgICAgICAgICAgICAgICAgICAgICAgICAgICAgICAgICAgICAgICAgICAgICAgICAgICAgICAgICAgICAKICAgICAgICAgICAgICAgICAgICAgICAgICAgICAgICAgICAgICAgICAgICAgICAgICAgICAgICAgICAgICAgICAgICAgICAgICAgICAgICAgICAgICAgICAgICAgICAgICAgIAogICAgICAgICAgICAgICAgICAgICAgICAgICAgICAgICAgICAgICAgICAgICAgICAgICAgICAgICAgICAgICAgICAgICAgICAgICAgICAgICAgICAgICAgICAgICAgICAgICAgCiAgICAgICAgICAgICAgICAgICAgICAgICAgICAgICAgICAgICAgICAgICAgICAgICAgICAgICAgICAgICAgICAgICAgICAgICAgICAgICAgICAgICAgICAgICAgICAgICAgICAKICAgICAgICAgICAgICAgICAgICAgICAgICAgICAgICAgICAgICAgICAgICAgICAgICAgICAgICAgICAgICAgICAgICAgICAgICAgICAgICAgICAgICAgICAgICAgICAgICAgIAogICAgICAgICAgICAgICAgICAgICAgICAgICAgICAgICAgICAgICAgICAgICAgICAgICAgICAgICAgICAgICAgICAgICAgICAgICAgICAgICAgICAgICAgICAgICAgICAgICAgCiAgICAgICAgICAgICAgICAgICAgICAgICAgICAgICAgICAgICAgICAgICAgICAgICAgICAgICAgICAgICAgICAgICAgICAgICAgICAgICAgICAgICAgICAgICAgICAgICAgICAKICAgICAgICAgICAgICAgICAgICAgICAgICAgICAgICAgICAgICAgICAgICAgICAgICAgICAgICAgICAgICAgICAgICAgICAgICAgICAgICAgICAgICAgICAgICAgICAgICAgIAogICAgICAgICAgICAgICAgICAgICAgICAgICAgICAgICAgICAgICAgICAgICAgICAgICAgICAgICAgICAgICAgICAgICAgICAgICAgICAgICAgICAgICAgICAgICAgICAgICAgCiAgICAgICAgICAgICAgICAgICAgICAgICAgICAgICAgICAgICAgICAgICAgICAgICAgICAgICAgICAgICAgICAgICAgICAgICAgICAgICAgICAgICAgICAgICAgICAgICAgICAKICAgICAgICAgICAgICAgICAgICAgICAgICAgICAgICAgICAgICAgICAgICAgICAgICAgICAgICAgICAgICAgICAgICAgICAgICAgICAgICAgICAgICAgICAgICAgICAgICAgIAogICAgICAgICAgICAgICAgICAgICAgICAgICAgICAgICAgICAgICAgICAgICAgICAgICAgICAgICAgICAgICAgICAgICAgICAgICAgICAgICAgICAgICAgICAgICAgICAgICAgCiAgICAgICAgICAgICAgICAgICAgICAgICAgICAgICAgICAgICAgICAgICAgICAgICAgICAgICAgICAgICAgICAgICAgICAgICAgICAgICAgICAgICAgICAgICAgICAgICAgICAKICAgICAgICAgICAgICAgICAgICAgICAgICAgICAgICAgICAgICAgICAgICAgICAgICAgICAgICAgICAgICAgICAgICAgICAgICAgICAgICAgICAgICAgICAgICAgICAgICAgIAogICAgICAgICAgICAgICAgICAgICAgICAgICAgPD94cGFja2V0IGVuZD0ndyc/Pv/bAEMABwUFBgUEBwYFBggHBwgKEQsKCQkKFQ8QDBEYFRoZGBUYFxseJyEbHSUdFxgiLiIlKCkrLCsaIC8zLyoyJyorKv/bAEMBBwgICgkKFAsLFCocGBwqKioqKioqKioqKioqKioqKioqKioqKioqKioqKioqKioqKioqKioqKioqKioqKioqKv/AABEIAqsBHAMBIgACEQEDEQH/xAAfAAABBQEBAQEBAQAAAAAAAAAAAQIDBAUGBwgJCgv/xAC1EAACAQMDAgQDBQUEBAAAAX0BAgMABBEFEiExQQYTUWEHInEUMoGRoQgjQrHBFVLR8CQzYnKCCQoWFxgZGiUmJygpKjQ1Njc4OTpDREVGR0hJSlNUVVZXWFlaY2RlZmdoaWpzdHV2d3h5eoOEhYaHiImKkpOUlZaXmJmaoqOkpaanqKmqsrO0tba3uLm6wsPExcbHyMnK0tPU1dbX2Nna4eLj5OXm5+jp6vHy8/T19vf4+fr/xAAfAQADAQEBAQEBAQEBAAAAAAAAAQIDBAUGBwgJCgv/xAC1EQACAQIEBAMEBwUEBAABAncAAQIDEQQFITEGEkFRB2FxEyIygQgUQpGhscEJIzNS8BVictEKFiQ04SXxFxgZGiYnKCkqNTY3ODk6Q0RFRkdISUpTVFVWV1hZWmNkZWZnaGlqc3R1dnd4eXqCg4SFhoeIiYqSk5SVlpeYmZqio6Slpqeoqaqys7S1tre4ubrCw8TFxsfIycrS09TV1tfY2dri4+Tl5ufo6ery8/T19vf4+fr/2gAMAwEAAhEDEQA/APfv+Ea0L/oC6f8A+Aqf4Uf8I1oX/QF0/wD8BU/wrToq+efcd2Zn/CNaF/0BdP8A/AVP8KP+Ea0L/oC6f/4Cp/hWnRRzz7hdmZ/wjWhf9AXT/wDwFT/Cj/hGtC/6Aun/APgKn+FadFHPPuF2Zn/CNaF/0BdP/wDAVP8ACj/hGtC/6Aun/wDgKn+FadZuta9YaDBDLqMuwTyiKMDqWP8AT3qZVZRV2xOfKrtif8I1oX/QF0//AMBU/wAKP+Ea0L/oC6f/AOAqf4VYsdRhvw/lBlK9Vbr9at1NLEKtBTpyumXJSg7S3Mz/AIRrQv8AoC6f/wCAqf4Uf8I1oX/QF0//AMBU/wAK06K0559ybszP+Ea0L/oC6f8A+Aqf4Uf8I1oX/QF0/wD8BU/wqbV9WttE0uS/vt/kxsitsXJyzBRx9WFXaPaS7hdmZ/wjWhf9AXT/APwFT/Cj/hGtC/6Aun/+Aqf4Vp0Uc8+4XZmf8I1oX/QF0/8A8BU/wo/4RrQv+gLp/wD4Cp/hWnVXUNSs9Lt1n1CdYInlSFWfoXdgqr9SxA/Gjnn3C7K3/CNaF/0BdP8A/AVP8KP+Ea0L/oC6f/4Cp/hWnVJtWtk16PSDv+1SWzXK/L8uxWVTz65YUc872uF3uQ/8I1oX/QF0/wD8BU/wo/4RrQv+gLp//gKn+FadFHPPuF2Zn/CNaF/0BdP/APAVP8KP+Ea0L/oC6f8A+Aqf4Vp1S0jVrbW9NW+sd5haSSMb1wco5RuPqpo559wuyH/hGtC/6Aun/wDgKn+FH/CNaF/0BdP/APAVP8K06KOefcLszP8AhGtC/wCgLp//AICp/hTZPD/h+GJ5ZtI02ONAWZ2towFA6knHFatcL8R9VdIrfS4jgSjzZQO4zhR9Mgn8BWFfEyo03Ns68Hh54qtGknudP/wjehf9AXTv/AVP8KP+Ea0L/oC6f/4Cp/hXGReOmtfB9tbwyGbVAGid2H+qAOFY5+8SuPxzn0Njw744tNP0eNNfub6e7uLmYQLDZT3UjqoQsQIkYhRvAycDnFZ08cqk1CLd7XN62X4ihSdWeydvXz9Dq/8AhGtC/wCgLp//AICp/hR/wjWhf9AXT/8AwFT/AAqre+MdIsNJtb+4N4FvGKW1sLCc3MzDOQINnmcAE8rwOelXdJ1zT9b0z7fp0++BWZX8xGjaJl+8rqwDIR3BANdfPPuebdjP+Ea0L/oC6f8A+Aqf4Uf8I1oX/QF0/wD8BU/wqxpeqWmtaZDqGmyma1nXdFIUK7xnGQCAcHsehHI4q3Rzz7sOZmZ/wjWhf9AXT/8AwFT/AAo/4RrQv+gLp/8A4Cp/hUPh7xVpfij7d/ZErv8AYLlrabehX5h3XPVT2PQ4NbNHPPuF2Zev69a+H7ET3Ry0jbI0B5Y/4Dua5ga14h1DM9oJDEOR5EWV/PBzVD4p+b9u0/d/qvLfb/vZGf0213mi/Zv7DsvsO37P5K7Nvpj+dfM4inWx+LnRVVwjC22jdz2Ixp4bCwrcvM5X32Rz6eKry10kNeRo9zISIsjbwOCzD68duhqkNX8SPH9qXzjDjO4QDbj8unvR4i2/8Jcv2v8A1G6PP+5xn+td0uNo2Y244x0xXn4ahisdVqUZYiSVL3VbdvuyqtSlQhGapp82vp5I53w74sh1e6awuNqXka7vl6P649x6V0deT2Plf8LWX+ytvlfamxt6Ywd+Pb71esV72V1qlWi41Hdxdr97HNmNCFGpFw0UknbsFeJ+Or86h8R1ttfSaHTrNgqxxjLNH1JHTlvXt+Fe2VRvdE0vUbgT6hp1tcyquwPNEGIGScZP1NevBQc17TbrY8HGYd4iCgnbW/qcRY+MtMk12FdIguiZXCLCYwCc9uvT+VbXxAu5bfTNMg+1yWNle6lDbX11FKY2ihYN0ccpuYIm4EEbuCOtbltoWk2Vws9nptrBMudskcKqwyMdQKtXNrb3trJbXkEdxBKpWSKVAyuD1BB4IrP6vhaLf1WLSbu03fW/TsmdkZ1pL9603toed+JILHwhpOoQ+HdbvLVpGtFvIGv2m+xQSThJLld5ZkOwtyDjjOMjNTXVrF4T8WaLb+FLm6nfUIrg3NlNfS3KyRpCzLNiRmwfMCLuGM78HPFdjpnhzRNFtJrXR9HsLC3n/wBbFbWyRrJxj5gAAePWk0jwzoXh9pW0LRdP01pseYbO1SIvjpnaBmq6W/r+kH9f1/X/AAfKdUsdMm+E9h4jn1u9fVr+S0M8z30jLcTNMm+EwltoAO4bQoK7fY1PqEeta5rHim6uBbBtMunignm8SXFgdOiVAUcRJEy8g79zE7s46DFelDwh4bGpTah/wj+l/bZ8+bcfY4/MkycnLYyeQPyp+peFvD+sX8V7q2h6dfXcOBHPc2iSOmDkYYgkc0mru/8AS229LeW/3i0X9ak+iPdSeH9PfUZoJ7traMzy2zZjkfaNzKcDKk8jjpXHvokfiX4geJbfV73UHs7WG08i1hvZYUjdkYlxsYc8D+ddBe/8Jb9tl/s3+xfsuf3Xn+bvx744/KtOxtfKQ3F1BapfzooupLdMCQqMDk8kDJxnpRP3tUJXjZHlvhK6m8Yx+G9P8U6hdNbyaEtzHGl28JvphIUcuyEM5RQhxnGXyR6UfEdvHqHhnUrKS+vbvS9J8T2VvZ3JvpQRG0kHmIZAwL7GZlDMSVI4IIzXq934X0C/0qHTL3RNOuLCA5itZbVGijP+ypGB+FTDRNKGjf2QNMs/7M2eX9i8hfJ2/wB3Zjbj2xVX1v53/wDJr/8AA/qxTt0/4bS3/BPM9RstS1PxtqukpbpeWOk21uLKK68S3Vk6RlMmfKI7SHduXzGYkbMepMNjbDWPFXhOy8U64lxJcaHcqXsL5wl+RMhUecuxm+UZOMbiDxjIr0e88H+GtRtbW21Dw/pd1BZoEto5rON1gX+6gI+UcdBU9/4d0TVIRDqej2F5EsflKk9sjgJkHaAR0yAcewpLR/12a/UUtV936f5Hm1xfT2DahoVpq92vh6PXbaye/N2xktY5It0kImJ3ACTYm7OV8zGRgYn8RzT+CtSvrTwbc3T7tDury4tpbiS6Fq6FBHMA5YqTuk+Xo23pxXo0GiaVbaR/ZVvptnFp2wobNIFEJU9RsxjB+lM0jw9o3h+GSLQtJsdNjlO6RLS3SIOfU7QM0v6/C3/B/wCDqP8Ar8b/APA/qxxNxY2Hh648NX/hvV725u9SvYomEuoyXC6hCwPmOVZivyr8+5QMYx0OKxPBuo6k2oaPaayJ9N0Fr+9Sykgnx9tuhcSELMV5VMbtqfxFTu7A+m6d4W8P6Pfy32k6Hp1jdzZEk9taJG75OTlgATzU82kWD6abNdOs2hV/NjgeBTGJN28NtxjO75s9c89aq9tf6/pbrzI5b/1/Xz8i8chTjk9q8t8Ppot/oFn4i8Q+I7uy1yS4zcTjU3jFvKJMG38onywoI2bSvPXrzXYQf8Jn9oj+0/2D5O4eZ5fnbtuecZ4ziuW+IPw98Pa3ezXOpaPbu12q77tIwkqsuMfvAMjoOp5561lUm6a5jpoU1WlyGbc3Wm3fhfXvEniDV76HVrW+uYI/s+oyRCx2OwhCorBcFArnIO4Mc5zivO5dR1vxKkvijXhNczQWCNJaxag1rNYMA3zogwpB+8MkH6813J8NeG9IsLe4v7GG5+wqqre3sX2iZADwS5BbAJ69FHoBUF8/hXxVFcXCwafq0tpGAt0YBKqE5wqyEYJyM4ByO/WvOq1nJX6L9P8AP+mz3MNhVTly6cz/AFe3y+f5W4qCa28Uavcy395cSQi3hmtU+0PEWRlyZTtIJOeMnpjtXovhLQYbj+wTZeM7izvmsLmSDy4opZJ4XkQFlkkVkJHlJn5S2D26nlbzSdMvEhS+0+1nSIbYhLCrBPYZHFeq+HrTw/4m8G21jrem6dex6eNpguoEdYgPusFbOBt78dDWGAqRdX5f8D+v6a7M5o1I4ZaJ66vr5fJbL5ejqWPjxbLwmtzq7xanqf26ew0/yAqHUWRyodeyjAyzfdGCemBWVrFhdQeGbPSZtWghn8VawRq+oWxDRQboyxiTPZhGkQJ65z1OK6/VbDwRd2dvb6zZaDdW9kh+zwXEEMghXHIRCDjoOAOwqnZ3Hw/TTZdFs7PSoNPumzLaCwEUEjccsuwLngcn0Feu6tJP3pK/rvt+Z8xHDV5K8YO2vRu2/wCRJ4Rvr+HxBrHhy7vRqdvpSQNDe+SkbLvDZhcRgJuUKDwq8OvHrc8d6xcaL4PvJdOUvqNxttLGMYy88p2J19Cc/QGsW51/SvDyQ6N4ItdLtQZRu2QbbZdw5x5XVs46A10FhZ6vdXCt4nt9HmWBhLbG2R2aOTkbhv6HBIyOeaaqQq3UXe2/6kzo1aFpTja+qOJ8Pi78K+MdEhm0G50jTr2xXSXea4ikEk8QLwsdjtgkeaCT1JWrvgnwtaa/4Tt9S1281S+u5pZ8yNqdxHtUTOFUBHAwAPrXfXNnbXqxreW0NwsciyoJYwwV1OVYZ6EHkHtS21rb2VusFnBFbwrkrHEgVRk5OAOOSSfxrR+9q/P8df68jC1np/X9Ioa/oNrr9iILoYZG3xuByp/wPcVzC6L4hsMwWZkER6eTMAv5ZGK7uivKxuVUcZNVG3GS6xdjuo4ypRjyaNdmcbL4T1C90IxzTxw3iEmFidxAPJVj9ecjOMmuZXw741ih+wR/aRbkY2rdLsx6fe6e1esUVl/YuGSSi2tLXT1fqdFPNK0LppPrqtvQ5Pwf4MGgk3l8yy3rrtAX7sQ7gHufeusoor06FCnh6ap01ZHBXr1K83UqO7CkLBcbiBk4GT1rk/idH53gG6j8mOffc2i+VMcJJm5j+VuDweh4P0NUP7NXQ7jRFTw7oWiyXOrBHTTVWUOot5iDuMMZVs9wM4zzyRW19G/66GVtL+v4HcW9xDd28dxazRzwyKGSSNgyuD0II4IqSvINM17xBH4f02w0NLtRZaFb3SG3+yBJHbcP3xndSIxsAPl88nJHAr1u3d5bWKSVPLkZAzICDtJHIyOtU1ZsT0diSiuY+JI3fDbXBtDZtWG1uh6cGshrKfw9ZQLZaJofhebUbyC0a80krKwRtxJO6BBnICrkMMt07Fdbf1qHS/8AWh3Md1bzPIkU8btG/luquCUfAO0+hwQcehqWvMrJbhNcazGoNNLL4kmha9MELSqRp+dy5QqrggchR0IxgkV0vw4gkg+H+liW7mui0W4NKEBQZ+6Nqjge+T70dF6L8UHW3r+bX6HUUUV5w0R+2nwDg+W2o/atuf8AmH584j6eZ+6+ho62Dpc9GDBhlSCM44NLXl0Wva0WttM0uO6i86bUpmfTIbNJGMd0yKMTlUxg5YgFjwcjk1LN4s8TxwpauY11Oa3g1IRosciiBIyZ41K5By8e0HJI84YPAo6X/r+lZjas2u39fiemUVi+FtSm1nS5dTebzbe6uZGtMKABAG2pjHUHbuyc/eraoFuFFebaLLqdxrI0mw1WXTYJ7nV55XhhjdyyXahcF1YD757Hg+uCIpfFOuyaPZapJqZht4dNjuLs2UUEhjfcwaSeKQhzEQvAiIbIb2oWqXn/AF+g2rNrsenUV55F4j8R3fiaZ7aK6Npb6qLJ4s2iW3lZALEs4n8zB3DAweAFPWqgj1fVtF8JalqHiK8M11qSNtigt1VMxyYxmMnOB3P8R46YFrbzt+Nv8xPr5X/C/wDkenUEBlIYZB4IPeiuP+KKq/gd1eGGdWvbQGK4OI3H2iP5WODhT34PHY0DWpU+IVm1rDZXVkvkoXaOTysLkkAr069GrzSxikiSVZMqC/AqB/GT2+szR6fpdjoWnvdWiTWFmN6YDEmVflUAtuxkKD8gGafq13cXWseTZ3gigN7JAHhjQ4RYEYAEgjO5jyc+leFio88pOD0ev3W2+8+0y7ESoUoUq0db2Xzvv9zRaAw374qQcbakByMjkVy9ut3e6pBPLdSO0FtdhwETawSVUyfl78Z9+mKRbvUF0meaO6MH2SwgmSJYUCsTHuIIx0OOgxXC8O+/9XsemsbG9uV/h2T7+Z1XTrSAgjI5Fc1qN9f2ck1qJ5Lkv5BVysasm9mBA+6v8Ixu7nnNamiT3k1rML9XDxylFMjRlyuAfm2HaDkkdu1ZypOMea5tDExlU5LP+r/5HZ+Brk2/iu3URRv5wZCWXJTgnKnseMfQmvWq8c8KWX23xPZg7gkLid2BxtCfNk+2QB+NdK3hfw1/wsFpoPD2kyr/AGV9qQJZxkNJ5uQ4+X7x/vda9rLZP2Vntd/lc+Tz+K+sKUd7L87HfUV5nL4s1rTPD1hrY1JdTk1TT57prJoUEdqyRGTKbAH2KRsbcWOSORS67reraFdQQJ45tGE0Cz5vraEsdxPK7No2ccZyevJr06k40leen9eR4FOEqjtDU9LoqLbcf89Yv+/Z/wDiqNtx/wA9Yv8Av2f/AIqqIJaKi23H/PWL/v2f/iqNtx/z1i/79n/4qgCWiottx/z1i/79n/4qjbcf89Yv+/Z/+KoALi1gvIfJu4I54iytslQMuQQQcHuCAR7illtoJ2iaeGOVoX3xl0BKNgjcM9DgkZ9CaTbcf89Yv+/Z/wDiqNtx/wA9Yv8Av2f/AIqgCnP4e0W6itYrnSLCaOz/AOPZJLZGEH+4CPl6DpWjUW24/wCesX/fs/8AxVG24/56xf8Afs//ABVABdWlvfWslrewRXNvKu2SKZA6OPQg8EVmW/hHw3Zwzw2nh7SoIrlNk6RWUarKvXDAL8w9jWntuP8AnrF/37P/AMVRtuP+esX/AH7P/wAVQBXttF0uySJLPTbO3WF/MiWKBVCNt2bhgcHb8uR246VLZ2Fnp8bx2FpBapJIZHWCMIGc9WIHUnuaftuP+esX/fs//FUbbj/nrF/37P8A8VQBLUX2W3+2fa/Ii+0+X5XnbBv2Zzt3dcZ5xRtuP+esX/fs/wDxVG24/wCesX/fs/8AxVAFS60DR76zFpe6TY3NsJDKIZrZHQOSSW2kYySSSeuSatCytRMkotoRJHGYkfyxlUOMqD2HA46cCl23H/PWL/v2f/iqNtx/z1i/79n/AOKoAW3t4bS2jt7SGOCCJQkcUahVRR0AA4AqSottx/z1i/79n/4qjbcf89Yv+/Z/+KoAji06ygnE0FnbxyjfiRIlDDewZ+QP4mAJ9SMmq8vh3Rbg2pn0ewlNn/x7F7VD5Hf5Mj5fwq5tuP8AnrF/37P/AMVRtuP+esX/AH7P/wAVQBXfRtLk1VNTk020bUEXat20CmVR6B8ZA/Gll0jTZ9PSwn0+1ks0IKW7wKY1IORhSMDB5qfbcf8APWL/AL9n/wCKo23H/PWL/v2f/iqAJaxvFumyav4UvrO3himlkjyiSoGBIIPAIxu44PY4PHWtTbcf89Yv+/Z/+Ko23H/PWL/v2f8A4qlJcyaLhJwkpLoeWeBvAEd/eXF74n0jMKKI4obuHHmHOSSp5KjA4PByfSuw1XwHolxprR6ZplpYzxgtCbeFY1DYx0AxzgAnrj6V0e24/wCesX/fs/8AxVG24/56xf8Afs//ABVYRw8I0/Z9Drq46rUr+32a2PE9D0uzn8Q2cFxDbx5lZFZ4Q2xnBHA9Sx5+td7J8NdMlVxILfbIgR1W3wGUDABAboBxitO98IWt7rUWptKYp45FkIiXCuynIJ59u2K3Ntx/z1i/79n/AOKrmw+D5YuNXXXQ78bmbqTjUw75XbXY4KX4ZRTb98Vo3mKEfLMdy+hyvI5PHvXEazY2vhXWJNJjjWGKMKf3YGwEgHjAGOvpXum24/56xf8Afs//ABVc/qPgiw1XxDFq96RJLHt3QlP3chAwCwzk44744GR1yVsDCUbQQ8Jm9SFRyrO6t+J53b+G9ZuyPJ0u6yeB5kZj9+rYFegeEPCR0B5ru8aN7yVRGDHkhEznGe+T/Kuk23H/AD1i/wC/Z/8AiqNtx/z1i/79n/4qroYGnRlzrVmOMzevioezaSXkV7XRtLsry4u7LTbS3ubk5nmigVHl/wB5gMt+NQ2/hrQrRGW10XToFZi7CO0RQWPUnA61e23H/PWL/v2f/iqNtx/z1i/79n/4qu9NrY8ZpPclooBz05opDCiiigAooooAKKKKACiiigAooooAKKKKACiiigAooooAKKKKACiiigAooooAKKKKACiiigAoopk7mK3kkXGVQsM+woAfRXFaLZ+Kda0Sz1I+LXt/tcKy+UunQkJkZwCRk1xmpeIPiXpVxdPI11JZ2rtmZ7CMIyKfvEheARz1oA9oopkDmW3jkbGWQMce4rB1jX7nQNZik1KFP7DnVYzdIDutpc9ZP9k5Az2PWgDoaK5yDxHPq/iRbPQY459PtGP269blN2OI4yOrZwSegro6AOCbSdP/ALLsE/4QnUXSOJgsK3IzAPMY7STIMkklu/DVc8PadZ2+tRSQeE77TXCti5muAyrx0wJD16dK0j4VJtbeA69rf7hSvmC8+aTLFssccnnH0AqfT/D39n3q3H9sardbQR5Vzc70ORjkYoA2KqasxTRb1kJVlt5CCDgg7TVuo7mBbq1lt5CQkqFGK9QCMcVM03FpFRaUk2eSeCRYnwxBfSaR4oS9/sdppL66u5vs8zeT8xU+aQN2SVO0Y6jGKlt/GA8NyHUmW4mh/wCEd0429pJcM+ZZZHUZY59RlsE4HQ9K9HtNCtrPwrFoEUkxtYrMWauxHmFAmzJOMZx7fhWQ/wAPNGltmhlku2U2FvYq3mhWjWBi0cikAEOGOc9OBxVyfvtrb/8Aa/zREV7tn/Wsf8mYth8Sb+Ww1fzNKhv7uwtBdRf2c0rRTAttKnfGGDLwTgHI5HpXQeC/Ek/iTT55ribSZjE4UPpl00q8jOGVlDIw6YNLD4QYWV7DeeItcu5buNY/tDXQjeALyDGI1VQc9SQSehyOKn0HwvFod9e37395qN9fCNZrm7KbiqAhVARVUAZPbJz1o0DU3KKKKQwooooAKKKKACiiigAooooAKKKKACiiigAooooAKKKKACiiigAqK6BazmCgkmNgAO/FS0UAcH4Y8deG9M8K6bZX+qJBc29skcsTRvlGAwQeKPE/jrw3qfhXUrKw1RJ7m4tnjiiWN8uxGABxXeUUARWoK2cIYEERqCD24rnfEg1PW7w+HdPhe3tZog19fumVWM5GyPPVjg89hXT0UAcjodlfeENTi0WOGS80S5ZjazquXtW5YpJjqp5Ib8K66iigAooooAKKKKACiis7WddsNBtY59SkZFlkEcapGzs7YzgAAnoDQBo0VzUXj/QJLmGF557czOER7i2kjTceg3MABXS0AFFFFABRUM93bWuPtNxFDu6eY4XP50+KaOeMSQSJIh6MjAg/iKAH0UUUAFFFRz3MFsoa5mjhUnAMjBQfzoAkoqKC5guVLW00cwBwTG4bH5VLQAUUUUAFFFFABRRRQAUUUUAFFFFABRRRQAUUUUAFFFFABRRRQAUVw+jaZbeJdLudX1q/u0vvOmRzHePELDYxAUKCAMAAksDnOa3/AAjf3Wp+E7G7vm3zSIcybdvmAMQr4/2gA340AbNFFFABXMeLv+Qx4Y/7Cg/9FvXT1y3jYywS6HfLbXFxDZ6gJJhbxGRlXYwzgc9SKAIfGVlpPi+SLwvJq6Wt/HILry1XcxAVhjqBnDZxnOBnGKk8Bm8t7XUtKvbx70aZdm2hmkGGKbFIB+ma5H7N4c/4TH+1/wCydX+z+Tu8v7FPv+0ebv8AM3fTjHpXYeCjLPLrl81tcW8N5qBlhFxEY2ZdijODz1BoA6miiigDzvxB4SsfF/xIuLfU57mNLbTonTyHUHl29QauQ+AdM8OafIYfE+s6baKd7n7bHGgPTJ+THpV7UrHXbLxhLq+jWVrex3FmkDJLceUUKsxz0ORyKraiddvDYXWs6CjQWN4Jnt7WcTmRSjru2kDJVipx3/CgB/hK5Ca/fWlvr76xZSQJNbPNdJNICCRJ90DAyy8GuwrlfD9jaz+LL/WbXSr228yHyzc3pdGlJYEqsbdFG1eePQV1VABXkHxwZvtejLk7dkpxnjOVr1+uA+JvgvU/FT6fLpPks1uHV0kfb97bgj8jQB5/8OdN1G4uL29hvrqx0y1jD3j203llx6A9MgZb8McZzXYQSa9oPxU06wk1e7vtJvwzQGeXeHXYTjPTIOOR2x60/wAOeH/FGieHjo15oljf2jTGV1+2CPzAR91vlORkA/hjpWtaaFqVx4h0m4fQrHSLSwd5HMVz5zv8hVVX5Rgc/wCcUAdtRRRQBzvjnxI/hbwvLfwReZOziKHIyqsc8t7AA/jgd68jlubRtBtdf8Xpea5c6lNKkMX2oxJCqYBOQDzk8AcYr3TU9NtdX02aw1CIS2867XU/z9iDzmvP4/h7r2jJJZ6LeaVqGmNJ5qW+rwb/ACm6ZGFPOO/H0oA5608SXXgXxRZ29pc3N3od9DDcLbTnfJEkgzgejD0HX9a9rrhtD+Hrx+IDr/ii9XUtRDBo0jTbFER0IHfHGOABXc0AFFFFABRRRQAUUUUAFFFFABRRRQAUUUUAY194R0HUb5ry802KSd8b2yVEmP7wBAb8QaTRtGudEvp4be5EmkSAvDbyZ32z5+6p7p147dq2qKACiikZQ6lTnB9CQfzFAC0VF9mT+9L/AN/W/wAaPsyf3pf+/rf40AS0VF9mT+9L/wB/W/xo+zJ/el/7+t/jQBLRUX2ZP70v/f1v8aPsyf3pf+/rf40AS0VF9mT+9L/39b/Gj7Mn96X/AL+t/jQBLRUX2ZP70v8A39b/ABo+zJ/el/7+t/jQBLRUX2ZP70v/AH9b/Gj7Mn96X/v63+NAEtFRfZk/vS/9/W/xo+zJ/el/7+t/jQBLRUX2ZP70v/f1v8aPsyf3pf8Av63+NAEtFRfZk/vS/wDf1v8AGj7Mn96X/v63+NAEtFRfZk/vS/8Af1v8aPsyf3pf+/rf40AS0VF9mT+9L/39b/Gj7Mn96X/v63+NAEtFRfZk/vS/9/W/xo+zJ/el/wC/rf40AS0VF9mT+9L/AN/W/wAaPsyf3pf+/rf40AS0VF9mT+9L/wB/W/xo+zJ/el/7+t/jQBLRUX2ZP70v/f1v8aPsyf3pf+/rf40AS0VGsCowYGTI9ZGI/ImpKACiiigAooooAKK5fwJ/bf8AZM/9tbfI89vsO7/WeVk4z7dNvfHtiuooA5l/iL4Ujv2s31dFmWTyiDFJtDZx97btxnvnFbqanYyyKkd7bu7HAVZVJJ/Ovl/Vv+Q1e/8AXxJ/6EaNIONasSOD9oj/APQhQB9O6vqcOi6LeandLI8NnC00ixgFiqjJxkgZ49amnukt7cTOkrqWVcRRNI3zEAcKCcc8nsMk1keN7ea78Ba5b2sMk80thMkcUSlmdihwAByTXFXWlCWedvDeh3llaYsRdRtZPD5063cbFtpGXKoH3SDIIP3jjgWskhvRJ/10PUqK850zw59kk0vUo9Lki1L/AISC7M1x5LCQW7ST9T1EZBU4+7yD1Oa9Go6f15f5iejt/W7X6BRRRQAUUUUAFFFFABRRRQAUUUUAFFFFABRRRQAUUUUAFFFFABRRRQAUUUUAFFFFAHI2HiS7sPh/aa9qkct60qLNcMpVfLVmAyAAOACOOvvVi41fUBq2iyvBNZQ3l09s9tKVbzE8pnV+OVbI6Z9c1S0zQrnXvBtlYaleXEFulkLa4tGh2v5qgjcWPJA4OOh2g5qa90u4F34a0yd5tS+z3BnuZpIvkwsbBS3YfMVwOvH40AdbRRRQAUVU03U7XVrMXNjKJI9xRvVGHBU+hFW6AOWuPhr4SurmS4m0gGSVy7kXEqgknJ4DYH4UW/w18JWtzHcQ6QBJE4dCbiVgCDkcFsH8a4K7+MutWuszw/YLBraKdk27X3lQ2PvbsZx3x+Fb1n8ZtNu76C3Ol3UYmkVN29TtycZxQB6RRWP4vv7nS/BesX9jJ5VzbWUssT7Q21lUkHByDz61S/4Ta0t1mXUbDULK4jjjkihmjQvdB22L5YVjyWIGG2kZGQKA2V/6/rU6WiudPjO1SCQXGn38F+k6QDTXWMzu7gsgXa5QggMd27A2tkjBqjc+OLg6npNrYaLeM1xftZ3sUvlCS2YRNJt/1oGcBXyNylc4OSBRuw6XOwooooAKKKKACiiigAooooAKKKKACiiigAooooAKKKKACiiigAooooAKKKKACiiigAooooAKKKKAMLwt4Xt/DVrceWxkubyUzXEmeCxJwAPQZ/H9Bu0UUAfNmreFPEJ1m9K6FqLqZ3IZLV2UjceQQMEUaT4U8QjWbItoWooonQlntXVQNw5JIwBX0nRQBn6/pX9ueHdQ0rzvI+22zwebs3bNykZxkZxnpmsK48F3eozSXOq6wst5HHEllLBaeWIPLkEgZlLNvJZVz90YGAB1rraKOtw3VmcpJ4Ou7iV9RutWjbWvPiniuY7TbDH5auqp5RckqRJJn58/NwRgYVfB9yJ7e/bVI21RdR+3zTG1PlSHyTDsWPflRsOAdxIIyc9K6qijb+v67B/X9feFFFFABRRRQAUUUUAFFFFABRRRQAUUUUAFFFFABRRRQAUUUUAFFFFABRRRQAUUUUAFFcnZ+NLq5eJn8N6ktvINwmjiZxgjggBeR+Na0HiK1muooJLa+tmmbZG1xavGrNgnGSOuAfyrlhi6FT4ZfmvzOmeErQ+KP6/ka1FFFdRzGF4W8UW/iW1uPLUx3NnKYbiPHAYE4IPocfh+p3aqabplrpNmLaxiEce4u3q7HksT3Jq3QB836j4w8Rwa/dSRa3fr5dy5VPtDbBhjgbc4x7YxW7pvxZ8TTapaxTPavHJMiuvk4yCQDzmreofBvXrjU7meC904xyys6b5JA2CSRkBDz+NGn/BvXrfU7aee904RxSq77JJC2AQTgFBz+NAHrGv6qND8O3+qGIzfZIGlEYONxA4Ge31rDu9V8TaXHDb3h0q4ub+eKC1uIopI44mYMW3xlyWChcghl3E4wvWuongiureS3uY1lhlUpJG4yrKRggjuKxk8GaElpNbm0lkWbZukmupZJF2HKbZGYsm08jaRg9MUdQ6GK/ibX/7Uh0NDpv8AaA1A2k10YJPKKfZjMrrHvyD0BUsenXnilDr+vXWv6TcT3lrFDbjUIry3ht5Ns5t5ArMMy4GQBtyDtJPLZ46+08NaTY/Zzb2zb7aZrhJJJnkcyMhQuzMxLnacZYnjHoKB4Z0kTQSrbMklvcS3MbJPIp3ysWkzhuVYnlTlfbih36B/X5/8A4mL4h67JpT3q6esizWguYS+mXdvFbsXQCN5ZAFlyHOGTH3TwQRU3iLV/E6+fpo1GwgurW+05hcW9rKoeOacKEK+dngqd3OGU4wucjqIvBmhQwywpaSeTKoTymupWSNdwbbGpbEYyo4QAcCrN/4c0vU2umvLZna7WJZXWZ0Y+UxaMgqQVKsSQVwael0/63uCuaabgi7yC2PmIGAT9KWkRQiKoyQowMkk/metLSAKKKKACiiigAooooAKKKKACiiigAooooAKKKKACiiigAooooAKKKKAOc0XxBpVvoGnwT3iJLHaxo6kHKkKAR0puparZanfaRFYTieRL9ZGVFPChHyenTkV0tFcnsajgoOSsrdO3zOr21NTc1F3169/kMmYpbyMvBVSQfwrI/tC5/56/wDjo/wrWuf+PWX/AHD/ACrArrOUs/2hc/8APX/x0f4Uf2hc/wDPX/x0f4Vy3hD+1f7Nm/tXHk+a32TP3/LycZ9umPb8K6CgDJb4kaMl4bV9XQSq/lnMLbQc4+9txj3zitdNfWRwiX8DMxwAGQk187aj/wAhS7/67P8A+hGjTTjVbQj/AJ7p/wChCgD6R/tC5/56/wDjo/wqoviGRtYfTQ7+ckCzlti7dpYqB65yp7Vn+Ioby48M6jDphYXb2zrDsba27acYPY+9cPJZW0bahJoXhy6hsnsbeJ4mspoQWExLkxgK0mFOWA++OMnNLrb+tmPp/XdHpd1rrWXk/abjZ58qwx/Jnc56Dge1TnULkD/W/wDjoryW20NZLNnv9FW4tLXWYZYY00d4lSFo03mOBtzKpbqB3BJAq3Da3h8cWl3FpjW0n9ozLcOunzGQxFJApe6ZtrocKQgGF+UcY5On9dl/mJ/1+P8Akei6V4hk1fSbXULZnWK5iWVFkRQwBGecZ5osvEMl/NeRQs6tZz+RJuReW2q2R7YYfrXk2o6bft4Xsbc6RILuDRkFvJJp09zIJgGJWPawW3kBA+Y8nI64xWlNp3mXupE6PeHWZtShksr02j4RQkO5hLjCLw2QSN3IwelXZczX9bhLT+vI9S/tC5/56/8Ajo/wo/tC5/56/wDjo/wqtRUgWf7Quf8Anr/46P8ACj+0Ln/nr/46P8KrUUAWf7Quf+ev/jo/wo/tC5/56/8Ajo/wqtRQBZ/tC5/56/8Ajo/wo/tC5/56/wDjo/wqtRQBZ/tC5/56/wDjo/wo/tC5/wCev/jo/wAKrUUAWf7Quf8Anr/46P8ACj+0Ln/nr/46P8KrUUAWf7Quf+ev/jo/wo/tC5/56/8Ajo/wqtRQBZ/tC5/56/8Ajo/wo/tC5/56/wDjo/wqtRQBZ/tC5/56/wDjo/wo/tC5/wCev/jo/wAKrUUAWf7Quf8Anr/46P8ACj+0Ln/nr/46P8KrUUATSapPDE8ks4REUszEDAA6mqejeK4PEOmJqGjXy3Vq7FRIqY5BwRggEU6ff9nk8vZv2nb5n3c47+1YPgT7R/wiNt9r/srfufH9kbfIxuPTbxn1x3oA9FooooAjuATbSgDJKHAH0rE+zT/88ZP++DW/RQBgfZp/+eMn/fBo+zT/APPGT/vg1tW1zDd26T20iyROMqy96loA8/m+HehXE8k0ujuXkYsxEkoBJ68BsCiH4d6FbzxzRaO4eNgykySkAjpwWwaz7n41Q22rS2z6I5himMbSi5G7aDjO3b19s/jW7bfFbwxdXcVvHPcK8rhFLQEAEnAzQBqfZp/+eMn/AHwaPs0//PGT/vg1t3FxDaW0txcyLFDEheSRzgKoGSSfTFcxb+OrCfWLsNKYdNtrCO5MtxaywyFnkZRhXAJBwNuF5J4zR1sHS5c+zT/88ZP++DR9mn/54yf98GrNj4n0nUZYYra4cTTSPEsU1vJE4dFDMrK6gqdpDYYAkcjIq9YX9tqdkl3YyebBJnY+0jdgkZ57ZHXv1oAyPs0//PGT/vg0fZp/+eMn/fBrfooAwPs0/wDzxk/74NH2af8A54yf98Gt+igDA+zT/wDPGT/vg0fZp/8AnjJ/3wa36KAMD7NP/wA8ZP8Avg0fZp/+eMn/AHwa36KAMD7NP/zxk/74NH2af/njJ/3wa36KAMD7NP8A88ZP++DR9mn/AOeMn/fBrfooAwPs0/8Azxk/74NH2af/AJ4yf98Gt+igDA+zT/8APGT/AL4NH2af/njJ/wB8Gt+igDA+zT/88ZP++DR9mn/54yf98Gt+igDA+zT/APPGT/vg0fZp/wDnjJ/3wa36KAMD7NP/AM8ZP++DR9mn/wCeMn/fBrfooA56SykmieOW3d0dSrKUOCD1FUtG8N2vh7TE0/RtPa1tUYsI1DNyTknJyTXXUUAFFFFABRRRQBzng3w3N4dsbr7TcvLLeTtO0W7KQ5J4Hv6nv+FdHRRQB8r6yjR65fK6lWFxICCMEfMaNGRpNcsVRSzG4jAAGSfmFfVFFAGd4g0r+3PDt/pfm+Sbu3eISYztJGAcd65TU/CGu+IZLm41VrC0mNvbpClpdTEF4ZjLkuFRkDZx8vK9cmu8oo63DpY4ZvBV+fD919j8jT9ae6S5gmfULi+CMq7MtJL8xyhccAAAjrjNdjp9lDpum21jartgtolijX0VRgfyqxRQAUUUUAFFFFABRRRQAUUUUAFFFFABRRRQAUUUUAFFFFABRRRQAUUUUAFFFFABRRRQAUUUUAFFFFAGXoXiCy8QWkktlIPMhcxTxE/NE4OMH244PetSsvQvD9l4ftJIrKMeZM5lnlI+aVyc5PtzwO1alAHgl98UPFdtrlwE1BDDFcMBCbePbtDfdzjdjHvn3rdsPjRfXOo20Euk24SWVUYrK2QCccVgan8MvFsurXckOliSN5nZHFzEAwLEg8sD+dGmfDLxbFq1pJNpYjjSZGdzcxEKAwJPDE/lQB7hrGqQaJot5ql5u8izhaaQKOSFGcCuCvPiRe6hpN2mhLpDX9u1tIWtdVW5jEUkoQgssRw+eCuMANkMcYr0K/sbfU9PuLG9j8y3uI2jkTJG5SMHkdKyH8KC40i5sL/WtUvFnCBJZnj3wbG3KV2oFJBAOWDE45zS6j6Edv4j1K71CWO10aOe0tbhbS7mjvPnSUhSxRCg3ou4ZJZTwcKa6OsJPC0ceom5j1XUo0klSe4t45EWO4lUAb2wgYE7VyqsqnHI5NbtV0J6hRRRSGFFFFABRRRQAUVk+J9fh8L+G7vV7mJ5ktwP3acFiWCgZ7ckc1keBfiBY+N7WbyoTZ3sHMls0m/5T0YHAyO3Tg/hWbqwU1BvVnZDA4ieGliowvCLs32f5nW0UUVocYUUUUAFFFFABRRTXbZGzegJoAdRXzVoXxP8T2vieK7udSmu4J5x51rIcoVJ5Cj+H2xivpWubD4iNdNx6Ht5tk1fKpwjVafMtLeW4UUUV0niBRRRQAUUUUAFFFFABRRRQAUVzPgfVtV1XTLk6tbFEguHit7hjzOgJGce2MZ7/ga6agDOPiLRRd/ZTrFgLjf5fk/ak37s427c5zntWjXytq3/ACGr3/r4k/8AQjVzSNX1JdbsSNQus/aI/wDls394e9AH0rf39tpenXF9fSeVbW0bSyvtLbVAyTgZJ49KnBDKCOhGRWB4+/5J34g/7B0//oBrl9Ya90K+vrSx1LUjaSWlnPcySXDzPAjXBSaRC2SnyZJ24C4yAMUdbDeiv/XT/M9IorzCO5+3eIrHTtI1q/uvD82oqkdzFqEjmQ/ZZ2kjWfcWdQVjP3jgk4IxxPYJdWTWl0uqalNLH4gk09RPeySIbfe6hGUnDEYHzsC3HWjrb+ui/VCeiv8A11/yPSKK8x8EajrF74itTfahb/aykv8Aalm2qzTSqe2bYxBINrYAwQCO7da9Oo6B1aCiiigAooooAr39jbanp89lfRLNbzoUkRuhBr5x0d5fh/8AF1Ld5WWG3vPs8jNxvhc43H/gJDfhX0tXzx8cII4fiErxrhprKN3PqcsufyUflXm49WjGqt0z7ThKp7StVwU/gqRf3/8ADN/gfQ9FU9Hme40OwmkJZ5LaN2J7kqCauV6Kd1c+NnFwk4voFFFFMkKKKKACkdd8bL03DFLRQB8d2ziy1OJ51JEEwLqOvytyP0r600TXLDxFpMWo6VMJreUcHGCp7qR2Ir5j8X6T/ZnxA1PT52EEf2xirEZCxudyn/vlhXW/A7V7m28XzaYshNrdwM7Rk8B15DD3xkf/AKq8DB1XRqum+rsfrfEmBhmOXxxkHrCPN5NOzZ7/AEUUV75+SBRRRQAUUUUAFFFFABRRRQAiIsaKkahVUYVVGAB6UtIjrIivGwZWGVZTkEetLQBwN38HfD13eTXLXWoxtNIzlUlTaCTnAyhOPxotPg74etLyG5W61GRoZFcK8qbSQc4OEBx+NPm+L/h2DUns5Yb8eXKYmm8pdgwcFvvZx+Gfat2Dxx4ZubiOGHWbVpJGCou7GSegoA3qKo63qX9j6BqGp+V532O2kn8vdt37FLYzg4zjrism88Z2tjdWsd2kUEMt0LeWeW6jVYR9nM+48nHTGG2nnPTGQdv69DpKKhtLy21C0jurC4iubeUZjmhcOjj1BHBqagQUUUUAFFcj8UpriD4Z6vJaSvFIEjBZDg7TIoYZ9wTXKfAS/lm0XVbKSVnjtpo3jRjnZvDZx6DK1zyrpVlStuj2KWVyqZbUzBS0jK1remt/mj1G+1Gy0yAT6leW9pEWCiS4lWNc+mSeteL/ABO+Jl9PrP8AY3hS/eKCH5Zbi1bDyyZ+6rDnA6cdTmo/j5PMdf0q3LnyFtmdVzxuLEE/kBXl7wXVh9luGV4TMnnwODglQ5XcPT5kP5V5uMxc+Z0o6W6n2vDeQYf2VPHVnzOSdova/wCr0/qx6L8OPGviO28e22kavf3d3DcStBNDdyGRo3APILZIII6fWovjm27x/CMfdsIx/wCPuf61jeGJ3f4wWU8hLPLqm4nPXc55/Wtf44/8lAj/AOvGP/0J6wcm8LJN3sz1Y0KdPPaU4RUeam27d7nvOjDGhWA/6do//QRWdrHjfw5oGoJZavqsNvcvj93hmK56btoO38cVoWNxFD4ftrmVgkSWqyMx/hUICT+VfNdjp9z8SPiNOkTmH7fPJO8jDd5MfJ6d8DAH4V6mIrypKMYK7Z8JlGVUcfUrVcTJxp0022vn69n0PYvF3xc0zwtri6YllLfyIFa4eOQKIwwyAODuOCD2HPWu40+/t9U023v7N99vcxLLG2MZUjIrw343aFYaRe6PPZRFZ7iBo5nLZ8wRhFQkeuOM/Surg8SyeFPgLp99CwF28AhtiecOzHB/BQT+FRDETjVnGpslc6sTlGGq5fha2DT56j5Xfq9VfyV1925oeMvixp/hLXY9LWye/lUBrkxyhfJB6DoctjnHHUc13kEyXFvHNHnZIgdcjHBGa+U4NAvtU8M6r4nup/3NtKqF5Dlp5XZcj8A2Sfp749Y+At9LNoGp2kkzOtvOjIjHOwMp6egytZ4fFzqVeWa0ex05zkGFwuA9th5XlTdp76t2+61+nfXU9XoorwP4meM9fvfHM+haPeXNtBBIsEcVs5RppCBnJHJ5OAOnArtr140I8zPm8qyupmdd0oNRsrtvoib476LND4gstZSI/Z7iAQO4HAkUk8/VSMf7prlPhhqC6d8SNIlkOEklMBz6upUfqRUuo6B4/XSrk6tHqv2FE8ycXNwTHheckFscdq5fTrn7FqlrdHP7iZJOOvDA/wBK8CrO1dVLW1vqfrWBwyllbwXtFO0XG8ezWnzPsSio7eeK6tori3cSRSoHRx0ZSMg/lUlfTH4g007MKKKKBBRRRQAUUUUAFFFFAHM+B9J1XStMuRq1yXSe4eW3t2HMCEk4z75zjt+ddNRRQB8rat/yGr3/AK+JP/QjRpP/ACGrL/r4j/8AQhX0rL4Z0GeZ5Z9E06SR2LO72kZZiepJI5NEXhnQYJklg0TTo5EYMjpaRhlI6EEDg0AJ4os59R8IavZWcfmXFzYzRRJuA3MyEAZPA5PeuSuNA1i31+PUE0g3sUOrRXflrNEGZFsPKLDcwGRJwASORngc16FRQtHcd9Lev4mF4TsLqysb2W9tvsb3t9LdLa7lYwK2MKSpK5OCxwSMseT1rdoooEFFFFAGD45hSfwDrqSDIFhM4+qoWH6gV5R8A5mXxFqsAPyvaq5GepVwB/6Ea9wubaK8tJra5QPDMjRyKf4lIwR+Rr5s1TT9a+FPjhZ7QkojE20zKfLuIj1VsfkR2PPoa83F3p1YVraLc+24f5cZgMTlylactY362/4Zfn0HfF3UJb74k36SNmO1WOCIf3QFDH/x5mNY+v6lZajoegLas32mztGtrhGXGMSFlIPcHefyNaGkWt58R/iQstzbjbd3AluxCCFjiGN3PbgYB9TWf4z8Lz+EfE1xps254vv28pH+sjPQ/XsfcGvKqc8uaqtm/wDgn3+D9hRdDAydqlOKdl6cr/z/ABNH4Y2Fxq3xJ01kVnEEpuZnx90KM5P44H4iui+PNsU8X2Fz/DLZBPxV2/8AihXo3wo0qysfAGn3VtbRJcXcZeeZV+aQ7mxk+w7Vl/GbwneeINDtL/S4WnuNPZ98KDLPG2MkDuQVHHoTXf8AVnHBu2rep8l/bVOrxFFy92Ebw1+evzZrWN/F4t+Ec0ekTrPcyaWbZ0Q4KTeTgofQ5P614l4C8ZDwLrF1dTaZ9seaLySpl8to/mBP8J9OnHSvUfgdpl7YeG9QkvraW3We5BiEqFSwC4JAPbPGfauw1XwN4Z1q7N1qWjW0s7HLSAFGY+pKkZP1rV0qleEKsXaSOCOPwWWYjE4CtFzpSfR6+m6/NbHgfjbxjd/EXXLFLXTzCIx5Nvbq/mM7MRk5wOuBx7V2HxU0qXQvhj4Z0x23fZnCSkdC/lnOPbJavUdH8HeHtAn8/SNJt7ebGPNC7nA9mOSKoeP/AAb/AMJr4fjsUuhazQzCaOQruUnBBBHpg/pSeEqck5Sd5Mcc/wAI8VhqdGHJQptvXV6p69dr+Z4NqeuQH4Z6JodrKDKLme5u0Xsc7Uz+BP6VY+Gfir/hEfF0bXpMdjeKIbjcMbQeVf8AA/oTXcaJ8B1g1GObXdUS5toyCYIIyvmexYngfT9K0fil8NDrcK6v4egUX0EYSW2QAecijA2/7QHGO447AVyrD4iK9rbWNtPQ96ec5RVbwHNeFTmblsk5O63X49LLzt6grB1DIQykZBByCK+bvHD/ANifGi4u5gSkN7DddOowj8fyq94I+JHiLw/qFl4fvYDd23nLAIJkImiBOMKevGeAc+nFeteLvh3onjGRJ9QWaC7jXYtxbsAxX0IIII/DPvXXUf1yl+73TPAwlP8A1cxzWM1p1ItJrtda2/rfS5xvj34m+H9c8BX9lot8zXdwETynhZTt3gtyRjoCOteMvZMmkQX2Dslnkhz2yqof/Z69V174D3EUYk8N6kLgjrDdgK34MOPwIH1rdtvhMz/C3+wryWJdUE7XiSocqkpAXaT3BUAH355xXLVoYivNua1SPcwOaZPleHjHC1G4ynrfdXVr7LRWR0/wzuhd/DfRnEgkKQeUSD02krj8ABXU1812vhH4j6I72+m22q2qh+RaXBVGPr8rYPQV9CaAuop4esF1tg2oCBBcEY+/jnpxn6cV6OFrSnHklFqyPj8+y+lh6rxFKtGanJuyeqvr0NCiiiuw+aCiiigAooooAKKKKAMvQvEFl4gtJJbKQeZC5iniJ+aJwcYPtxwe9alZeheH7Lw/aSRWUY8yZzLPKR80rk5yfbngdq1KAPBL74oeK7bXLgJqCGGK4YCE28e3aG+7nG7GPfPvW7YfGi+udRtoJdJtwksqoxWVsgE44rA1P4ZeLZdWu5IdLEkbzOyOLmIBgWJB5YH86NM+GXi2LVrSSbSxHGkyM7m5iIUBgSeGJ/KgD2XxfPLbeCdbntpXhmi0+d45I2KsjCNiCCOQQe9cpd69qja/ZW+nmaeWLVkgMMt0I45Q2nmTBITIUEhiDvORkdgO51TT4tX0e8065Z1hvIHgkaMgMFZSpIyCM4PpWLc+CbOe6+1RX1/a3Au1u0lhdMpIsHkDAKEEbecEHJ9uKFo3/XUelrev4pWKs+s6hqekPOZrnRvsNxJBqCafb/bZ/MXG0Rfum3KQwJOzOMdOaoPqmt3Pg+21mfXVsE+yAx/Y4o5JLu4LEIjKysOfkG1MHcWGRittfB0MNvELTVdStryOWSVr+N4zLK0mN+8MhjOcL/BxtGMVDJ4GgD6e1hrOp2H9no4iEXkSAu5JeUiWJ/nOT8wxwSBgE0raf12F/X46HQ2LXL6dbNfoqXTRKZlT7qvgbgPbOanqK2ieC1jiluJLl0UK00oUNIfU7QFz9AB7VLVPcS0QVDd2Vrf25gvraG5hbrHNGHU/geKmopblJuLuivZ6fZadD5Wn2kFrGf4IIlQfkBXh/wAe7nf4p022/wCednv/AO+nYf8Aste8V87/ABvYt8QgD0WzjA/Nj/WvPx+lCyPruEk6maqUndpN/p+p6J8Eb03Xw98ljn7JdyRAegOH/m5r0SvJ/gG5Ph3VU7C6Uj8U/wDrV6xW+Ed6ETzOIKap5pXS73+/X9QooorpPDCiiigAooooAia1t3uEuHgiaZBhJCgLL9D1FS0UUDbb3CiiigQUUUUAFFFFABRRRQAUUUUAFFFFABRXOeDfEk3iKxuvtNs8UtnO0DS7cJNgnke/qO3410dABRXy1qdxMniK8uEldZluncSBjuDBjzn1rd0vx74nfWLNZNZuHRp0DK2CGBYZB4oA+hZ54ra3knuZUhhiUvJJIwVUUDJJJ4AA70xry2R4ke4iVpm2RKXAMjbS2F9TtBOB2GayfG3/ACIOv/8AYNuP/RbVxNy8tz4ptIEu0sGXXIo0uIoYw4zphPUrhmJJALbsZA6AChauw7aX9fwsepUV5ld3Oq69JY6HPfWtxCNSurd7q8h3R3YiUFFeOMoHPzMCoKgmMnHGKzfFviOTV/h7Pp8tndWlrHY3HnS6fYzvbytEzxoiOilUjJTedxGF2jkE0L+vzBK7t/W9j1+iq9hcJd6fBPEsipJGGUSxNGwGO6sAwPsQKsU3oyU7q4dKrWWpWOpK7adeW92sbbXMEquFPocHg03VbEapo95YNK0IuoHhMidU3KRkfnXzr4Ga88M/Fy306K4wUvXsp9vCyqGKnI+oyPfFclau6U4q2jPfyzKYZhh601O06aulbdep9K14N8d9Mkh8UWOpBD5Nza+WW7b0Y5H5Mte81j+J/DNh4s0V9N1RW8ssHSRDho3HRh+ZH408TRdak4rczyPMI5djo15/Ds/R/wCW5598Av8AkBav/wBfKf8AoNes1zvgzwbZeCtKls7GWWdppPMlllxljjAGB0AH9a6Kqw8JU6UYy3M85xVPGY+pXpfC3p9yQUUUVueSFFMlljghaWeRY40GWd2wFHqSayf+Ey8Mf9DHpP8A4HRf/FVLlFbs1p0atTWEW/RXNmivAF8b+J/FHxVgi0PUJo7c3eyC2jlxCYVJJLDo2VBJJz7dq9l17xfoXhlV/trUYrd2GViALuw9dqgnHv0rCliYVE5bJdT1sdkuJwc6dJ+9Oavyq7a+X9dTaorh7X4weDrqcRNqEsGTgNNAwU/iAcfjXaxSxzwpLBIskcihkdGyrA9CCOorWFSE/hdzz8Rg8Thbe3puN+6aH0UUVocgUUUUAFFFFABRRRQAUUUUAFFFFAEVtbQ2lukFtGscSDCqo6VLRRQB5ZffBRbvULi4TXjGs0rOENnuK5OcZ3jP5UWPwUW01C3uH14yLDKrlBZ7S2DnGd5x+Vda/wARfCkd+1m+rosyyeUQYpNobOPvbduM984rdTU7GWRUjvbd3Y4CrKpJP50ATTwRXNvJBcxJNDKpSSORQyupGCCDwQR2qncaFpF4rrd6XZTq7b3EtujBm2bMnI5Oz5c+nHSpdU1CLSNHvNRuVdobOB55FjALFVUsQMkDOB61UfxDax3tnatDdB7y4+zxsYSq7vJMucnAI2qRlc88etG49f6/Emk0LSJtJXS5tLspNPQALaNboYlx0wmMfpVhrG0ewNi1rC1oY/KNuYx5ZTGNu3pjHGKnrJvvFGkadqIsru5dZsqHKwSPHEWOFEkiqVjz23EZoEawGBgcCish/FWjx6sNNa6cTmUQbvIkMQkIyIzLt2B/9ndn2rXo8w8gr5t+JULeHfizcXlp8rGWK9j56NwT/wCPA19JV87/ABvUj4hAn+KzjI/Nq87MV+6T7M+y4Ol/woSg9pRd/vR9AzXttbWf2u6uI7e3ChjLM4RVB9SeBS2l5bX9stxY3EVzA/3ZYXDq30I4r5v+InjdvFFxaWFkzDTrCMKvP+ukxhnI9Ow9snvXW/ALUJ/P1fTixNuFSdVP8LZKkj6jH5CnDGqdb2aWncnE8MVMNlrxlSVpLXlt0bt9/X8D2mkZgqlmIAAyST0pa+bvG2r6142+INxo8Ds0cV29raWofanykjcc8ZOM5P0rfEV1Rina7Z5OT5TLM6so86hGKu2+i/A+kQQQCDkHoRRXhXwT8UXlt4hfw5dyu9rcI7Qxuc+VIoyQPQEA5HqB717rVUKyrQ50ZZtls8sxTw83fS6fdM8V+O/iC4W7sdAgkZIDF9pnCniQliFB+m0nHuPSsmw+CGtahpVpepqNlF9ohWUxSB8puGQDgHnmm/HUEePbYkddPjx/33JXtnhW/h1Pwlpd5bbvLktkwGGCCBgj8wa8+NKFfEzVTofYVcfiMpybCzwllzXu7X13/r0PP9F+Hi/DnRtV8Rz3q3mp2tlK1vtTEcR2nnnkk9O3BNeceDPCd58RfEVz9r1Ex7B51zcSZd2yccep+p4/SvePiKSPhzre3r9lYfyryP4PeJNG8Myaxda7fJaJIsKR5RnZjlycBQT6dqmtSpRrQpPSO5plmOxtfLsTjo+9Wuoqyu7aaJW82/xN3WvgPDHpbvoOpTS3qDIiuQoWT2BAG0/XI/nWP8JvFmpaJ4rj8Maizm0nleHyZOtvKM9PTJGCPU5+vsmk+LNA1ybytJ1a1uZcZ8pZMOR/unmvBrE+d8eyYhwddkIx6CU/0p1oU6M4To9XYjLsVi8xwuJwuYq/LHmV1Zp6+nyPpGiiivYPzkKKKKACiiigAooooAKKKKACiiigDl/An9t/2TP/AG1t8jz2+w7v9Z5WTjPt0298e2K6iiigD5W1b/kNXv8A18Sf+hGjSDjWrEjg/aI//QhX0BcfDXwldXMlxNpAMkrl3IuJVBJOTwGwPwot/hr4StbmO4h0gCSJw6E3ErAEHI4LYP40AaPi+CW58E63BbRPNNLp86RxxqWZ2MbAAAckk9q4bUdKc64JdU0e8u9PGsxSzIlo8oaMabsLFQDuUP8AKRg5PGCeK9RooWlx30t6/ieT3OjahLpKR6FpV/aj7TdSQIEaAppxxvt/mX5GkPKIcFeD8u3Fa/iLfdWS6dpOmanaqVha3tI7D/Rr9cJhJ32ZiC7dpDOhwOjDivQaKFp/X9f1fuL/AIP4/wBfl2OIvNQt7vxWunXGnahaafZXazfudIuHW9uc7g/mJGUEasQck5Zhk4A+bt6KKOlg63CvDPj5p5j13StQA4nt2hJ90bP/ALPXudef/GfR/wC0vAElyi5l0+VZxjrtPysP/Hs/hXJjIc9CS+Z9Bw5iVhs0pSezfL9+i/Gx4t4Qt45ItfuJUDG20edoyRnDMVj/AJOa7r4AxZ1TWpf7sMS/mzH+lcL4RDPbeIok5L6NKceyyRuf0U1vfB7xQ2h+LBppgSSHVnjidycNGw3bSO2CW5H0/Hx8NKMalNvzP0jOqVWtg8XCnq7R+5Wb/U+i6+Ub1tRn8f3r6N5/29r+Zofs+fM3b2PGOc19XV4V42+FPiGLxRdar4aj+0wXMxnURTBJIWY5I5I4yTjB6V6OPpznGLir27HxfCWMw+HrVYVpKPMtObb0Zb+FHw/1uy8ULr2u20lmlur+Usx/eSOylScdQME8nvXr8eq6dNfGyiv7V7sLuMCzKZAPXbnOK+ef+Fa/EDVH/wBMs52BPL3N4h/mxNLH8M/Heg6ta3OnWbfaFcNHPbTqQh98ngY654INY0a06MeWNN2/ryPUzLL8LmVd1a2NhzWskrWVvPmZ1Hx+07E2jakkZwVkt5H9MYZR+r11Pwa1tdU8Bx2pULLp0hgbH8Sn5lP64/Cun1vw9b+JvDTaVrmHMiKXki4KSD+Jc9Of04qr4M8GWPgrS5bSxllnaaTzJZZcZY4wBgdAB/WuqNGccS6i2aPn6uZ4erkkcFUv7SEtO1rvW/o2vuLvifTn1bwnqlhCMy3FpIkY/wBoqdv64r5b0a30qa+ktvEFzcWEZUhLiKLzPKcH+JOCR16c5xX1zXC+J/hJ4f8AEl9LfAz2F3Kd0j25G12/vFSOv0xmpxmGlValHdG/DudUcBGpQrtqMtU1un/Xk/Q8NvfD2lLKo0nxTYXqHgmWKW3YH6MuMe+a7b4WeCY18WW+qXOsaXOLTLR29rdLJI7EEAkDoBnP1FaU37P8ZX/R/ETBvR7PIP5PxWBq3wS8S6apm0ya31EJyBE5jk474bj8jmuCOHq0pKbp7dn/AMOfXVc2wONoSw1PGWcla8o23+UUfQdFfN+m+PfGngrVIrXWHvHiTBez1BSSyZx8rNyOhwQcfWvoqzuor6xgu7Zt0NxGssbeqsMj9DXrUMRGteys0fnua5NWyxxlOSlGWzWxNRRRXSeIFFFFABRRRQAUUUUAFFFFAFTTdTtdWsxc2Mokj3FG9UYcFT6EVbrC8LeF7fw1a3HlsZLm8lM1xJngsScAD0Gfx/QbtAHjN38ZdatdZnh+wWDW0U7Jt2vvKhsfe3Yzjvj8K3rP4zabd30FudLuoxNIqbt6nbk4zivNNW8KeITrN6V0LUXUzuQyWrspG48ggYIo0nwp4hGs2RbQtRRROhLPauqgbhySRgCgD6H1fU4dF0W81O6WR4bOF5pFjALFVGSACQM8etYM3jpIJriGTw/rIlt4BdOnlw58g5/e58zGPlPy53/7NbWv6X/bnh3UNL87yPttu8Hm7d2zcpGcZGevTNVLzw79rv725+1bPtWm/YNvl52cud+c8/f6e3Wpd+n9aP8AWw9NP67fpcgk8a6et1sitrye0WSKKa/jRfJgeUKUVssGOd6ZKqQNwyRWffeMZrjVNKi0u2vIrObUntnvZIozDcBIpdyr82/h0HJC52nBIqGP4aWcOrR3gXS5wxhadrzSUmn3Roq/u5S3yAhBwQ2DnBFW4/Bd3HdWcY1dDptjeyXlvb/ZP3gLrICrSb8EAytj5QfUnrVS8hR21/rcWPxvHb+H7HUbmw1C7gksY7y6vIbZY44EYZ3MGk+pKoXIHXtnrAQQCOhrzzUvhWNQ0mCwk1G0mSLTI7ASXmmid4SikeZDlwIic5PDE4HI616Ei7Y1XOcDGaqVru3cXYWqup2EOq6Vdafc/wCpuoWifHXDDH9atUVDV1Zlxk4SUo7o8k8A/CjUdA8SXlzrklvLZm3kt0WNiTMH4JIxwNuePes/Svgzq+lePLS6juoW0u1ukuEm34kKq24KVx97jHp39q9rork+p0Ukrban0L4lzB1Jzcl765Xppp1XnqwooorsPnAooooAKKKKACiiigAooooA4D4o/D+48ZWtrc6U8SX9pldspwJUPbPYg8j6mtzwFoeoeHfBtnpurXAmuYt2drFhGCchAT1wK6OisVRgqjqLdnozzLEVMHHBSacIu60169e2oUUUVsecFFFFABRRRQAUUUUAFFFFABRWF4W8UW/iW1uPLUx3NnKYbiPHAYE4IPocfh+p3aACivm/UfGHiODX7qSLW79fLuXKp9obYMMcDbnGPbGK3dN+LPiabVLWKZ7V45JkV18nGQSAec0Ae50Vl+J9Tm0Xwpqmp2ixvPZ2kk0ayAlSyqSAcEHHHrXOXmt+K7W9v7XztGLWunjUVf7LLgrlwYseb1+X/WZ/4BSbS3HZ/wBfL/NHb0VwQ8Ya5NFe6lCmnpp9neW0DQPE7TSJKkLHD7wFKmY/wnOMcdTq+CpNWkGs/wBs38N55epSxxeXC8ewDGQN0j/L0wOMc9c1Vnez7X/L/Mm+l/66/wCR1FFFFIYUUUUAFFFFABRRRQAUUUUAFFFFABRXnfxl8RX+heF7WPSrqS0nu7jY0sTbXCBSSARyOdvIrU+Fup6hq/w/s7vVp2uJmeRVlflmVWIGT3PBGawVaLqul1tc9WWWVY5fHHtrlcuW3Xrr+DOwooorc8oKKKKACiiigAooooAKKKKACiiigAooooAqabplrpNmLaxiEce4u3q7HksT3Jq3RRQB4vqHwb1641O5ngvdOMcsrOm+SQNgkkZAQ8/jRp/wb1631O2nnvdOEcUqu+ySQtgEE4BQc/jXoT/EXwpHftZvq6LMsnlEGKTaGzj723bjPfOK3U1OxlkVI723d2OAqyqST+dAC39jbapp1xY30fm21zG0Uqbiu5SMEZGCOPSoptHsbi4nmlg3SXFt9kkbew3RZJ29ePvHnrzV2ilZMLmUnhnSI7Ke0S0xBcSRyyp5j/M0YQIc5yMCNOnpz1NWbLSrPT7q7uLNHje8k82Yea5UvjG4KTtUnvgDPfNSXt/badFHJeSeWkkyQodpOXdgqjj1JAzVinvr/X9bB5BRRRQAUUUUAFFFFABRRRQAUUUUAFFFIzBVLMQABkk9qAPDvj3qqTaxpelxnLW0LzSYPdyAB+SZ/GvT/h9p76X8PtHtZV2uLcSMvoXJfH/j1eFfN8RPi93aC8vPygT+XyL+dfS4AVQFAAAwAO1ebhf3ladb5f1+B9tn6WCy7C5d1S5n6u/6uX3C0UUV6R8SFFFFABRRRQAUUUUAFFFFABRRRQAUUUUAcv4E/tv+yZ/7a2+R57fYd3+s8rJxn26be+PbFdRRRQB8rat/yGr3/r4k/wDQjRpBxrViRwftEf8A6EK+gLj4a+Erq5kuJtIBklcu5FxKoJJyeA2B+FFv8NfCVrcx3EOkASROHQm4lYAg5HBbB/GgDV8TQ31z4W1OHSGZb6S1kWAo+1t5U4wex96851mys49KvpNC0W703STbW8d3A9o9sZ5/tMeMKwBZwu8Fx13D5jjj1qq9/YW2p2jWt7H5sLMrFdxHKsGHI56gGl1uHS39f1oeX6j4e068W9ubHwxINEhvbCRLSTSnU7ll/wBIeOBk3YKFAcL8208HrXq6bRGuwbVwMDGMD6dqWiq6W/rZL9A63CiiikAUUUUAFFFFABRRRQAUUUUAFcZ8VteOg+AbswttnvSLSMg9NwO4/wDfIb8cV2deRfH6crpei2/aSaVz/wABVR/7NXNipuFGTR7WQ4eOIzOjTlte/wByv+hV+A/h8Fr/AF+Zfu/6LAT+DOf/AEEfnXs9cV8IbcQfDHTW7ytLIf8Av4w/kBXa0YSChRil6/eVn+JliczrSl0bivSOgUUUV0nhhRRRQAUUUUAFFFFABRRRQAUUUUAFFFFAEVtcw3duk9tIskTjKsvepa5zwb4bm8O2N19puXllvJ2naLdlIck8D39T3/CujoA8vufjVDbatLbPojmGKYxtKLkbtoOM7dvX2z+Nbtt8VvDF1dxW8c9wryuEUtAQAScDNeFayjR65fK6lWFxICCMEfMaNGRpNcsVRSzG4jAAGSfmFAH1BqF/baXptxf38nlW1tG0ssm0naqjJOBknj0rHPjjw+tvcTy3skKW5jEgmtZo2xI21GCsoLKzcBgCPejx9/yTvxB/2Dp//QDWReeGdc1y9iv9Q/s+3eA2qQxwTO4dI7hJnZiUGGIQAKAQO7HPAtWl0G9Ff+uhtzeMdEt5Yo57maNpESRt1pMBCr/dMp24iz/t7am/4SfSDrH9mC5b7R5nk58iTyvMxny/N27N+P4d2fasbWfDWr3M2uW2nNZGx19VW4lndlltj5QiYooUiTKqCAWXBz1qxpGi6xo901jb/YJdKa9ku/tEzu0+HYuU2bdudx4ff0/hoX9f1/VxPRaHT0UUUAFFFFABRRRQAUUUUAFFFFABXjP7QROPD47f6T/7Sr2avGP2gWG7w+ueQLkkf9+q48d/u8vl+Z9Jwt/yN6P/AG9/6Szu/hd/yTPRv+uT/wDoxq6yuU+GKbPhpowP/PFj+bsa6ut6P8KPojy8z/36t/jl+bCiiitTzwooooAKKKKACiiigAooooAKKKKACiiigAorL0LxBZeILSSWykHmQuYp4ifmicHGD7ccHvWpQAUV4JffFDxXba5cBNQQwxXDAQm3j27Q33c43Yx75963bD40X1zqNtBLpNuEllVGKytkAnHFAHr1FZ+v6r/Yfh3UNV8nz/sVu8/lb9u/apOM4OM464rBn8Z32m3Xkaxo0du2IZQ0N55qiB5BGznKLhkLKSvTByGOKN3YHornXUVw9x4p1q88TWMOm2ltHpck93A0kl0Q8whGGcL5Rxhg2MN82OcVW8P+NbzTPCmlS+IrJjDJoxvI7tbrzppzEiFt6lRhm3ZB3Nnvg0LVf15/5D62PQaK5C88aX+kwzLq2hpFeCGOe3ggvfMWZGlSMgsUXa6l1yMEc8N1xatfGNvb3l3Z+KXsNFubeSNU336tHMHUldrMqEtwQVx270E3Olorij8REj1q40+e2shKkVw8cMOppLcKYlLYmjUfu9wBIIZvfB4qnrnjbXrfw1dSx6VbWF5PpUmoWMv23zQFQKX3AxYDrvUhcFW/vCha7f1v/kykru39f1qeg0VBZPcSWML3sccVwyAyJFIZFU+zFVJHvgVPRsSndXCiiigYUUUUAFfPXxo1f+1/Hcem2oLiwiWHC87pG+Y4/NR9Qa951fUodG0a71G6P7q1haVh64GcfU9K+fPhtp0/i74oLqN8PMEMrX9w2OC2cqP++iOPQGvOx0nLloreTPs+F6caDrZjU+GnF29X/wADT5nv3h/Tf7H8N6dpxxutbaOJiO7BQCfzzWjRRXoJJKyPj6k5VJuct3qFFFFMgKKKKACiiigAooooAKKKKACiisPxf4otfCPh2bU7ob2HyQRZ/wBbIRwv6En2BqZSUU5PY1o0alepGlTV5N2SNDU9X0/RrQ3Oq3kNpCP45XC59h6n2FcdefGbwfauViuri6x3ht2x/wCPYryDS9H8S/FTxHcXDzCRl5muJiRHApPCqBn3wo/xNejWPwE0dIh/aWr308mOTbqkQz9CGrzliMRW1ox07s+znk+T5daGYVm6nWMen4P816FfQfit4J8PwSQWVhqm6aQyT3BgjzKxOcn58454Hat2L41+EZMb5LyLnHz2/T34JqH/AIUb4V2483Us46+ev/xNVpfgN4eP+p1LU04/jeNv/ZBT/wBtXYz5eGJaXmv6+Z47qN/azapdSwy743mdlbaRkEkg8ik0/Uba31O1mlkwkcyOx2ngAgmvSD8JPCIu/sp8ZRi43+X5Pmxb92cbduc5z2rUT4B6SG/eaxesvoqID/Wnz43+Vf18xfV+GE7+2qfd/wDajPFnxd8Nat4U1XTLIXrzXdpJDGxhAXcykDJJzjn0rm7v4maOLbUFSz1XV5r20NmJdSniTyYjn5VEa9MnJJyxwMtwK7OH4FeGIx+8u9TlOOczIB+iVq2fwh8G2jBm017hh0M87n9AQP0pcuNlpdIftOGaVnyTnb/gea7Hjb/EvVY7PR7fTre3tf7JUpHJzI0oZdrh88Hd1JABz0IqhP461i40uy0+Q2/2eysmsY18rrEyqrZPqQo5/KvpK28JeHbNQLbQtOjx3Fqmfzxmrtomnq8sdgtsGgby5FhC5jYgNtIHQ4IOPQim8NiJX5qm4LOsnpWVLBJ27v8A4DPmabWvGmtyCSQ6hdusKwhktskIrBwOF/vBST1OBnOKuRal8SI7i4vYk1wSTBVmmFq/zbc7QTt7ZP519L0UfUpveoxf6zYdaQwVNL0X+R8rv4g8U6bb20N21xFBarNHFHPb7VXzFKv1AySGPXpmtzw74+sZIZbLxol9eQy2LafHPFIv+iwsAGCoFBJOFyxLH5R9K+i2VXQq6hlYYIIyDXD+KPhN4e8QxvJawLpd6eRNbKApP+0nQ/hg+9T9XxFLWnO/qXDN8mxj5MXhVT/vR6eeiX6+h03h7UbHUtFt5dM1T+1IlQKbhiu9j/tBQoDe2B9K06+ar/wt40+HOoPeWZuEiX/l8siWjZf9sY4HswxXSaB8d72DZF4j05LpBwZ7U7H+pU8E/TbVxxyvy1lysxxHC1SUPbZdNVYeqv8A5fk/I9xorgdR+MPhu28OHU9PlN7NvEa2WfLkDEE856DAPIyOg71v+DvF1n4y0MahZoYXVjHNAzZaJvr3BHINdUa1OUuWLuzwK2WY2hRderTcYp217+m/z2N+iiitjzjgfjPem0+HFxEpwbqeKHj67/8A2Ssj4C6esXhrUtQKgPcXQi3dyqKD/NzUXx8vlTRNJsN3zS3DTbfZF25/8frofg9ZNZ/DWyZxhrmSSbB9CxA/RQa834sb6L+vzPtH+44YX/Tyf32//ZO5ooor0j4sKKKKACiiigAooooAKKKKACiiigArwn486o83iLT9LVj5VvbecV7b3Yj+Sj8692r5u+LLG6+LF7A5wq+RGD6Axqf/AGavPzCTVG3dn1/B9KM8y539mLf5L9T2/wABaDD4e8F6faQxhZZIlmuDjlpGALZ+nT6AVu3Pn/ZpPshjE+Pk80Ern0OOf896kACqAowAMADtS13RioRUV0PlsRWnXqyqz3k2/vOc8N6n4l1K5uP7c0qDTYIHKDDFmlPqvbb79+3t0dFFUYnytq3/ACGr3/r4k/8AQjVzSNX1JdbsSNQus/aI/wDls394e9ev3fwd8PXd5NctdajG00jOVSVNoJOcDKE4/Gi0+Dvh60vIblbrUZGhkVwryptJBzg4QHH40AdF42uJrXwHrk9rNJBNFYTNHLGxVkYIcEEcg1ymrtbaVqM9nrGvanYwRaekumudQlV7i4ZnMmDn964IjxEcgA8Lg16PRSY77f12/r5nlmoavfeTfSa3qV3p/iCKzgfSbCK4aJZ5TCpYLEDiYmYsrAhsADp1PQeC7a2s/FHiqLzpheNexyPBNeSSkI0ERDBXY8btwDY/h25woA7OiqvrcnpYKKKKQwooooAK5XxB8N/DPiJWa605Le4b/l4tQI3z6nHB/EGuqoqJQjNWkrm9DE1sNPnoycX5Ox43D8A1XUJTNrXmWmxvLAh2ybiDtzzjAOD747ZriNG1vXvhX4quYJrYbvuXFtLkJMoPDKfzw3ua+m6zNd8OaV4ksGtNYs47hMHaxHzxn1VuoNcNTAxVpUdGj6rC8UVpuVLMV7SnJJNaK3npb+ramd4O8caX4zsGlsCYbmLHnWshG+P39x7/AMq6SvmjXvD+v/C7xSl5YyyCFWzbXir8si/3H7Z9VP4V0Fx8b72/8KX1lcWKQalNH5cVzbkhMHhjgnIIGccnn0pU8aopxraSX4muK4XlWnGtlslKlO3XWN/zS+9dTE8e6pN46+Jn2PTT5kayrY2uDkHDYLfQsSc+mK+iNM0+LStJtNPtv9VawrCme4UYz+leOfA3wr513P4lu0+SHMFpkdXI+dvwBx+J9K9tqsFBtOtLeRhxNiKcJ08uofBRVvn/AF+LYUUUV6B8gFFFFABRRRQAUUUUAFFFFABRRRQAV82fFEbfjBfs3AMluc+3lR19J187/G60Nv8AELzscXNpHID9Mr/7LXnZiv3KfmfZcGySzGUX1g1+Kf6H0RRVXTLsX+k2d4pBFxAkoI77lB/rVqvQTurnx8ouMnF9AooopkiBgxIBBKnBweh60tYkNhf/APCYXN8JjHYmJUMZGfNbHX2xnr+HrW3QBz+teMtO0O/+yXUVzJJtDHykUgZ+pFSW/jHQp7dJft6RbhnZJwy+xFcJ8Qv+Rsf/AK4p/KuXoA98hnjuYEmgdZI5BuV1OQRUd3fWmnw+df3UNrFnG+aQIufTJrO8J/8AIp6f/wBcR/OmX8d42pWeopp0s624miNurx7zuIxIu5gvRe5Bw34UAaM2qafbNCtxfW0RuP8AUh5lXzP93J5/Clk1GyivVs3vLdbpl3LAZVEjD1C5zXJ6zpGrXFrLBZaebZJrLy1SzaDAbLHZI0g3beRjYOpPI61o21jd21xPbzaWLtbi6W4Fy0iBUAC9ed25dvGAR05FAGjo+u2er28RjngW5aISPbLMGeMH1HX8cVbtNQs7/wAz7DdwXPlttfyZQ+w+hweDXMnw7evoml2kcS280dtPFK4Yfu2eMgdOuWx0zVvw5pd1bXjXF6t8jJbrbgXDW+0gHPyiFRwOxbB56UAdHRRRQAUUUUANkjSWNklRXRhgqwyD+FfK3j2LTYPHmrRaJtFos5CqgwqtgbwvsG3AV9MeJdQOk+FtTv0ba9vaySIf9oKcfrivn74YeD7TxlrWoQ6oZPIhtSwdGwVkYgKffHzH8K8vHp1JRpR3Z95wnKOEpV8fVk+SKSt6/qtLep7F8K9T0q98BWFtpMnz2cYjuYjwySHliR6EkkH/AANdlXzNLHr3wm8bgq27byrDIju4c9D/AJ4NfROha1aeIdEttU0990Fwm4A9VPdT7g5Fb4Stzx9nJWlE8riDLPq9T65Rlz0qrun5vWz/AE/4BoUUUV2nzAUUUUAFFFFABRRRQAUUUUAFFFFABXkHx70lpLHS9XjXiJ2t5T/vDcv/AKC3516/WZ4j0SDxH4dvNKuuEuYyobGdjdVb8CAawxFP2tJwPUyjG/UcdTxD2T19Ho/wOZ+EOuprHgG2ty4Nxp5NvIvcAcofptwPwNdzXzj8N9YufBfxGOm6j+6juJTZXSE8K+7Ct+Dd/Qmvo6ssHV9pSSe60PQ4kwP1THSlD4KnvL57/j+FgooorsPmwoqjHq1s+sy6YzbLlFDqpP31I6j6elXqAKtzplheyCS8sba4cDAaWFWIHpkiof7A0f8A6BNj/wCAyf4Vx/jLxRq+l+IDa6fdCGJYlOBGrZJ75INVLf4lahHbok9pDNIow0mSu73wOKAPSY40ijWOJFRFGFVRgAegFOqnpF+dT0i2vSnlmaMMVBzg1FqOpTW11b2djbJc3U6s6rLN5aKq4ySwVj3AxigDRorDl1693MltpW+SCBZrqOWcIYwc4VcAhm+U+g6c1AviqWXzLiDT1ewjniiac3GHIkCEME2843jIJHtmgDo6K5DTtQuotTlu9URi0l/JaoI76Ro40VWb/V7QvG3rjJzWlYeILm7vrGKfTkgh1CJ5oJBcbmCqARuXaMEgjgE/WgDdooooAKKKKAON+LN19l+GWqYOGl8uIfjIuf0zXJfAC2C6frV1jmSWKMH/AHQx/wDZqsfHrVfI0DTdLQ/NdTmZsf3UGMfiXH5VtfBrS2074eQzSLte+me45644UfoufxrzX7+NX91f1+Z9pH/Z+GJX/wCXs9Plb/5Fml8Q/B0fjDwy9vGqi/t8y2jnj5u6k+jdPrg9q8n+E3jF/DHiCTQ9XdobK7k2ESceROOMn0zjafw9K+g68V+M/gbynPijS4vlchb6NR0PQSfj0Pvg9zTxdOUJKvT3W/oTw/jKWIpSynFv3J/C+0v+D08/U9qorzn4ReNz4i0U6VqMu7UbBAAzHmaLoG9yOAfwPevRq7aVSNWCnE+Zx2Dq4HESw9Xdfj2fzCiiitDjCiiigAooooAKKKKACiiigAooooA8F+OHh46f4kttctlKxX67ZCvaVBjP4rj/AL5Nes+BfEH/AAk3g2w1FmzOU8u4/wCui8N+fX8apfFDRf7b+H2oRou6a2X7VFx3Tk/+O7h+NcH8Bdb23GpaHK3DqLqEZ7jCv+hT8q81fucXbpL8/wCvzPt6n/Clw+pvWdB2/wC3f+Gt/wCAntVFFFekfEFGPSbZNZl1Nl33LqEViPuKB0H19avUUUAef+MvC+r6p4gN1p9qJomiUZ8xVwR2wSKwP+EG8Rf9A7/yPH/8VXr9FAGdoFnNYeH7O1uQFliiAcA5wfTNFzo4uWjkF9dRXETOY7iMpvVWPKYKlSvTqCeBzWjRkAgE8noKAMebw5DJjy729gLQiGZklBM6DPDFgTnk8jB561IPD1mtpPbRmRIp5o5iqkfKU24A46fIP1rUooAzf7CtdysWkbbdPd4JGC7KQQeOmGNY+kaNfR65azTR3cNrYwyRxpcTxSKN2ABHsG4qAOr89K6eKaOeJZIJFkjb7rowIP4in0AFFFFABRRRQB4F8eLkyeM7K3z8sVip/FnfP6AV7R4XthZ+EdIt1GPKsoV/HYM14X8biT8Q+e1nHj82r6BsFCabbKvRYkA/IV5uG1xFRn2mde5k+Cguqb/L/MsVHc20N5ay211GssMyFJEYcMpGCDUlFekfGJtO6PmjXdM1P4WeP457Fm8pHMtpI33ZYjwUb8OD+fcV9CeHdftPE2g22qWDfu5l+ZCeY2HVT7g/41mePvCcXi7wtPabB9shBltH7rIB0z6Hofz7V5N8GPEz6L4ok0O9YpBqB2qr8bJ16fTIyv1215cL4WvyfZlt5M+7xHLn2VvE2/f0V7396Pf836p9z3+iiivUPgwooooAKKKKACiiigAooooAKKKKAEdFkRkdQysMEEcEV82eFi3g/wCMkFrIdqQ3z2bE9CjEoD9OQa+lK+cfi7EdO+KU91CNrSJDcL9QoGfzWvNx/uqNRdGfacJv2tSvg5bVIP8ADT9WfR1FMhlWeCOVOVkUMv0IzT69I+MaadmY8Wsyf8JZPpDws6eUsqSqOE45De3ofWtimJDHHLJIiAPIRvbucDAp9Ajyn4hsT4qYEkhYUwCelZVv4l1m1t0gg1GdI4xhV3dB6V6D4i8EDXtV+2i/NuSgUp5O/p3zuFZX/Cr/APqL/wDkr/8AZ0Adb4dupr3w7ZXFy++WSIFmI6ms/wAS3slpPBLatGHS2unV9isVZUBGCQcc/n3rX0uwGmaVb2SuZBCgXeRjd74pl7pNtdafPbxxRQtLHIqyLEMoXHzN9T1PrQBz0+oarZ/6nUmvt1kL5gYo8qFZdyjao+VlLYzk8daaJrnV9X0jUBqEyW017N9mjjSPaY1jYA5KkndtPfo3HY1vLosVrp0sGkpa2U0ygSTpbD5+xJAIycZ5JP41Yj0qyjsbW0a2ilitQvkiRA2wqOCM9D70AcjZX2oaNoVhcxXLXEc0U+LVo1CqVV3Uggbs/LzknOe1WL7VNT0+3Cw6r9se4tVnWVoo/wByfMReAoAKkOcZyeOtdWtpbIsQS3iUQkmMBANmeDj06n86ih0nTreOVINPtYkmYNIqQqA5znJwOTmgCnpUt3Hq1/YXd292sKxSRySIisN+7K/KAMfLxxnnvWvTFhjWZ5VjUSOAGcKMsB0BPfGTT6ACiiigD51+Np/4uIf+vSL+tfQln/x4wf8AXNf5V85/EB/+Eg+MVzawfOHuobNQPUBUI/76zX0kBgYHSvOwmtarLz/zPtOIf3eX4Gk91G/3qIUUUV6J8WFfPvxd8NTeHPF6a9pwaK3vZBMsiceVcDk/TONw/H0r6CrM8RaDaeJdBudLv1/dzr8rAcxt2Ye4Nc2Jo+2p8vXoe3kmZvLcWqj1g9JLy/4G/wCBm+BPFsPjDwzFejat3H+7uoh/A4HUex6j8u1dLXzV4Z1i/wDhh4/lttSVhCr+RexjkOnUOvrjO4exI719JQTR3NvHPbuskUih0dTkMCMgipwtf2sLS+Jbm+f5WsBiFOjrSnrF/p8unlYfRRRXWfOhRRRQAUUUUAFFFFABRRRQAV4j8fNL2alpWqqP9bE9u59Np3L/AOhN+Ve3V558bbH7X8PTOFybO6jlJ9Acp/NxXJjI81CR9Bw5iHQzSk+7t9+n5m78OtV/tj4faTcs26RYBDIe+5Ds5+uM/jXTV5f8CL8TeEb6yLZe2uy2PRXUY/VWr1CtMPLnoxl5HJnOHWGzCtSWyk/ueq/BhRWHB/af/CZXXl4/s3yk8zd/z028bffGM+34VuVueUZWo+JdI0m6+z6heCKXaG2iNm4/AGrNvq+n3Vuk0F7C0bjKneB+h5FeafEL/kbH/wCuKfyrl6APfgQygqQQRkEd6a0wSaOIq5LgkEISox6noPxrL8KHPhPTs/8APEVn+Ig2o3NtDbRyeY9veRKsiFCW2Ad+xPQ9DQB09FcFrExvYfNNlepDHZwxP51s8WW8+PKjcBk/T8DUs1ullHe6tpOnyWtpYyRXEMDQGDewDCXajAEZVgOgyR+NAHZG6hF6toX/AH7RmQJg8qCATnp1IqauHbQXtbi2lhsgdSm06cC7WDJW5YhuXA+XqwBJHpVS30WWW2KLA3lPJbLPbxaZLbBiJVJZiztvYDOWHGO9AHodFMhhitoEht41iijUKiIMBQOwFc3468aReCNGhvZLNrySaYRRxK+wdCSS2Djp6VM5xhFylsb4fD1cTVjRoq8nsjp6pazqcWjaHe6lP/q7WFpSM/ewMgfieKx/BXjfT/GumPcWamC4hIE9s7ZaMnoc9wcda5b45a4bHwpbaVE2H1GbL/8AXNME/wDjxX8jWNStFUXUi9D0MJllapmMMFVjaV7NeW7/AAOC+EunS+IPiUNRuv3gtd95MxH3nPA/Hc2fwr6LrzX4IaF/Z/g+XU5FxLqUpKn/AKZplV/XcfxFelVlgqfJRTe71O/ifFrE5lKMfhh7q+W/43CiuT8P/Erw94l16XSdOlmFwm4xtKgVJwOpQ5yeOeQDiusrqhOM1eLueDiMNWw0+SvFxe9mFFFFWc55l8Y/BX9s6P8A27p8eb2wT98qjmWHqfxXr9M+1ZnwV8a+fAfDGoyfvIgXsnY/eXq0f4dR7Z9BXsBGRg8ivm74h+HpvAXjqK90ctBbzP8AarNl6RsD8yfgccehFeZiYuhUWIht1PuclqwzXByynEP3lrB9mun9dLn0jRWb4d1mHxD4dstVt+Euog5X+63Rl/Agj8K0q9JNSV0fE1KcqU3Cas07P1QUUUUyAooooAKKKKACiiigArJ8U6T/AG74U1LTVAL3Fuyx5/v4yv6gVrUUpJSTTNKVSVKpGpHdNNfI+fvgjrB07xpPpk3yrqEJUA8fvEyw/TeK+ga+avF8L+C/i9LdW6lUiu0vYgOAysQxUe2dy/hX0lFKk8KSxMGjkUMrDuCMg15+BbUZUn9ln13FdONSrRx1ParFP5r/AIDX3D6Kr/2hZ/8AP3B/38FWK9E+NMrUfDWkatdfaNQsxLLtC7vMZeB9CKqf8IN4d/6B3/keT/4qsrxV4zv9E1o2dnBbMixqxaVWJJP0IqG3+JsP2dPtWnv52PnMbjaT7Z5oA7a2tobO1jt7ZBHFGoVFHYUxrG3bUEvWVjOiGNWLthQeuFzgE+uM0mnXyalpsF5CrKkyBgrdRVDVtW/szVrMTS7LV4ZmkULkuw2BQO+ctgAdc0AaV1aw3sHk3Kb49ytjJHKkEdPcCm3djBfKi3Ss6I4cKHYAkdMgH5h7HIqjd6+tlGJJ9OvhGsYkncIu2BT/AHju5I7hd2Kjm8T20VyUFpdSQC4W2N0ip5fmMQNvLbuCeTjHvmgDaorDHieGaWKOO0u0S5Z0trllTy5Cqkkj5s4+U9QM9uKgs/E6x6TayXUNzdSLaRz3c0KLthDDO5uR6E4UE47UAdHXF/FrT47/AOGuol0DSW2yeMn+EhgCf++Sw/GuzBDKCpyCMg1X1Kwh1XSrqwuhmG6iaJ8ejDH9azqR54OPc68FX+rYqnW/lkn9zPmP4e+J/wDhFPGFteysRaSfubkD/nm3f8Dg/hXT/He5aXxjYRg5iXT1dCDkHc78j8hXEeJvDOoeFNZk0/U4yCDmKUD5Zk7Mp/zipPEGt/21p+ieaxa4srL7JIT3CuxT/wAdIH4V857SUaUqMj9oeEpVsfRzGjqmmm12tdP8180fS/hsWuleB9KEkscNvDYxFpHYKo+QZJJ9+a5TxJ8Z9A0hXh0jdq10OB5XyxA+7nr+AP1rybR/CvjDx1BG8IuLi0hAjjmu5iIkAGAFz1x/sg16N4e+BWn2wWXxJeveydTBbkpGPYt94/htr0o1sRVilSjZd3/X+Z8TWyzKMBVlUzCvzyu3yx/X/h4nE/CzSb3XfiNDqdvAILa1la4neNSETOcIPqTjHpn0r6Oqtp+m2ek2SWem20Vrbx/djiXaB7/X3qzXZhqHsIct7s+dzrNf7UxKqqPLFKyXl5hRRRXSeIFcB8ZNE/tXwFLdRrmbTpBOMDnZ91h9MHP/AAGu/qG8tIr+xntLld0NxG0Ug9VYYP6Gs6sFUg4PqdmBxTwmKp4hfZaf+f4HlfwH1zz9Hv8ARZWy1rIJ4gf7j8EfgRn/AIFXrVfNfgS+fwV8VEtb9tiCZ7C4PQYJwD9NwU/SvpSuXAz5qXK91oe9xVhVRzB1ofDUSkv1/wA/mFFFFdx8qFFFFABRRRQAUUUUAFFFFAHinx90zbdaRqqj76PbOfTB3L/6E1eg/DTU/wC1fh1pMxOXih+zt6gxkqP0AP41l/GbTvt3w6nmAy1lPHOPXGdh/R8/hWN8BdS87w9qenM2WtrlZVHs64/mh/OvNj+7xrX8y/r8j7Wr/tfDUZdaU7fJ/wD7S+49D/4R3TP7c/tb7OPtOP8AgO7+9j+97/1rUoor0j4o808daRqN14laa1sLmeNolAeKJnHH0Fc3/YGsf9Am+/8AAZ/8K9vooAy/DUEtr4asYbiNo5EiAZGGCPrUd9oC6pcwy6jMsohEqqFi2ld5G0g5OGXHX+Va7MqKWdgqgZJJwBUUd3bSuEiuInY9FVwSaAOc1TwfLqwJvL62ndoBE0k9kJGRhn54/mwhOeeDnHaqt5YXZ1JNOtDcfZzqEdyyPZNtADB2YTZ27cg/Ljdn2rs6KAOMtbC8l1jT7KM3H2OwkmIE1k0flKUZQPMztk+9xt7dasv4Ht2NuSbGdkt47eRruwWckIMBkyfkP13DpxXVUUAIqhVCqMADAAFLRRQBx3xQ8NJ4j8E3W1C13ZKbm3KjJJUcr+IyMeuPSvB/BvgrUvGepmCxAjtoiDcXL/djB/m3XA/lX1TTIoIoFIgiSMMxYhFAyT3471xVsHGtUU38/M+nyziOvl2Dnhqau27xb+z306/5jLS1isbKG0tl2QwRrGijsoGBU1FFdux8y25O7CiiigQUUUUAFFFFAHhXxy8NfY9ZttftkxFejypyB0lUcH8VH/jpr0z4c+JP+En8FWl1K+66hH2e59d6jr+Iwfxqfx7oq6/4H1OyK7pBCZYeOd6fMuPrjH4mvK/gPqzQeINQ0p2/d3MAmUH++hxx9Qx/KvM/g4vTaf5/1+Z9vf8AtPh983x0H/5L/wAN/wCknu1FFFemfEBRRRQAUUUUAFFFFABRRRQBR1vTU1jQb7TpMbbqB4snsSCAfwPNeCfCDVG0L4if2feZiF4j2rq38MgOVz75Ur/wKvomvnH4q6e3hz4nPe2J8prjy76IgfdfJyf++lJ/GvNxqcHCsujPtOGJRxMMRls9qkbr1X9J/I+jqKr2F2L/AE22u0GFuIUlA9AwB/rVivSTvqfGSi4txfQKKKKBGB4548GX3/bP/wBGLXmeh31nYzzPfRzEsn7mSAgPE4IIYE16l4ts7jUPC15bWcZlmcIVQdTh1J/QGvMf+ET13/oGT/kKAPVPDmoyat4ftb2fHmSBgxAxnDFc47Zxmsm71GWz8ZXEFsi+bdRW8ayyqTHHzJy2McnoBkZNaHhKzuNP8LWdteRmKZA5ZD1GXYj9CKu3GlWV21w1xBvNwixyncRkKSV6HggknI5oAxZPElzDr0duTDLbPcm3KxW0p2nB5M3+rzkcp1HrVd/E+pW9tZ39wlq9peRSzLCkbCSNUjLgFixBJwMnAx79a2x4e01bxbkQyeYsvnKPPk2K/wDeCbtoJycnHPesq38MTDVluJYrWKKES+WqTSyLIXGP9U3yxjk5Ck59qAKesajqht3stSa0dZbZLkNBEyFT5yDbyxz168Z9BVxPEt7LrTQw2zvbLdm2ZFsZ2OAcGTzgPLAB/h9O+eKXTPCu28ll1KGJYzAsCQxXc0wIDhs5fBUZAwo4HrWwdFsTqBvBE6ylt7BZnCM3TcUB2lvfGaAKWp311bavKtjbieZbAyIhZvmPmAYxnHfPTJ6ZqpBr2oTrFaxyWjXk1yYRI9tLEIwELkvCx3A8YA3YPXNXv7CWXUpPtMaNYraC2jQys7t824lieRggYOSe/FTDw7potmhMMjBpBIZWuJDLuAwD5hbeCBx16UAZcWtavdal/ZsBsYriITCaZ4nZCUKYKqGBwQ/Qng9zjnb0e+bUtGtbyRAjzRB2VTwD3xSWuj2NnJG9tBteNHRWLsSQxBbJJ5JIBycmrFraw2VrHbWqbIYl2ouScD6mgCWiiigAooooAKKKKADrXzb4AP8AZHxmtrdOFS6ntiPUYdR+uK+kq+bbQ/Zfj3hen9uuo+jSkf1rzcbpKnLzPtOGPfoYyl3h+j/zPpKiiivSPiwooooAKKKKACiiigAooooAK8O+P1ts1jR7rH+sgkjz/usD/wCz17jXl/x2043HhKyv1GWtLra3srqQf1Va48bHmoSPouGaypZrSb63X3p2/E6/wBc/a/h7okuc4s0j/wC+Rt/pXQ15J8EL/UbrTntkZTYWmVkVzyGJLKV9+fyH0r1utqEualF+R5+a0XQx9am+kn917r8DK1HxLpGk3X2fULwRS7Q20Rs3H4A1Zt9X0+6t0mgvYWjcZU7wP0PIrzT4hf8AI2P/ANcU/lXL1seae/AhlBUggjII71Xlvo4tQt7NlYyXCO6kAYAXGc/99CqPhQ58J6dn/niKz9ft73VL61OmrNFsiuEdmjZN2Cny7v4d2CA3pyKAOnorgLzTp7rUd8ds9pE8cIsc6XJLJbAAZVWV1WIhs53DB9SOKtT6WIdMu5n0vzZrjUZPOeS2kl/d72IJjXDSJ0+Ucc5oA7WivPBp0h0mJb2zmdYZ7gQxNpckkG0kFcQhi8f+y2cLzzXdab5n9l2vnRNDJ5K7o2cuUOOhY9cetAFmiiigAooooAKKKKACiiigAooooAKKKKACvm5F3fH0g/8AQeJ/KavpGvm3TsS/HonnB12Vh/39Y152O3h6n2nC2kcU/wC4/wBT6Sooor0T4sKKKKACiiigAooooAKKKKACsrxPoqeIvDF/pUhA+0xFUY9FccqfwYA1q0UpJSVmaUqkqVSNSDs07r1R86fCvxE3hHxvLpuq5ggvG+zTh+PKlUkKT9Dlf+BZ7V9F14/8WvhvcX9y/iLw/A00zAfa7aMZZscb1Hc46j8fWuX8P/GXxDoVrHZX0MOpRQjaDPlZQB23Dr+IJryqVb6o3Sq7dGffZhl64ghHH4Frntacb21X9dd1Y9z1Hw1pGrXX2jULMSy7Qu7zGXgfQiqn/CDeHf8AoHf+R5P/AIquR0r46eH7vauqWl3p7nqwAlQfiMH/AMdrqrT4h+Er1QYfEFkuf+e0nlf+h4rvjiKU/hkj5Gvk+YYd2qUZfddfero37a2hs7WO3tkEcUahUUdhUtZMfivw7Nnyte0x8ddt5GcfrT/+El0L/oNad/4Fp/jWvPHucTw1dbwf3M06KqLq2muwVNQtWY9AJlJP61ZR0kUNGyup6FTkU009jKUJR+JWHUUUUyQooooAKKKKACiiigAooooAKKKKACiiigAr5u0Ztvx5yf8AoNTD/wAiNX0Pqep2ej6bNf6lOkFtCu53c/p7k9h3r55+HUUniL4vQ32whfPmvZO+0ckf+PMo/GvNxjvOnFb3PteGouGFxlaS93kav52Z9IUUUV6R8UFFFFABRRRQAUUUUAFFFFABRRRQAVl6p4Y0PWsnVdKtLpj/AMtJIhv/AO+uo/OtSik4qSszSnUnSlzU20/LQ841T4IeGL0lrB7vT27COTen5Nk/rXM3PwAulf8A0TXoXX/prbFSPyY17bRXLLB0JbxPcocSZrQVo1m152f4tXPA5PgN4hC/utS0xjnozyD/ANkNR/8ACh/E/wDz/aT/AN/pf/jdfQFFZ/2fQ7HauLs0X2l9x89y/AzxVGPkuNMl4zhJ3/qgqk/wt8d6QTNZWjEjkvaXShvyyCfwr6RoqXl9HpdGkeMcxWk1GS81/kz5vW1+KlvJgHxISBj/AFsrj+ZFCX3xTibKp4lJ6fNbysP1WvpCij6j2myv9ar/ABYWm/kfNreIPiarFWfXQQcEG2fj/wAdo/4TD4lWgAe41VOcjzbPOfzSvpKil9Sn0qMf+s1B/Fg4fcv8j5u/4Wt48tSWuL8kZxiWyjUD8lFX7P45+JoGH2q20+5XvmJlb8w2P0r6C61nXnh7RtQUi+0mxuM/89bdG/mKPqtdfDVYf29ldTSrgYr0t/kvzPM9O+Ptk+Bq2izw+r20ok/Rtv8AOulg+MPguaLfJqUkDf3JLWQn/wAdUj9a5f4n+B/DmkaG19pulx205z80cjgf985x+leJ1zVMViMPLlk0/wCvke5gsiybN6Pt6EZwXa/+fMfR8nxm8HJjbd3Emf7ts3H54qnJ8dPCyY222pyf7sCcfm4r58rX0Wxt7tHNxHvIcAfMR/Ks1j68nZWOyXCOV0Y80uZ/Nf5I9dn+Pmkr/wAe2jXknH/LSRE/lmqcn7QKBv3XhtmX1a9x/wC0zU3hj4e+F9RkQXmmeYC7A/6RKOAuezV2Mfws8FxgBdCiOOm6WRv5tXXFYyaupL+vkfO158N4Wfs5UJt+v/2yOG/4aC/6ln/yf/8AtdIf2gjg48NYPbN//wDa672T4ZeDZGy2g24OMfKzr/I00fC/wYDn+wof+/kn/wAVVezxv86/r5GP13hn/oFn97/+TPEvEni/X/iXq1np8VttXfiCytySCx/iYnqcd+gGenNe0/D/AMA2vgrTSzMJ9SuFH2icdB32L7D9evoB0GmaBpGirjSdNtbPIwWhiCsw9z1P41oVrQwvJL2lR3kcWaZ4sRQWDwcPZ0l06v1/rfcKKKK7T5gKKKKACiiigD//2Q==)"
   ]
  },
  {
   "cell_type": "markdown",
   "id": "JfIew_dgmpCQ",
   "metadata": {
    "id": "JfIew_dgmpCQ"
   },
   "source": [
    "## **`Library.Week.10 - generative.ai`**  "
   ]
  },
  {
   "cell_type": "markdown",
   "id": "kRoOscDyqoCO",
   "metadata": {
    "id": "kRoOscDyqoCO"
   },
   "source": [
    "####=> `action.1: get an openai account; get an API` - https://learn.deeplearning.ai/  \n",
    "####=> `action.2: take course 'ChatGPT prompt engineerings for developers`  \n",
    "####=> `action.3: perform generative.ai assignment`  "
   ]
  },
  {
   "cell_type": "code",
   "execution_count": null,
   "id": "EYqsMP9on_af",
   "metadata": {
    "colab": {
     "base_uri": "https://localhost:8080/"
    },
    "id": "EYqsMP9on_af",
    "outputId": "4f29c8a1-edc5-475b-b4cc-1195d0cd06a5"
   },
   "outputs": [
    {
     "name": "stdout",
     "output_type": "stream",
     "text": [
      "Looking in indexes: https://pypi.org/simple, https://us-python.pkg.dev/colab-wheels/public/simple/\n",
      "Collecting openai\n",
      "  Downloading openai-0.27.7-py3-none-any.whl (71 kB)\n",
      "\u001b[2K     \u001b[90m━━━━━━━━━━━━━━━━━━━━━━━━━━━━━━━━━━━━━━━━\u001b[0m \u001b[32m72.0/72.0 kB\u001b[0m \u001b[31m2.9 MB/s\u001b[0m eta \u001b[36m0:00:00\u001b[0m\n",
      "\u001b[?25hRequirement already satisfied: requests>=2.20 in /usr/local/lib/python3.10/dist-packages (from openai) (2.27.1)\n",
      "Requirement already satisfied: tqdm in /usr/local/lib/python3.10/dist-packages (from openai) (4.65.0)\n",
      "Collecting aiohttp (from openai)\n",
      "  Downloading aiohttp-3.8.4-cp310-cp310-manylinux_2_17_x86_64.manylinux2014_x86_64.whl (1.0 MB)\n",
      "\u001b[2K     \u001b[90m━━━━━━━━━━━━━━━━━━━━━━━━━━━━━━━━━━━━━━━━\u001b[0m \u001b[32m1.0/1.0 MB\u001b[0m \u001b[31m23.1 MB/s\u001b[0m eta \u001b[36m0:00:00\u001b[0m\n",
      "\u001b[?25hRequirement already satisfied: urllib3<1.27,>=1.21.1 in /usr/local/lib/python3.10/dist-packages (from requests>=2.20->openai) (1.26.15)\n",
      "Requirement already satisfied: certifi>=2017.4.17 in /usr/local/lib/python3.10/dist-packages (from requests>=2.20->openai) (2022.12.7)\n",
      "Requirement already satisfied: charset-normalizer~=2.0.0 in /usr/local/lib/python3.10/dist-packages (from requests>=2.20->openai) (2.0.12)\n",
      "Requirement already satisfied: idna<4,>=2.5 in /usr/local/lib/python3.10/dist-packages (from requests>=2.20->openai) (3.4)\n",
      "Requirement already satisfied: attrs>=17.3.0 in /usr/local/lib/python3.10/dist-packages (from aiohttp->openai) (23.1.0)\n",
      "Collecting multidict<7.0,>=4.5 (from aiohttp->openai)\n",
      "  Downloading multidict-6.0.4-cp310-cp310-manylinux_2_17_x86_64.manylinux2014_x86_64.whl (114 kB)\n",
      "\u001b[2K     \u001b[90m━━━━━━━━━━━━━━━━━━━━━━━━━━━━━━━━━━━━━━\u001b[0m \u001b[32m114.5/114.5 kB\u001b[0m \u001b[31m11.6 MB/s\u001b[0m eta \u001b[36m0:00:00\u001b[0m\n",
      "\u001b[?25hCollecting async-timeout<5.0,>=4.0.0a3 (from aiohttp->openai)\n",
      "  Downloading async_timeout-4.0.2-py3-none-any.whl (5.8 kB)\n",
      "Collecting yarl<2.0,>=1.0 (from aiohttp->openai)\n",
      "  Downloading yarl-1.9.2-cp310-cp310-manylinux_2_17_x86_64.manylinux2014_x86_64.whl (268 kB)\n",
      "\u001b[2K     \u001b[90m━━━━━━━━━━━━━━━━━━━━━━━━━━━━━━━━━━━━━━\u001b[0m \u001b[32m268.8/268.8 kB\u001b[0m \u001b[31m26.6 MB/s\u001b[0m eta \u001b[36m0:00:00\u001b[0m\n",
      "\u001b[?25hCollecting frozenlist>=1.1.1 (from aiohttp->openai)\n",
      "  Downloading frozenlist-1.3.3-cp310-cp310-manylinux_2_5_x86_64.manylinux1_x86_64.manylinux_2_17_x86_64.manylinux2014_x86_64.whl (149 kB)\n",
      "\u001b[2K     \u001b[90m━━━━━━━━━━━━━━━━━━━━━━━━━━━━━━━━━━━━━━\u001b[0m \u001b[32m149.6/149.6 kB\u001b[0m \u001b[31m16.0 MB/s\u001b[0m eta \u001b[36m0:00:00\u001b[0m\n",
      "\u001b[?25hCollecting aiosignal>=1.1.2 (from aiohttp->openai)\n",
      "  Downloading aiosignal-1.3.1-py3-none-any.whl (7.6 kB)\n",
      "Installing collected packages: multidict, frozenlist, async-timeout, yarl, aiosignal, aiohttp, openai\n",
      "Successfully installed aiohttp-3.8.4 aiosignal-1.3.1 async-timeout-4.0.2 frozenlist-1.3.3 multidict-6.0.4 openai-0.27.7 yarl-1.9.2\n"
     ]
    }
   ],
   "source": [
    "#!pip show openai\n",
    "!pip install openai"
   ]
  },
  {
   "cell_type": "code",
   "execution_count": null,
   "id": "VdE-VvaXnGjg",
   "metadata": {
    "id": "VdE-VvaXnGjg"
   },
   "outputs": [],
   "source": [
    "# Global functions\n",
    "import openai  #OpenAI's gpt-3.5-turbo model and the chat completions endpoint.\n",
    "import os\n",
    "from dotenv import load_dotenv, find_dotenv #helper function for prompting\n",
    "_ = load_dotenv(find_dotenv())\n",
    "openai.api_key = \"sk-DcAA6Ckvt\"             #each student to get their own\n",
    "openai.api_key  = os.getenv('OPENAI_API_KEY')\n",
    "print(\"open.ai.ready\")\n",
    "\n",
    "\n",
    "def get_completion(prompt, model=\"gpt-3.5-turbo\"):\n",
    "    messages = [{\"role\": \"user\", \"content\": prompt}]\n",
    "    response = openai.ChatCompletion.create(\n",
    "        model=model,\n",
    "        messages=messages,\n",
    "        temperature=0, # this is the degree of randomness of the model's output\n",
    "    )\n",
    "    return response.choices[0].message[\"content\"]\n",
    "\n",
    "#=> purpose: \n",
    "def get_completion(prompt, model=\"gpt-3.5-turbo\"):\n",
    "    messages = [{\"role\": \"user\", \"content\": prompt}]\n",
    "    response = openai.ChatCompletion.create(\n",
    "        model=model,\n",
    "        messages=messages,\n",
    "        temperature=0, # this is the degree of randomness of the model's output\n",
    "    )\n",
    "    return response.choices[0].message[\"content\"]"
   ]
  },
  {
   "cell_type": "markdown",
   "id": "QHWm5JLWqrAV",
   "metadata": {
    "id": "QHWm5JLWqrAV"
   },
   "source": [
    "# `<end.library.setup` ~ `library.setup.end>`\n",
    "--------------"
   ]
  },
  {
   "cell_type": "markdown",
   "id": "khVZ7DoGDiBn",
   "metadata": {
    "id": "khVZ7DoGDiBn"
   },
   "source": [
    "# **`M.1.Introduction to data mining`**\n"
   ]
  },
  {
   "cell_type": "markdown",
   "id": "X-de8q4f_q13",
   "metadata": {
    "id": "X-de8q4f_q13"
   },
   "source": [
    "## **`exercise.M.1`** - Python Warmup"
   ]
  },
  {
   "cell_type": "markdown",
   "id": "cW6PQ4KAFhfd",
   "metadata": {
    "id": "cW6PQ4KAFhfd"
   },
   "source": [
    "### **`Overview and Directions`**"
   ]
  },
  {
   "cell_type": "markdown",
   "id": "CWbFlcJXI1Id",
   "metadata": {
    "id": "CWbFlcJXI1Id"
   },
   "source": [
    "* Practice importing and parsing information. \n",
    "* Focus on learning and solving versus coding perfectly.  \n",
    "* Perform tasks without assistance from clever sources.  \n",
    "\n",
    "#### **`Desired outcomes`**  \n",
    "- Experience open, read, and writing of external delimited files.  \n",
    "- Navigate basic text mining preprocessing like white space stripping.  \n",
    "- Refresh expereience with iterator, conditionals, and functions.  \n",
    "\n",
    "####**`Additional Resources`**  \n",
    "- course [Python reference.library.Cosc.526.pdf](https://github.com/cosc-526/cosc.526.home.page/blob/main/reference.library.COSC.526.pdf)  \n",
    "=> contains a deep and wide index of essential Python coding.  \n",
    "- Bookmark the masters of text preprocessing  \n",
    "=> [Jurafsky and Martin, Speech and Language Processing](https://web.stanford.edu/~jurafsky/slp3/)  \n",
    "=> additional quality textbook on classical text mining  \n",
    "=> [Wiess,S.,Indurkhya,N.,Zhang,T.,(2015), Fundamentals of predictive text mining, 2nd, Springer.](https://www.amazon.com/Fundamentals-Predictive-Mining-Computer-Science/dp/144716749X/ref=sr_1_1?crid=MUA7UG21IFPD&keywords=Wiess%2CS.%2CIndurkhya%2CN.%2CZhang%2CT.%2C%282015%29%2C+Fundamentals+of+predictive+text+mining%2C+2nd%2C+Springer&qid=1685151591&sprefix=wiess%2Cs.%2Cindurkhya%2Cn.%2Czhang%2Ct.%2C+2015+%2C+fundamentals+of+predictive+text+mining%2C+2nd%2C+springer%2Caps%2C78&sr=8-1)"
   ]
  },
  {
   "cell_type": "markdown",
   "id": "ZR2SKZ0V4l36",
   "metadata": {
    "id": "ZR2SKZ0V4l36"
   },
   "source": [
    "### **`Task.1`**  - comma-separated values (.csv)"
   ]
  },
  {
   "cell_type": "markdown",
   "id": "23c910b9",
   "metadata": {
    "id": "cs55wtGeEV7u"
   },
   "source": [
    "Reading and parsing [delimiter-separated values](https://en.wikipedia.org/wiki/Delimiter-separated_values) files like [comma-separated](https://en.wikipedia.org/wiki/Comma-separated_values) and [tab-separated values](https://en.wikipedia.org/wiki/Tab-separated_values) is a regular data science preprocessing activity. It is typically acceptable to request either file format for analysis activities.    \n",
    "- *.csv* files store tabular data like numbers and text in a plain text format. \n",
    "- Plain text may include text, white spaces, carriage returns, transliterals, and other artifacts.    \n",
    "- Each row, or data record, contains a value or nothing. A comma separates each.    \n",
    "\n",
    "**`Tasks`**  \n",
    "0. Read in the Nobel prize winners name and age data: [data.M.1.exercise.csv](https://github.com/cosc-526/home.page/blob/main/data.M.1.exercise.csv)  \n",
    "=> data is in class github. Read however you like!  \n",
    "1. Generate a single value for the total number of rows of data.\n",
    "2. Generate a single value for the total number of columns of data.  \n",
    "3. Calculate the laureates average age as a datatype float.  \n",
    "4. Solution structured as a user defined function (def) but doing so not required.   \n",
    "5. hint  \n",
    ".> use library `import requests` to read numerics from a url  \n",
    "=> mydata = requests.get(file_url)  \n",
    "==> if mydata.status_code == 200:  #200 = code for a successful request  \n",
    "====> do something with lines\n",
    "\n",
    "**`Useful links`**  \n",
    "- [Ch.16, Importing Data, Python.Crash.Course, Matthes](https://github.com/cosc-526/cosc.526.home.page/blob/main/textbook.Python.crash.course.matthes.pdf)  \n",
    "[open](https://docs.python.org/3.6/library/functions.html#open), \n",
    "[readlines](https://docs.python.org/3.6/library/codecs.html#codecs.StreamReader.readlines), [rstrip](https://docs.python.org/3.6/library/stdtypes.html#str.rstrip), [list comprehension](https://docs.python.org/3/tutorial/datastructures.html#list-comprehensions), [split](https://docs.python.org/3.6/library/stdtypes.html#str.split), [splice](https://docs.python.org/3.6/glossary.html#term-slice), [\"list.love\"](https://docs.python.org/3.6/tutorial/datastructures.html#more-on-lists), [len](https://docs.python.org/3.6/library/functions.html#len), [int](https://docs.python.org/3.6/library/functions.html#int), [format](https://docs.python.org/3.6/library/stdtypes.html#str.format)"
   ]
  },
  {
   "cell_type": "code",
   "execution_count": 9,
   "id": "Azp65ID2UV9X",
   "metadata": {
    "id": "Azp65ID2UV9X"
   },
   "outputs": [
    {
     "name": "stdout",
     "output_type": "stream",
     "text": [
      "Number of rows of data: 8\n",
      "Number of cols: 3\n",
      "Average Age: 70.875\n"
     ]
    }
   ],
   "source": [
    "import requests\n",
    "import csv\n",
    "\n",
    "def process_nobel_data():\n",
    "    # Fetch the CSV file from the GitHub link\n",
    "    file_url = \"https://raw.githubusercontent.com/cosc-526/home.page/main/data.M.1.exercise.csv\"\n",
    "    response = requests.get(file_url)\n",
    "    \n",
    "    if response.status_code == 200:\n",
    "        # Read the CSV data and calculate required values\n",
    "        data = response.text.splitlines()\n",
    "        csv_reader = csv.reader(data)\n",
    "        header = next(csv_reader)  # Skip the header row\n",
    "        \n",
    "        # Task 1: Generate a single value for the total number of rows of data\n",
    "        total_rows = sum(1 for _ in csv_reader)\n",
    "        \n",
    "        # Reset the reader back to the start\n",
    "        csv_reader = csv.reader(data)\n",
    "        next(csv_reader)  # Skip the header row again\n",
    "        \n",
    "        # Task 2: Generate a single value for the total number of columns of data\n",
    "        total_columns = len(header)\n",
    "        \n",
    "        # Task 3: Calculate the laureates average age as a datatype float\n",
    "        age_sum = 0\n",
    "        for row in csv_reader:\n",
    "            age = float(row[1])  # age is in the second column (index 1)\n",
    "            age_sum += age\n",
    "        average_age = age_sum / total_rows\n",
    "        \n",
    "        return total_rows, total_columns, average_age\n",
    "    \n",
    "    else:\n",
    "        print(\"Error: Failed to retrieve the CSV file.\")\n",
    "\n",
    "# Call the function and store the results\n",
    "rows, columns, avg_age = process_nobel_data()\n",
    "\n",
    "# Print the results\n",
    "print(\"Number of rows of data:\", rows)\n",
    "print(\"Number of cols:\", columns)\n",
    "print(\"Average Age:\", avg_age)\n"
   ]
  },
  {
   "cell_type": "markdown",
   "id": "fFtuKBBh4l4C",
   "metadata": {
    "id": "fFtuKBBh4l4C"
   },
   "source": [
    "**Task.1 Expected ouput**\n",
    "```\n",
    "Number of rows of data: 8\n",
    "Number of cols: 3\n",
    "Average Age: 70.875\n",
    "```"
   ]
  },
  {
   "cell_type": "markdown",
   "id": "ybWXMZ974l4D",
   "metadata": {
    "id": "ybWXMZ974l4D"
   },
   "source": [
    "### **`Task.2`** - tab-separated values (.tsv)"
   ]
  },
  {
   "cell_type": "markdown",
   "id": "XpY0qD0rIsz3",
   "metadata": {
    "id": "XpY0qD0rIsz3"
   },
   "source": [
    "A [tab-separated value (.tsv)](https://en.wikipedia.org/wiki/Tab-separated_values) format is a delimiter-separated value for storing data in a tabular structure like a database table or spreadsheet. Other characteristics include,    \n",
    "- Used to exchange information between databases.\n",
    "- Each record in the table is one line of the text file.\n",
    "- Fields are distinct in a record when separated by the tab character **`\\t`**\n",
    "\n",
    "**`Tasks`**\n",
    "0. [data.exercise.M.1.tsv](https://github.com/cosc-526/home.page/blob/main/data.M.1.exercise.tsv) \n",
    "=> data is in class github. Read however you like!  \n",
    "1. Repeat Task.1 using the .tsv file.  \n",
    "2. The order and data in columns have changed.  \n",
    "3. If you hardcoded the \"age\" column, research and describe alternative code to alleviate fixed positional indexes.  \n",
    "\n",
    "**`Useful links`**  \n",
    "- [Python docs - csv file reading and writing](https://docs.python.org/3/library/csv.html#module-csv) \n",
    "- Python handles .tsv files using its \"delimiter\" parameter, \"\\t\"  "
   ]
  },
  {
   "cell_type": "code",
   "execution_count": 1,
   "id": "0ODxd_9HTCy9",
   "metadata": {
    "id": "0ODxd_9HTCy9"
   },
   "outputs": [
    {
     "name": "stdout",
     "output_type": "stream",
     "text": [
      "Number of rows of data: 8\n",
      "Number of cols: 3\n",
      "Average Age: 70.875\n"
     ]
    }
   ],
   "source": [
    "#=>Enter answer  "
   ]
  },
  {
   "cell_type": "markdown",
   "id": "_9HmDoDjTNgi",
   "metadata": {
    "id": "_9HmDoDjTNgi"
   },
   "source": [
    "**Task.2 Expected output**\n",
    "```\n",
    "Number of rows of data: 8\n",
    "Number of cols: 3\n",
    "Average Age: 70.875\n",
    "```"
   ]
  },
  {
   "cell_type": "markdown",
   "id": "LSr6LhyN4l4E",
   "metadata": {
    "id": "LSr6LhyN4l4E"
   },
   "source": [
    "### **`Task.3`** - Convert diacritics (ä, ö) to ASCII"
   ]
  },
  {
   "cell_type": "markdown",
   "id": "CdUDaILLI7Ro",
   "metadata": {
    "id": "CdUDaILLI7Ro"
   },
   "source": [
    "- Download [data.M.1.exercise.csv](https://github.com/cosc-526/home.page/blob/main/data.M.1.exercise.csv) and right click on the file to view in Notepad.   \n",
    "=> Observe the Unicode non-English letters in laureates' names like the two dots over the letter \"o\" in \"Schrödinger.\"\n",
    "- Learn about [Unicode](https://en.wikipedia.org/wiki/Unicode) character standards for representing different types and forms of text.  \n",
    "- Grok that Python 3 [natively supports](https://docs.python.org/3/howto/unicode.html) Unicode, but many tools don't.\n",
    "- Conversion of Unicode to [ASCII](https://en.wikipedia.org/wiki/ASCII) formatting is often necessary in data preprocessing.  \n",
    "\n",
    "**Tasks**\n",
    "0. Read this article on diacritics conversion (e.g., \"ü\" → \"ue\"); [transliteration](https://german.stackexchange.com/questions/4992/conversion-table-for-diacritics-e-g-%C3%BC-%E2%86%92-ue).  \n",
    "1. data = [data.M.1.exercise.csv](https://github.com/cosc-526/home.page/blob/main/data.M.1.exercise.csv)  \n",
    "=> provided example reads directly from github\n",
    "2. Analyze and run code block with a dictionary matching Unicode character \"keys\" to their ASCII transliteration \"value.\"\n",
    "=> as a refresher, a dictionary is defined as mydict = { key:value }\n",
    "3. For labeled code sections #3.1 to 3.9, explain succinctly what the code is accomplishing and whether you are or are not familiar with it.  \n",
    "4. Create your inventory mechanism to store this, and more, code blocks.  \n",
    "\n",
    "***More useful links***\n",
    "- [1: replace](https://docs.python.org/3.6/library/stdtypes.html#str.replace), [2: file object methods](https://docs.python.org/3/tutorial/inputoutput.html#methods-of-file-objects),  \n"
   ]
  },
  {
   "cell_type": "code",
   "execution_count": 10,
   "id": "XnJm4ImJDSgW",
   "metadata": {
    "colab": {
     "base_uri": "https://localhost:8080/"
    },
    "id": "XnJm4ImJDSgW",
    "outputId": "0e497da6-c3ee-44fc-98db-f4c5056a3ced"
   },
   "outputs": [
    {
     "name": "stdout",
     "output_type": "stream",
     "text": [
      "Richard Phillips Feynman\n",
      "Shin'ichiro Tomonaga\n",
      "Julian Schwinger\n",
      "Rudolf Ludwig Moessbauer\n",
      "Erwin Schroedinger\n",
      "Paul Dirac\n",
      "Maria Sklodowska-Curie\n",
      "Pierre Curie\n"
     ]
    }
   ],
   "source": [
    "import requests\n",
    "\n",
    "translit_dict = {\n",
    "    \"ä\" : \"ae\",\n",
    "    \"ö\" : \"oe\",\n",
    "    \"ü\" : \"ue\",\n",
    "    \"Ä\" : \"Ae\",\n",
    "    \"Ö\" : \"Oe\",\n",
    "    \"Ü\" : \"Ue\", \n",
    "    \"ł\" : \"l\",\n",
    "    \"ō\" : \"o\",\n",
    "}\n",
    "#3.0\n",
    "#read data from a URL\n",
    "def parse_delimited_file(file_url, delimiter):\n",
    "    response = requests.get(file_url)\n",
    "    if response.status_code == 200:\n",
    "        lines = response.text.split('\\n')\n",
    "    else:\n",
    "        print('Failed to fetch the file from GitHub.')\n",
    "        return\n",
    "    lines = [line.rstrip('\\n') for line in lines if line.strip()]  # Skip empty lines\n",
    "    return lines\n",
    "\n",
    "file_url = \"https://raw.githubusercontent.com/cosc-526/home.page/main/data.M.1.exercise.csv\"\n",
    "lines = parse_delimited_file(file_url, delimiter=\",\")\n",
    "\n",
    "#3.1\n",
    "#with open(\"data.exercise.M.1.csv\", 'r', encoding='utf8') as csvfile:\n",
    "#    lines = csvfile.readlines()\n",
    "#3.2\n",
    "# Strip off the newline from the end of each line\n",
    "lines = [line.rstrip() for line in lines]\n",
    "\n",
    "#3.3   \n",
    "# Split each line based on the delimiter (which, in this case, is the comma)\n",
    "split_lines = [line.split(\",\") for line in lines]\n",
    "\n",
    "#3.4\n",
    "# Separate the header from the data\n",
    "header = split_lines[0]\n",
    "data_lines = split_lines[1:]\n",
    "    \n",
    "#3.5    \n",
    "# Find \"name\" within the header\n",
    "name_index = header.index(\"name\")\n",
    "\n",
    "#3.6\n",
    "# Extract the names from the rows\n",
    "unicode_names = [line[name_index] for line in data_lines]\n",
    "\n",
    "#3.7\n",
    "# Iterate over the names\n",
    "translit_names = []\n",
    "for unicode_name in unicode_names:\n",
    "    # Perform the replacements in the translit_dict\n",
    "    # HINT: ref [1]\n",
    "    translit_name = unicode_name\n",
    "    for key, value in translit_dict.items():\n",
    "        translit_name = translit_name.replace(key, value)\n",
    "    translit_names.append(translit_name)\n",
    "\n",
    "#3.8\n",
    "# Write out the names to a file named \"data-ascii.txt\"\n",
    "# HINT: ref [2]\n",
    "with open(\"data.exercise.M.1.ascii.txt\", 'w') as outfile:\n",
    "    for name in translit_names:\n",
    "        outfile.write(name + \"\\n\")\n",
    "#3.9\n",
    "# Verify that the names were converted and written out correctly\n",
    "with open(\"data.exercise.M.1.ascii.txt\", 'r') as infile:\n",
    "    for line in infile:\n",
    "        print(line.rstrip())\n"
   ]
  },
  {
   "cell_type": "code",
   "execution_count": null,
   "id": "X6tBzbFR2f_v",
   "metadata": {
    "id": "X6tBzbFR2f_v"
   },
   "outputs": [],
   "source": [
    "#=>Enter answer/reflection   \n",
    "#3.1\n",
    "#3.2\n",
    "#3.3\n",
    "#3.4\n",
    "#3.5\n",
    "#3.6\n",
    "#3.7\n",
    "#3.8\n",
    "#3.9\n"
   ]
  },
  {
   "cell_type": "markdown",
   "id": "zmOzzRTl4l4P",
   "metadata": {
    "id": "zmOzzRTl4l4P"
   },
   "source": [
    "**`Expected output`**\n",
    "```\n",
    "Richard Phillips Feynman\n",
    "Shin'ichiro Tomonaga\n",
    "Julian Schwinger\n",
    "Rudolf Ludwig Moessbauer\n",
    "Erwin Schroedinger\n",
    "Paul Dirac\n",
    "Maria Sklodowska-Curie\n",
    "Pierre Curie\n",
    "```\n",
    "\n"
   ]
  },
  {
   "cell_type": "markdown",
   "id": "5f09fcd7",
   "metadata": {
    "id": "5f09fcd7"
   },
   "source": [
    "## **`assign.M.1.assignment.1`** - Data Mining with Covid Data"
   ]
  },
  {
   "cell_type": "markdown",
   "id": "ujMShg_DwKdx",
   "metadata": {
    "id": "ujMShg_DwKdx"
   },
   "source": [
    "### **`Overview and Directions`**"
   ]
  },
  {
   "cell_type": "markdown",
   "id": "orcAiqUZAQ6Y",
   "metadata": {
    "id": "orcAiqUZAQ6Y"
   },
   "source": [
    "1. Import and manipulate a .csv file  \n",
    "2. Assess your Python Programming Skills  \n",
    "3. Other assignments are more challenging; use this to assess your skills.\n",
    "4. Prepare questions for a class discussion to help source additional tools. \n",
    "5. Perform tasks without assistance from clever sources.    \n",
    "\n",
    "#### **`Desired outcomes`**  \n",
    "- Experience Pandas dataframes to group, aggregate, find, sort, and calculate.  \n",
    "- Perform calculations to find best country, rank, and total items processed. \n",
    "- Note: Pandas is reviewed in Module 2 and quality resources provided below.  \n",
    "\n",
    "#### **`Additional resources`**  \n",
    "- [Daniel Chen](https://github.com/chendaniely/) is a **generous** Pandas master.  \n",
    "=> Purchase of his books is recommended; not a solicitation!    \n",
    "- [Chen,D.,(2022). Pandas for everyone, 2nd.Ed.](https://www.amazon.com/Pandas-Everyone-Analysis-Addison-Wesley-Analytics/dp/0137891156/ref=sr_1_1?crid=T9BF3HU24YFL&keywords=pandas+for+everyone&qid=1685205022&sprefix=pandas+for+everyone%2Caps%2C203&sr=8-1)  \n",
    "=> [groupby](https://github.com/chendaniely/2017-10-26-python_crash_course/blob/gh-pages/notebooks/07-groupby.ipynb) => [missing values](https://github.com/chendaniely/2017-10-26-python_crash_course/blob/gh-pages/notebooks/03-missing.ipynb) => [many more!](https://github.com/chendaniely/2017-10-26-python_crash_course/tree/gh-pages/notebooks)    \n",
    "\n"
   ]
  },
  {
   "cell_type": "markdown",
   "id": "RNiLo5Rm9SM2",
   "metadata": {
    "id": "RNiLo5Rm9SM2"
   },
   "source": [
    "### **`Task.0`**  \n"
   ]
  },
  {
   "cell_type": "markdown",
   "id": "wcrKuRsWXUW1",
   "metadata": {
    "id": "wcrKuRsWXUW1"
   },
   "source": [
    "#### **`Dataset`**\n",
    "- source information => COVID-19 variant [sequencing](https://www.cdc.gov/coronavirus/2019-ncov/variants/genomic-surveillance.html#:~:text=Scientists%20use%20a%20process%20called%20genomic%20sequencing%20to%20identify%20SARS,test%20positive%20for%20COVID%2D19) by countries.   \n",
    "Data fields    \n",
    "1. `location`: the country providing information.    \n",
    "2. `date`: data entry date.  \n",
    "3. `variant`: the COVID-19 variant for the entered record.  \n",
    "4. `num_sequences`: the number of sequences **processed** by country, variant, and date.   \n",
    "5. `num_sequences_total`: the number of sequences **available** by country, variant, and date.  \n",
    "6. `perc_sequences`: the percentage of the available sequences processed (*out of 100*)  \n",
    "`note:` each dataset row represents *one* variant by *one* country on *one* day.  \n",
    "\n",
    "**`Tasks`**  \n",
    "1. Locate and read dataset into a pandas.DataFrame called 'df' via  \n",
    "a. A Kaggle API; use existing or acquire; [Kaggle.covid.dataset](https://www.kaggle.com/yamqwe/omicron-covid19-variant-daily-cases?select=covid-variants.csv)  \n",
    "or  \n",
    "b. Class github URL or another .csv method like [Matthes, Ch.16](https://github.com/cosc-526/cosc.526.home.page/blob/main/textbook.Python.crash.course.matthes.pdf)    \n",
    "=> filename: [data.M.1.assignment.covid.data.csv](https://raw.githubusercontent.com/cosc-526/home.page/main/data.M.1.assignment.covid.data.csv)    \n",
    "=>**consider** reading a Github data URL requires a path to **raw data**    \n",
    "2. Display the DataFrame's first 5 rows.  \n",
    "3. Display descriptive stats confirming: 100,416 data records.  \n",
    "4. Round DataFrame to 1 decimal place!   \n",
    "\n",
    "**`Useful links`**  \n",
    "[Built-in Functions](https://docs.python.org/3/library/functions.html#built-in-functions)  \n",
    "[pandas.DataFrame documentation](https://pandas.pydata.org/docs/reference/api/pandas.DataFrame.html) "
   ]
  },
  {
   "cell_type": "code",
   "execution_count": 96,
   "id": "J6JeWBO2Cw78",
   "metadata": {
    "id": "J6JeWBO2Cw78"
   },
   "outputs": [
    {
     "name": "stdout",
     "output_type": "stream",
     "text": [
      "DataFrame header\n",
      "   location        date    variant  num_sequences  perc_sequences  \\\n",
      "0   Angola  2020-07-06      Alpha              0             0.0   \n",
      "1   Angola  2020-07-06  B.1.1.277              0             0.0   \n",
      "2   Angola  2020-07-06  B.1.1.302              0             0.0   \n",
      "3   Angola  2020-07-06  B.1.1.519              0             0.0   \n",
      "4   Angola  2020-07-06    B.1.160              0             0.0   \n",
      "\n",
      "   num_sequences_total  \n",
      "0                    3  \n",
      "1                    3  \n",
      "2                    3  \n",
      "3                    3  \n",
      "4                    3  \n",
      "\n",
      "\n",
      "Dataframe descriptive statistics, rounded to tenths\n",
      "        num_sequences  perc_sequences  num_sequences_total\n",
      "count       100416.0        100416.0             100416.0\n",
      "mean            72.2             6.2               1509.6\n",
      "std           1669.3            21.9               8445.3\n",
      "min              0.0            -0.0                  1.0\n",
      "25%              0.0             0.0                 12.0\n",
      "50%              0.0             0.0                 59.0\n",
      "75%              0.0             0.0                394.0\n",
      "max         142280.0           100.0             146170.0\n"
     ]
    }
   ],
   "source": [
    "import pandas as pd\n",
    "import numpy as np\n",
    "\n",
    "file_url = \"https://raw.githubusercontent.com/cosc-526/home.page/main/data.M.1.assignment.covid.data.csv\"\n",
    "df = pd.read_csv(file_url)\n",
    "\n",
    "# format float number to display only 1 decimal place\n",
    "pd.set_option('display.float_format', lambda x: '%.1f' % x)\n",
    "\n",
    "\n",
    "#use head() to display first 5 rows\n",
    "print(\"DataFrame header\\n\",df.head())\n",
    "\n",
    "print(\"\\n\")\n",
    "\n",
    "# use describe() to print descriptive stats\n",
    "print(\"Dataframe descriptive statistics, rounded to tenths\\n\",df.describe())\n",
    "\n",
    "\n",
    "\n"
   ]
  },
  {
   "cell_type": "markdown",
   "id": "4z6COkzkC2KU",
   "metadata": {
    "id": "4z6COkzkC2KU"
   },
   "source": [
    "#### **`Task.0 - Expected Outcome`**  \n",
    "```\n",
    "DataFrame header\n",
    "  location  date        variant  num_sequences  perc_sequences  num_sequences_total\n",
    "0   Angola  2020-07-06      Alpha              0             0.0   3\n",
    "1   Angola  2020-07-06  B.1.1.277              0             0.0   3\n",
    "2   Angola  2020-07-06  B.1.1.302              0             0.0   3\n",
    "3   Angola  2020-07-06  B.1.1.519              0             0.0   3\n",
    "4   Angola  2020-07-06    B.1.160              0             0.0   3\n",
    "\n",
    "Dataframe descriptive statistics, rounded to tenths\n",
    "       num_sequences  perc_sequences  num_sequences_total\n",
    "count       100416.0        100416.0             100416.0\n",
    "mean            72.0             6.0               1510.0\n",
    "std           1669.0            22.0               8445.0\n",
    "min              0.0            -0.0                  1.0\n",
    "25%              0.0             0.0                 12.0\n",
    "50%              0.0             0.0                 59.0\n",
    "75%              0.0             0.0                394.0\n",
    "max         142280.0           100.0             146170.0 \n",
    "```\n"
   ]
  },
  {
   "cell_type": "markdown",
   "id": "760c5a8f",
   "metadata": {
    "id": "760c5a8f"
   },
   "source": [
    "### **`Task.1`** - Find uncommon variants  "
   ]
  },
  {
   "cell_type": "markdown",
   "id": "ZGy_VBO4DDyd",
   "metadata": {
    "id": "ZGy_VBO4DDyd"
   },
   "source": [
    "The U.S. experienced the COVID-19 `Alpha`, `Delta`, `Omicron`  \n",
    "\n",
    "**`Tasks`**  \n",
    "0. In whatever object you like, e.g. list, dataframe, etc  \n",
    "1. Get unique variant items for category: **`US_and_other`**  \n",
    "=> where variants == [US, `non_who`, `others`]  \n",
    "2. Get unique variant items for category: **`nonUS_and_other`**  \n",
    "=> where variants != [US, `non_who`, `others`]  \n",
    "3. Print your chosen objects to display unique variant categories.  \n",
    "4. Show a total unique count for each, and total for dataset,\n",
    "\n",
    "**`Useful links`**   \n",
    "- [len()](https://docs.python.org/3/library/functions.html#len)\n",
    "- [list comprehension w Bro Code](https://www.youtube.com/watch?v=fcLDzKH_5XM)  "
   ]
  },
  {
   "cell_type": "code",
   "execution_count": 199,
   "id": "vxMduRg5Cj5u",
   "metadata": {
    "id": "vxMduRg5Cj5u"
   },
   "outputs": [
    {
     "name": "stdout",
     "output_type": "stream",
     "text": [
      "['Alpha' 'B.1.1.277' 'B.1.1.302' 'B.1.1.519' 'B.1.160' 'B.1.177' 'B.1.221'\n",
      " 'B.1.258' 'B.1.367' 'B.1.620' 'Beta' 'Delta' 'Epsilon' 'Eta' 'Gamma'\n",
      " 'Iota' 'Kappa' 'Lambda' 'Mu' 'Omicron' 'S:677H.Robin1' 'S:677P.Pelican'\n",
      " 'others' 'non_who']\n",
      "\n",
      "\n",
      "total US + other =  24\n",
      "\n",
      "\n",
      "['Alpha' 'B.1.1.277' 'B.1.1.302' 'B.1.1.519' 'B.1.160' 'B.1.177' 'B.1.221'\n",
      " 'B.1.258' 'B.1.367' 'B.1.620' 'Beta' 'Delta' 'Epsilon' 'Eta' 'Gamma'\n",
      " 'Iota' 'Kappa' 'Lambda' 'Mu' 'Omicron' 'S:677H.Robin1' 'S:677P.Pelican'\n",
      " 'others' 'non_who']\n",
      "\n",
      "\n",
      "total nonUS+other =  24\n",
      "\n",
      "\n",
      "total unique variants =  24\n"
     ]
    }
   ],
   "source": [
    "import pandas as pd\n",
    "import numpy as np\n",
    "\n",
    "file_url = \"https://raw.githubusercontent.com/cosc-526/home.page/main/data.M.1.assignment.covid.data.csv\"\n",
    "df = pd.read_csv(file_url)\n",
    "\n",
    "# format float number to display only 1 decimal place\n",
    "pd.set_option('display.float_format', lambda x: '%.1f' % x)\n",
    "\n",
    "#where variants == [US, non_who, others]\n",
    "df1 = df.query(\"((num_sequences_total > 0) and (location in ('United States')) or (location in ('United States') and variant in ('others','non_who')))\")\n",
    "print(df1[\"variant\"].unique())\n",
    "print(\"\\n\")\n",
    "print(\"total US + other = \", len(df1[\"variant\"].unique()))\n",
    "\n",
    "#where variants != [US, non_who, others]\n",
    "df2 = df.query(\"((num_sequences_total > 0) and (location not in ('United States')) or (location not in ('United States') and variant in ('others','non_who')))\")\n",
    "print(\"\\n\")\n",
    "print(df2[\"variant\"].unique())\n",
    "print(\"\\n\")\n",
    "print(\"total nonUS+other = \", len(df2[\"variant\"].unique()))\n",
    "print(\"\\n\")\n",
    "print(\"total unique variants = \", len(df[\"variant\"].unique()))\n"
   ]
  },
  {
   "cell_type": "markdown",
   "id": "jBOVMJ0zck9a",
   "metadata": {
    "id": "jBOVMJ0zck9a"
   },
   "source": [
    "#### **`Task.1 - Expected Outcome`**  \n",
    "```\n",
    "note: organization of output can vary widely!  \n",
    "\n",
    "['Alpha', 'Delta', 'Omicron', 'others', 'non_who']  \n",
    "\n",
    "total US + other =  5\n",
    "\n",
    "['B.1.1.277', 'B.1.1.302', 'B.1.1.519', 'B.1.160', 'B.1.177', 'B.1.221',  \n",
    " 'B.1.258', 'B.1.367', 'B.1.620', 'Beta', 'Epsilon', 'Eta', 'Gamma', 'Iota',  \n",
    "  'Kappa', 'Lambda', 'Mu', 'S:677H.Robin1', 'S:677P.Pelican']   \n",
    "  \n",
    "total nonUS+other =  19   \n",
    "\n",
    "total unique variants =  24 \n",
    "```"
   ]
  },
  {
   "cell_type": "markdown",
   "id": "aB6-dtiH5OSq",
   "metadata": {
    "id": "aB6-dtiH5OSq"
   },
   "source": [
    "### **`Task.2`** - Find the most processed variant  "
   ]
  },
  {
   "cell_type": "markdown",
   "id": "bRbxoQb9rbN9",
   "metadata": {
    "id": "bRbxoQb9rbN9"
   },
   "source": [
    "**Tasks**  \n",
    "1. Which variant of COVID-19 has the most sequences processed?  \n",
    "2. Store and print the result in a string called **`variant_most_proc`**  \n",
    "\n",
    "**Useful links**  \n",
    "[pd.DataFrame.groupby](https://pandas.pydata.org/docs/reference/api/pandas.DataFrame.groupby.html#pandas-dataframe-groupby), [pd.DataFrame.aggregate](https://pandas.pydata.org/docs/reference/api/pandas.DataFrame.aggregate.html#pandas-dataframe-aggregate)"
   ]
  },
  {
   "cell_type": "code",
   "execution_count": 123,
   "id": "JoFZ2N-WFDH1",
   "metadata": {
    "id": "JoFZ2N-WFDH1"
   },
   "outputs": [
    {
     "name": "stdout",
     "output_type": "stream",
     "text": [
      "variant of COVID-19 with most sequences processed =  Delta\n"
     ]
    }
   ],
   "source": [
    "import pandas as pd\n",
    "import numpy as np\n",
    "\n",
    "file_url = \"https://raw.githubusercontent.com/cosc-526/home.page/main/data.M.1.assignment.covid.data.csv\"\n",
    "df = pd.read_csv(file_url)\n",
    "\n",
    "# format float number to display only 1 decimal place\n",
    "pd.set_option('display.float_format', lambda x: '%.1f' % x)\n",
    "\n",
    "#group by variant, get max value from column 'num_sequences' and select it's max index\n",
    "variant_most_proc = df.groupby(['variant'])['num_sequences'].aggregate('max').idxmax()\n",
    "\n",
    "print(\"variant of COVID-19 with most sequences processed = \", variant_most_proc)\n",
    "\n"
   ]
  },
  {
   "cell_type": "markdown",
   "id": "5uAWiinsdBi2",
   "metadata": {
    "id": "5uAWiinsdBi2"
   },
   "source": [
    "#### **`Task.2 - Expected Outcome`**  \n",
    "```\n",
    "Delta  \n",
    "```"
   ]
  },
  {
   "cell_type": "markdown",
   "id": "663db8ac",
   "metadata": {
    "id": "663db8ac"
   },
   "source": [
    "### **`Task.3`** - Find the best country at processing ALL variant sequences  \n",
    "\n",
    "\n"
   ]
  },
  {
   "cell_type": "markdown",
   "id": "ny95wr5_sQhK",
   "metadata": {
    "id": "ny95wr5_sQhK"
   },
   "source": [
    "**`Tasks`**  \n",
    "1. Which country did the best processing **all** categories.    \n",
    "2. Store the result in a string called **`best_proc_country`**  \n",
    "3. The outcome is a single country.  \n",
    "4. **consider** df.groupby(\"location\").aggregate({\"num_sequences\": \"sum\", \"num_sequences_total\": \"sum\"})\n",
    "\n",
    "**`Useful links`**  \n",
    "[youtube: aggregate with groupby and .agg or .aggregate](https://www.youtube.com/watch?v=PNzlx3CjqAE)\n"
   ]
  },
  {
   "cell_type": "code",
   "execution_count": 160,
   "id": "75c31b41",
   "metadata": {
    "id": "75c31b41"
   },
   "outputs": [
    {
     "name": "stdout",
     "output_type": "stream",
     "text": [
      "Total percent performed by country\n",
      "                      num_sequences  num_sequences_total  percent\n",
      "location                                                         \n",
      "Cyprus                         1160                14160     8.19\n",
      "Hungary                         623                 7824     7.96\n",
      "Egypt                          2489                32040     7.77\n",
      "United Arab Emirates           4530                59760     7.58\n",
      "Uruguay                        1189                16368     7.26\n",
      "...                             ...                  ...      ...\n",
      "Seychelles                      554                13032     4.25\n",
      "Slovakia                      17932               423552     4.23\n",
      "Fiji                            533                12600     4.23\n",
      "Brunei                          335                 7944     4.22\n",
      "Vietnam                        1811                43320     4.18\n",
      "\n",
      "[121 rows x 3 columns]\n",
      "the best country is => Cyprus\n"
     ]
    }
   ],
   "source": [
    "import pandas as pd\n",
    "import numpy as np\n",
    "\n",
    "file_url = \"https://raw.githubusercontent.com/cosc-526/home.page/main/data.M.1.assignment.covid.data.csv\"\n",
    "df = pd.read_csv(file_url)\n",
    "\n",
    "# format float number to display only 1 decimal place\n",
    "pd.set_option('display.float_format', lambda x: '%.2f' % x)\n",
    "\n",
    "#group by location, and add two new columns to new df2 so we can run easier calculation of percentage\n",
    "df2 = df.groupby(\"location\").aggregate({\"num_sequences\": \"sum\", \"num_sequences_total\": \"sum\"})\n",
    "\n",
    "#add custom formula df2 to calculate percentage with previously added aggregate columns\n",
    "df2[\"percent\"] = (df2[\"num_sequences\"] / df2[\"num_sequences_total\"]) * 100\n",
    "\n",
    "#sort rows by percent before we print out\n",
    "df3 = df2.sort_values(by=[\"percent\"], ascending=False)\n",
    "\n",
    "print(\"Total percent performed by country\")\n",
    "print(df3)\n",
    "\n",
    "#extract percentage by extracting the index with highest percent value \n",
    "best_proc_country = df2['percent'].idxmax()\n",
    "\n",
    "print(\"the best country is =>\", best_proc_country)"
   ]
  },
  {
   "cell_type": "markdown",
   "id": "y0bRJhZLdKBu",
   "metadata": {
    "id": "y0bRJhZLdKBu"
   },
   "source": [
    "#### **`Task.3 - Expected Outcome`**\n",
    "```\n",
    "Total percent performed by country \n",
    "\n",
    "location                percent\n",
    "Cyprus                  8.19\n",
    "Hungary                 7.96\n",
    "Egypt                   7.77\n",
    "United Arab Emirates    7.58\n",
    "Uruguay                 7.26\n",
    "                        ... \n",
    "Seychelles              4.25\n",
    "Fiji                    4.23\n",
    "Slovakia                4.23\n",
    "Brunei                  4.22\n",
    "Vietnam                 4.18\n",
    "Name: perc_sequences, Length: 121, dtype: float64 \n",
    "\n",
    "the best country is =>  Cyprus\n",
    "```"
   ]
  },
  {
   "cell_type": "markdown",
   "id": "11d1d3a0",
   "metadata": {
    "id": "11d1d3a0"
   },
   "source": [
    "### **`Task.4a`** - Find the best country at processing specific variant sequences  "
   ]
  },
  {
   "cell_type": "markdown",
   "id": "Jxd-0IN00go_",
   "metadata": {
    "id": "Jxd-0IN00go_"
   },
   "source": [
    "**`Tasks`**  \n",
    "1. Which country is best at processing sequences for Alpha, Delta, and Omicron variants?    \n",
    "2. Store and print the result in a string called **`best_proc_country_ADO`** \n",
    "3. The final output is a single country.  \n",
    "\n",
    "**`Useful links`** \n",
    "- ibid  \n",
    "\n"
   ]
  },
  {
   "cell_type": "code",
   "execution_count": 161,
   "id": "fcafdd2e",
   "metadata": {
    "id": "fcafdd2e"
   },
   "outputs": [
    {
     "name": "stdout",
     "output_type": "stream",
     "text": [
      "Total percent performed by country\n",
      "            num_sequences  num_sequences_total  percent\n",
      "location                                               \n",
      "Vietnam              1799                 5415    33.22\n",
      "Brunei                326                  993    32.83\n",
      "Fiji                  517                 1575    32.83\n",
      "Slovakia            17327                52944    32.73\n",
      "Maldives              845                 2595    32.56\n",
      "...                   ...                  ...      ...\n",
      "Egypt                 181                 4005     4.52\n",
      "Hungary                29                  978     2.97\n",
      "Madagascar             27                 2316     1.17\n",
      "Cyprus                 20                 1770     1.13\n",
      "Uruguay                 0                 2046     0.00\n",
      "\n",
      "[121 rows x 3 columns]\n",
      "best_proc_country_ADO =  Vietnam\n"
     ]
    }
   ],
   "source": [
    "import pandas as pd\n",
    "import numpy as np\n",
    "\n",
    "file_url = \"https://raw.githubusercontent.com/cosc-526/home.page/main/data.M.1.assignment.covid.data.csv\"\n",
    "df = pd.read_csv(file_url)\n",
    "\n",
    "# format float number to display only 1 decimal place\n",
    "pd.set_option('display.float_format', lambda x: '%.2f' % x)\n",
    "\n",
    "df.query(\"variant in ('Alpha','Delta','Omicron')\", inplace=True)\n",
    "\n",
    "#group by location, and add two new columns to new df2 so we can run easier calculation of percentage\n",
    "df2 = df.groupby(\"location\").aggregate({\"num_sequences\": \"sum\", \"num_sequences_total\": \"sum\"})\n",
    "\n",
    "#add custom formula df2 to calculate percentage with previously added aggregate columns\n",
    "df2[\"percent\"] = (df2[\"num_sequences\"] / df2[\"num_sequences_total\"]) * 100\n",
    "\n",
    "#sort rows by percent before we print out\n",
    "df3 = df2.sort_values(by=[\"percent\"], ascending=False)\n",
    "\n",
    "print(\"Total percent performed by country\")\n",
    "print(df3)\n",
    "\n",
    "#extract percentage by extracting the index with highest percent value \n",
    "best_proc_country_ADO = df2['percent'].idxmax()\n",
    "\n",
    "print(\"best_proc_country_ADO = \", best_proc_country_ADO)"
   ]
  },
  {
   "cell_type": "markdown",
   "id": "fvANdWH2kOqc",
   "metadata": {
    "id": "fvANdWH2kOqc"
   },
   "source": [
    "#### **`Task.4a - Expected Outcome`**  \n",
    "```\n",
    "best_proc_country_ADO = Vietnam  \n",
    "```"
   ]
  },
  {
   "cell_type": "markdown",
   "id": "9ccb8782",
   "metadata": {
    "id": "9ccb8782"
   },
   "source": [
    "### **`Task.4b`** - Find the United States ranking for processing Alpha, Delta, and Omicron  "
   ]
  },
  {
   "cell_type": "markdown",
   "id": "uS-CWHXDFnlB",
   "metadata": {
    "id": "uS-CWHXDFnlB"
   },
   "source": [
    "**`Tasks`**  \n",
    "Given the outcome in 4a\n",
    "1. Find the positional index value for the US ranking for processing sequences for Alpha, Delta, an Omicron variants.   \n",
    "2. Store and print the ranking as an integer in a **us_ranking** variable.  \n",
    "3. Ensure your ranking scale reflects a scale starting at 1.  \n",
    "4. As a refresher, Python indexing starts at 0.  \n",
    "\n",
    "**`Useful links`** \n",
    "- [enumerate](https://docs.python.org/3/library/functions.html#enumerate)  "
   ]
  },
  {
   "cell_type": "code",
   "execution_count": 193,
   "id": "038e81b5",
   "metadata": {
    "id": "038e81b5"
   },
   "outputs": [
    {
     "name": "stdout",
     "output_type": "stream",
     "text": [
      "United States ranking =  [57]\n"
     ]
    }
   ],
   "source": [
    "import pandas as pd\n",
    "import numpy as np\n",
    "\n",
    "file_url = \"https://raw.githubusercontent.com/cosc-526/home.page/main/data.M.1.assignment.covid.data.csv\"\n",
    "df = pd.read_csv(file_url)\n",
    "\n",
    "# format float number to display only 1 decimal place\n",
    "pd.set_option('display.float_format', lambda x: '%.2f' % x)\n",
    "\n",
    "df.query(\"variant in ('Alpha','Delta','Omicron')\", inplace=True)\n",
    "\n",
    "#group by location, and add three new columns to new df2 so we can run easier calculation of percentage and also access location column\n",
    "df2 = df.groupby(\"location\", group_keys=False).aggregate({\"location\":\"max\",\"num_sequences\": \"sum\", \"num_sequences_total\": \"sum\"})\n",
    "\n",
    "#add custom formula df2 to calculate percentage with previously added aggregate columns\n",
    "df2[\"percent\"] = (df2[\"num_sequences\"] / df2[\"num_sequences_total\"]) * 100\n",
    "\n",
    "#sort rows by percent in descending order (Best to worst in processing variants)\n",
    "df3 = df2.sort_values(by=[\"percent\"], ascending=False)\n",
    "\n",
    "#prepare list comprehension with enumerate over location column until we find 'United States'\n",
    "us_ranking = [i for (i, v) in enumerate(df3[\"location\"], start=1) if v == \"United States\"]\n",
    "\n",
    "print(\"United States ranking = \", us_ranking)\n"
   ]
  },
  {
   "cell_type": "markdown",
   "id": "G5SUmnTckQBM",
   "metadata": {
    "id": "G5SUmnTckQBM"
   },
   "source": [
    "#### **`Task.4b - Expected Outcome`**  \n",
    "```\n",
    "United States ranking = 57  \n",
    "```"
   ]
  },
  {
   "cell_type": "markdown",
   "id": "283e46d3",
   "metadata": {
    "id": "283e46d3"
   },
   "source": [
    "### **`Task.5.<final.task>` - Write instructions for a jr. data scientist assignment**"
   ]
  },
  {
   "cell_type": "markdown",
   "id": "qhqwnKBcvW7R",
   "metadata": {
    "id": "qhqwnKBcvW7R"
   },
   "source": [
    "**`Task =>`**  \n",
    "- Write clear and precise directions that enable your  new junior  \n",
    "- data analyst, aka \"Jr,\" to modify and fix code that you provide.  "
   ]
  },
  {
   "cell_type": "markdown",
   "id": "913dpFR0Fp1E",
   "metadata": {
    "id": "913dpFR0Fp1E"
   },
   "source": [
    "#### **`Grading requirements=>`**  \n",
    "A clear and precise explanation of specific activities for production code your boss needs but you dont have time to fix.  "
   ]
  },
  {
   "cell_type": "markdown",
   "id": "2mN_TFHdT1Vg",
   "metadata": {
    "id": "2mN_TFHdT1Vg"
   },
   "source": [
    "Data science requires clear explanations of tasks, methodology, and effective communication with peers. To help the new junior analyst complete their first assignment, provide a concise and precise description including  \n",
    "\n",
    "1. `Sample Outcome`\n",
    "Deliver a comprehensive report summarizing findings and insights from data analysis. Include, as needed, desired outcome format, data objects, and visualizations.  \n",
    "\n",
    "2. `Python Code Explanation`\n",
    "Use plain language to describe specific Python code to achieve the desired outcome. Refer to pandas, Python, and other library documentation to incorporate particular language.  \n",
    "\n",
    "3. `Consider Deprecated Functions`\n",
    "The provided code is outdated and broken. Encourage problem-solving skills and leverage previous experience with similar tasks. Provide relevant links for reverse engineering.  \n",
    "\n",
    "**`Additional personnel considerations`**\n",
    "4. `Plain Language Explanation`\n",
    "Consider the junior analyst's background in C and provide clear and unambiguous instructions.  \n",
    "\n",
    "5. `Documentation Reference`\n",
    "Emphasize where to consult pandas, Python, and other library documentation to discern code mechanics and clarify concepts.  \n",
    "\n",
    "---------------"
   ]
  },
  {
   "cell_type": "markdown",
   "id": "TOdZMTe-Rcl_",
   "metadata": {
    "id": "TOdZMTe-Rcl_"
   },
   "source": [
    "`Your manager's original request => [memo substrate]` \n",
    "\n",
    "`\"hey! i need by lunch` the processed sequences per country on any date`  \n",
    "because as CFO wants to crunch numbers this afternoon - thx Lambda\"\n",
    "\n",
    "1. Determine the percentage of processed sequences for the Alpha, Delta, and Omicron variants in the US.  \n",
    "2. Store the result as a dictionary where keys are variant names and values are percentages.  \n",
    "3. Save in variable = proc_seq_us\n",
    "\n",
    "`=> Other implied items based on same exercise for manager last year`\n",
    "- Determine each country's total processed sequences for Omicron on December 27, 2021 or any other date entered (date updated from 2020).\n",
    "- provide country name and # processed sequences\n",
    "- bidirectional sorting\n",
    "- store outcomes in tuple like mytuple(country_name, processed_sequen, ) \n",
    "- variables totals like `total_omicron_2021`  "
   ]
  },
  {
   "cell_type": "code",
   "execution_count": 206,
   "id": "sMFoLYaXlRGZ",
   "metadata": {
    "id": "sMFoLYaXlRGZ"
   },
   "outputs": [
    {
     "data": {
      "text/plain": [
       "'\\nIn general, you may want to import the following modules\\n\\nimport pandas as pd # needed to use dataframes\\nimport numpy as np # needed to im\\n\\n\\nTo Determine the percentage of processed sequences for the Alpha, Delta, and Omicron variants in the US.\\nPlease consider the following:\\n\\nuse pandas.query() to simplify and make filters more readable\\n\\ndf.query(\"location in (\\'United States\\') and variant in (\\'Alpha\\',\\'Delta\\',\\'Omicron\\')\", inplace=True)\\n\\n'"
      ]
     },
     "execution_count": 206,
     "metadata": {},
     "output_type": "execute_result"
    }
   ],
   "source": [
    "#=> Enter Your Solution; i.e. write memo here\n",
    "\n",
    "\"\"\"\n",
    "In general, you need to import the following modules\n",
    "\n",
    "import pandas as pd # needed to use dataframes\n",
    "import numpy as np # needed to im\n",
    "\n",
    "Before moving forward with any code fixes, you need to consider that the data source is missing.\n",
    "In your particular case, one simple way to get a dataframe populated for each context is to use \n",
    "the following code snippet:\n",
    "\n",
    "import pandas as pd\n",
    "import numpy as np\n",
    "\n",
    "file_url = \"https://raw.githubusercontent.com/cosc-526/home.page/main/data.M.1.assignment.covid.data.csv\"\n",
    "df = pd.read_csv(file_url)\n",
    "\n",
    "*************** --- *************** --- **************\n",
    "\n",
    "\n",
    "To Determine the percentage of processed sequences for the Alpha, Delta, and Omicron variants in the US.\n",
    "Please consider the following:\n",
    "\n",
    "use pandas.query() to simplify and make filters more readable\n",
    "\n",
    "More specifically, for case 5b, you can consider replacing the following code:\n",
    "\n",
    "df2 = df2.loc[(\"United States\", [\"Alpha\", \"Delta\", \"Omicron\"]), :].loc[\"United States\"]\n",
    "\n",
    "with a more readable and maintainable code:\n",
    "\n",
    "df2.query(\"location in ('United States') and variant in ('Alpha','Delta','Omicron')\", inplace=True)\n",
    "\n",
    "*************** --- *************** --- **************\n",
    "\n",
    "Finally, lets consider a few more specific cases:\n",
    "\n",
    "CASE 5a - \n",
    "\n",
    "1. Consider replacing all cases of the variable name 'df6' with 'df'. There seems to be no need to have 2 different dataframes.\n",
    "\n",
    "2. Reading the code structure, it seems that the proper code for #5.4 is:\n",
    "    total_omicron_2021 = list(zip(df.index, df))\n",
    "\n",
    "3. Replace variable 'missing' with 'total_omicron_2021' so it looks like this:\n",
    "    \n",
    "    #5.5\n",
    "    df7 = pd.DataFrame(sorted(total_omicron_2021, key=lambda x: x[1], reverse=True))\n",
    "\n",
    "\n",
    "\"\"\"\n",
    "\n",
    "\n",
    "\n"
   ]
  },
  {
   "cell_type": "markdown",
   "id": "uV6K5AkAfDET",
   "metadata": {
    "id": "uV6K5AkAfDET"
   },
   "source": [
    "#### `5a - code you found from last year's excercise `"
   ]
  },
  {
   "cell_type": "code",
   "execution_count": 225,
   "id": "qUkhMZD8T40i",
   "metadata": {
    "id": "qUkhMZD8T40i"
   },
   "outputs": [
    {
     "name": "stdout",
     "output_type": "stream",
     "text": [
      "                 0      1\n",
      "0   United Kingdom  52456\n",
      "1    United States  24681\n",
      "2          Denmark   3331\n",
      "3          Germany   1701\n",
      "4           Israel   1578\n",
      "..             ...    ...\n",
      "59         Vietnam      1\n",
      "60         Moldova      0\n",
      "61          Monaco      0\n",
      "62           Nepal      0\n",
      "63     South Korea      0\n",
      "\n",
      "[64 rows x 2 columns]\n"
     ]
    }
   ],
   "source": [
    "#=> I of III - broken code last year\n",
    "\n",
    "import pandas as pd\n",
    "import numpy as np\n",
    "\n",
    "file_url = \"https://raw.githubusercontent.com/cosc-526/home.page/main/data.M.1.assignment.covid.data.csv\"\n",
    "df = pd.read_csv(file_url)\n",
    "\n",
    "\n",
    "# format float number to display only 1 decimal place\n",
    "pd.set_option('display.float_format', lambda x: '%.2f' % x)\n",
    "\n",
    "total_omicron_2021 = []\n",
    "#5.1\n",
    "df = df.set_index(\"location\")\n",
    "#5.2\n",
    "df = df.loc[df[\"date\"] == \"2021-12-27\"]\n",
    "#5.3\n",
    "df = df.loc[df[\"variant\"] == \"Omicron\"]\n",
    "\n",
    "#5.3\n",
    "df = df[\"num_sequences\"]\n",
    "\n",
    "#5.4\n",
    "total_omicron_2021 = list(zip(df.index, df))\n",
    "\n",
    "#5.5\n",
    "df7 = pd.DataFrame(sorted(total_omicron_2021, key=lambda x: x[1], reverse=True))\n",
    "print(df7)"
   ]
  },
  {
   "cell_type": "markdown",
   "id": "dzXyv7kGZlBP",
   "metadata": {
    "id": "dzXyv7kGZlBP"
   },
   "source": [
    "##### **`5a - Expected Outcome`**  \n"
   ]
  },
  {
   "cell_type": "markdown",
   "id": "g1qcVGxqavtv",
   "metadata": {
    "id": "g1qcVGxqavtv"
   },
   "source": [
    "```\n",
    "0\t                1\n",
    "0\tUnited Kingdom\t52456\n",
    "1\tUnited States\t  24681\n",
    "2\tDenmark\t        3331\n",
    "3\tGermany\t        1701\n",
    "4\tIsrael\t        1578\n",
    "...\t...\t...\n",
    "59\tVietnam\t      1\n",
    "60\tMoldova\t      0\n",
    "61\tMonaco\t      0\n",
    "62\tNepal\t        0\n",
    "63\tSouth Korea \t0\n",
    "64 rows × 2 columns\n",
    "```"
   ]
  },
  {
   "cell_type": "markdown",
   "id": "5G3szw10bNTr",
   "metadata": {
    "id": "5G3szw10bNTr"
   },
   "source": [
    "#### `5b - code you found from last year's excercise `"
   ]
  },
  {
   "cell_type": "code",
   "execution_count": 227,
   "id": "6cf6efa9",
   "metadata": {
    "id": "6cf6efa9"
   },
   "outputs": [
    {
     "name": "stdout",
     "output_type": "stream",
     "text": [
      "{('United States', 'Alpha'): 11.520951617373877, ('United States', 'Delta'): 63.76796208057254, ('United States', 'Omicron'): 1.370817855027461}\n"
     ]
    }
   ],
   "source": [
    "#=> II of III - broken code last year\n",
    "\n",
    "import pandas as pd\n",
    "import numpy as np\n",
    "\n",
    "file_url = \"https://raw.githubusercontent.com/cosc-526/home.page/main/data.M.1.assignment.covid.data.csv\"\n",
    "df = pd.read_csv(file_url)\n",
    "\n",
    "\n",
    "proc_seq_us = {}\n",
    "df2 = df.groupby([\"location\", \"variant\"]).aggregate({\n",
    "    \"num_sequences\": \"sum\",\n",
    "    \"num_sequences_total\": \"sum\",\n",
    "})\n",
    "df2[\"perc_sequences\"] = (df2[\"num_sequences\"] / df2[\"num_sequences_total\"]) * 100\n",
    "#df2 = df2.loc[(\"United States\", [\"Alpha\", \"Delta\", \"Omicron\"]), :].loc[\"United States\"]\n",
    "df2.query(\"location in ('United States') and variant in ('Alpha','Delta','Omicron')\", inplace=True)\n",
    "\n",
    "df2 = df2[\"perc_sequences\"]\n",
    "proc_seq_us = df2.to_dict()\n",
    "print(proc_seq_us)"
   ]
  },
  {
   "cell_type": "markdown",
   "id": "NfYB_LjbZ_zq",
   "metadata": {
    "id": "NfYB_LjbZ_zq"
   },
   "source": [
    "##### **`5b - Expected Outcome`**  \n"
   ]
  },
  {
   "cell_type": "markdown",
   "id": "_TI3iusnbUbO",
   "metadata": {
    "id": "_TI3iusnbUbO"
   },
   "source": [
    "```\n",
    "{'Alpha': 11.520951617373877, 'Delta': 63.76796208057254, \n",
    "                                                'Omicron': 1.370817855027461}\n",
    "```"
   ]
  },
  {
   "cell_type": "markdown",
   "id": "ySKYi-77bbXc",
   "metadata": {
    "id": "ySKYi-77bbXc"
   },
   "source": [
    "#### `5c - code you found from last year's excercise `"
   ]
  },
  {
   "cell_type": "code",
   "execution_count": 217,
   "id": "ilcLFMXTW9jG",
   "metadata": {
    "colab": {
     "base_uri": "https://localhost:8080/"
    },
    "id": "ilcLFMXTW9jG",
    "outputId": "2b827e05-e959-4580-861d-518facb7c1c3"
   },
   "outputs": [
    {
     "name": "stdout",
     "output_type": "stream",
     "text": [
      "                 0      1\n",
      "0   United Kingdom  52456\n",
      "1    United States  24681\n",
      "2          Denmark   3331\n",
      "3          Germany   1701\n",
      "4           Israel   1578\n",
      "..             ...    ...\n",
      "59         Vietnam      1\n",
      "60         Moldova      0\n",
      "61          Monaco      0\n",
      "62           Nepal      0\n",
      "63     South Korea      0\n",
      "\n",
      "[64 rows x 2 columns]\n",
      "[('United Kingdom', 52456), ('United States', 24681), ('Denmark', 3331), ('Germany', 1701), ('Israel', 1578), ('Australia', 1319), ('Switzerland', 514), ('France', 509), ('Italy', 486), ('Belgium', 464), ('Spain', 461), ('Sweden', 434), ('Chile', 260), ('Netherlands', 254), ('Singapore', 249), ('Mexico', 240), ('Turkey', 202), ('India', 174), ('Brazil', 147), ('Botswana', 142), ('Indonesia', 128), ('Japan', 118), ('Portugal', 118), ('Argentina', 80), ('New Zealand', 63), ('South Africa', 61), ('Lithuania', 50), ('Czechia', 49), ('Georgia', 46), ('Russia', 45), ('Colombia', 37), ('Sri Lanka', 37), ('Hong Kong', 35), ('Malta', 34), ('Poland', 28), ('Ecuador', 26), ('Canada', 25), ('Jordan', 22), ('Malawi', 21), ('Cambodia', 18), ('Norway', 17), ('Morocco', 15), ('Senegal', 15), ('Costa Rica', 14), ('Pakistan', 11), ('Nigeria', 10), ('Peru', 10), ('Brunei', 8), ('Slovakia', 8), ('Trinidad and Tobago', 8), ('Maldives', 7), ('Zambia', 7), ('Thailand', 6), ('Malaysia', 5), ('Bangladesh', 4), ('Romania', 3), ('Iran', 1), ('Oman', 1), ('Ukraine', 1), ('Vietnam', 1), ('Moldova', 0), ('Monaco', 0), ('Nepal', 0), ('South Korea', 0)]\n"
     ]
    }
   ],
   "source": [
    "#=> III of III - broken code last year\n",
    "\n",
    "import pandas as pd\n",
    "import numpy as np\n",
    "\n",
    "file_url = \"https://raw.githubusercontent.com/cosc-526/home.page/main/data.M.1.assignment.covid.data.csv\"\n",
    "df = pd.read_csv(file_url)\n",
    "\n",
    "total_omicron_2021 = []\n",
    "#5.1\n",
    "df6 = df6.set_index(\"location\")\n",
    "#5.2\n",
    "df6 = df6.loc[df6[\"date\"] == \"2021-12-27\"]\n",
    "#5.3#\n",
    "df6 = df6.loc[df6[\"variant\"] == \"Omicron\"]\n",
    "#5.3\n",
    "df6 = df6[\"num_sequences\"]\n",
    "#5.4\n",
    "total_omicron_2021 = list(zip(df6.index, df6))\n",
    "#5.5\n",
    "df7 = pd.DataFrame(sorted(total_omicron_2021, key=lambda x: x[1], reverse=True))\n",
    "print(df7)\n",
    "total_omicron_2021 = sorted(total_omicron_2021, key=lambda x: x[1], reverse=True)\n",
    "print(total_omicron_2021)\n"
   ]
  },
  {
   "cell_type": "markdown",
   "id": "x3c3REubaSEx",
   "metadata": {
    "id": "x3c3REubaSEx"
   },
   "source": [
    "##### **`5c - Expected Outcome`**  \n"
   ]
  },
  {
   "cell_type": "markdown",
   "id": "2JNdnFwTap_f",
   "metadata": {
    "id": "2JNdnFwTap_f"
   },
   "source": [
    "```\n",
    "                 0      1\n",
    "0   United Kingdom  52456\n",
    "1    United States  24681\n",
    "2          Denmark   3331\n",
    "3          Germany   1701\n",
    "4           Israel   1578\n",
    "..             ...    ...\n",
    "59         Vietnam      1\n",
    "60         Moldova      0\n",
    "61          Monaco      0\n",
    "62           Nepal      0\n",
    "63     South Korea      0\n",
    "[64 rows x 2 columns]\n",
    "\n",
    "#[('United Kingdom', 52456), ('United States', 24681), ('Denmark', 3331),\n",
    " ('Germany', 1701), ('Israel', 1578), ('Australia', 1319), ('Switzerland', 514),\n",
    "  ('France', 509), ('Italy', 486), ('Belgium', 464), ('Spain', 461), \n",
    "  ('Sweden', 434), ('Chile', 260), ('Netherlands', 254), ('Singapore', 249),\n",
    "  ('Mexico', 240), ('Turkey', 202), ('India', 174), ('Brazil', 147),\n",
    "   ('Botswana', 142), ('Indonesia', 128), ('Japan', 118), ('Portugal', 118),\n",
    "    ('Argentina', 80), ('New Zealand', 63), ('South Africa', 61), \n",
    "    ('Lithuania', 50), ('Czechia', 49), ('Georgia', 46), ('Russia', 45), \n",
    "    ('Colombia', 37), ('Sri Lanka', 37), ('Hong Kong', 35), ('Malta', 34),\n",
    "     ('Poland', 28), ('Ecuador', 26), ('Canada', 25), ('Jordan', 22), \n",
    "     ('Malawi', 21), ('Cambodia', 18), ('Norway', 17), ('Morocco', 15), \n",
    "     ('Senegal', 15), ('Costa Rica', 14), ('Pakistan', 11), ('Nigeria', 10),\n",
    "      ('Peru', 10), ('Brunei', 8), ('Slovakia', 8), ('Trinidad and Tobago', 8),\n",
    "       ('Maldives', 7), ('Zambia', 7), ('Thailand', 6), ('Malaysia', 5), \n",
    "       ('Bangladesh', 4), ('Romania', 3), ('Iran', 1), ('Oman', 1),\n",
    "        ('Ukraine', 1), ('Vietnam', 1), ('Moldova', 0), ('Monaco', 0), \n",
    "        ('Nepal', 0), ('South Korea', 0)]\n",
    "```"
   ]
  },
  {
   "cell_type": "markdown",
   "id": "kjA00fVqPjEm",
   "metadata": {
    "id": "kjA00fVqPjEm"
   },
   "source": [
    "## `M.1. Wrap.up and Housekeeping`"
   ]
  },
  {
   "cell_type": "code",
   "execution_count": null,
   "id": "2DzgneXkPhuC",
   "metadata": {
    "id": "2DzgneXkPhuC"
   },
   "outputs": [],
   "source": [
    "#from google.colab import drive\n",
    "#drive.flush_and_unmount()\n",
    "\n",
    "##=>Perform A,B,C when done with spark\n",
    "#A: \n",
    "#=> Close the SparkSession\n",
    "spark.stop()\n",
    "\n",
    "#B:\n",
    "#=> Disconnect and stop Spark in a Jupyter Notebook,\n",
    "#=> stops SparkContext and releases its resourcs\n",
    "sc.stop()\n",
    "\n",
    "#C: \n",
    "#=> Confirm Spark termination by checking the Spark UI\n",
    "#=> Access UI by visiting URL provided in Notebook output where Spark fireup"
   ]
  },
  {
   "cell_type": "markdown",
   "id": "QuEPQ9tfwvRH",
   "metadata": {
    "id": "QuEPQ9tfwvRH"
   },
   "source": [
    "# `<end.M1` ~ `M1.end>`\n",
    "-------------"
   ]
  }
 ],
 "metadata": {
  "colab": {
   "collapsed_sections": [
    "el9sjRdm9gjv",
    "7o91Ig5QKVif",
    "MqZm_iFTPI7f",
    "JfIew_dgmpCQ",
    "kRoOscDyqoCO",
    "wcrKuRsWXUW1",
    "913dpFR0Fp1E",
    "kjA00fVqPjEm"
   ],
   "provenance": []
  },
  "kernelspec": {
   "display_name": "Python 3 (ipykernel)",
   "language": "python",
   "name": "python3"
  },
  "language_info": {
   "codemirror_mode": {
    "name": "ipython",
    "version": 3
   },
   "file_extension": ".py",
   "mimetype": "text/x-python",
   "name": "python",
   "nbconvert_exporter": "python",
   "pygments_lexer": "ipython3",
   "version": "3.10.9"
  }
 },
 "nbformat": 4,
 "nbformat_minor": 5
}
